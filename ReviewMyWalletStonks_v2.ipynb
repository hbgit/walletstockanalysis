{
  "nbformat": 4,
  "nbformat_minor": 0,
  "metadata": {
    "colab": {
      "provenance": [],
      "authorship_tag": "ABX9TyNwSrvE/GjTiAMC14J0qpFn",
      "include_colab_link": true
    },
    "kernelspec": {
      "name": "python3",
      "display_name": "Python 3"
    },
    "language_info": {
      "name": "python"
    }
  },
  "cells": [
    {
      "cell_type": "markdown",
      "metadata": {
        "id": "view-in-github",
        "colab_type": "text"
      },
      "source": [
        "<a href=\"https://colab.research.google.com/github/hbgit/walletstockanalysis/blob/main/ReviewMyWalletStonks_v2.ipynb\" target=\"_parent\"><img src=\"https://colab.research.google.com/assets/colab-badge.svg\" alt=\"Open In Colab\"/></a>"
      ]
    },
    {
      "cell_type": "code",
      "source": [
        "!pip install yfinance"
      ],
      "metadata": {
        "colab": {
          "base_uri": "https://localhost:8080/"
        },
        "id": "-LPJcwpv2Svi",
        "outputId": "172fccc5-56f5-48d2-c46e-02dce216c24d"
      },
      "execution_count": 1,
      "outputs": [
        {
          "output_type": "stream",
          "name": "stdout",
          "text": [
            "Looking in indexes: https://pypi.org/simple, https://us-python.pkg.dev/colab-wheels/public/simple/\n",
            "Collecting yfinance\n",
            "  Downloading yfinance-0.1.86-py2.py3-none-any.whl (29 kB)\n",
            "Requirement already satisfied: pandas>=0.24.0 in /usr/local/lib/python3.7/dist-packages (from yfinance) (1.3.5)\n",
            "Requirement already satisfied: lxml>=4.5.1 in /usr/local/lib/python3.7/dist-packages (from yfinance) (4.9.1)\n",
            "Requirement already satisfied: numpy>=1.15 in /usr/local/lib/python3.7/dist-packages (from yfinance) (1.21.6)\n",
            "Collecting requests>=2.26\n",
            "  Downloading requests-2.28.1-py3-none-any.whl (62 kB)\n",
            "\u001b[K     |████████████████████████████████| 62 kB 1.3 MB/s \n",
            "\u001b[?25hRequirement already satisfied: multitasking>=0.0.7 in /usr/local/lib/python3.7/dist-packages (from yfinance) (0.0.11)\n",
            "Requirement already satisfied: appdirs>=1.4.4 in /usr/local/lib/python3.7/dist-packages (from yfinance) (1.4.4)\n",
            "Requirement already satisfied: pytz>=2017.3 in /usr/local/lib/python3.7/dist-packages (from pandas>=0.24.0->yfinance) (2022.6)\n",
            "Requirement already satisfied: python-dateutil>=2.7.3 in /usr/local/lib/python3.7/dist-packages (from pandas>=0.24.0->yfinance) (2.8.2)\n",
            "Requirement already satisfied: six>=1.5 in /usr/local/lib/python3.7/dist-packages (from python-dateutil>=2.7.3->pandas>=0.24.0->yfinance) (1.15.0)\n",
            "Requirement already satisfied: idna<4,>=2.5 in /usr/local/lib/python3.7/dist-packages (from requests>=2.26->yfinance) (2.10)\n",
            "Requirement already satisfied: certifi>=2017.4.17 in /usr/local/lib/python3.7/dist-packages (from requests>=2.26->yfinance) (2022.9.24)\n",
            "Requirement already satisfied: charset-normalizer<3,>=2 in /usr/local/lib/python3.7/dist-packages (from requests>=2.26->yfinance) (2.1.1)\n",
            "Requirement already satisfied: urllib3<1.27,>=1.21.1 in /usr/local/lib/python3.7/dist-packages (from requests>=2.26->yfinance) (1.24.3)\n",
            "Installing collected packages: requests, yfinance\n",
            "  Attempting uninstall: requests\n",
            "    Found existing installation: requests 2.23.0\n",
            "    Uninstalling requests-2.23.0:\n",
            "      Successfully uninstalled requests-2.23.0\n",
            "Successfully installed requests-2.28.1 yfinance-0.1.86\n"
          ]
        }
      ]
    },
    {
      "cell_type": "code",
      "source": [
        "import yfinance as yf\n",
        "import pandas as pd\n",
        "import numpy as np\n",
        "import json\n",
        "# Import the plotting library\n",
        "import matplotlib.pyplot as plt\n",
        "%matplotlib inline\n",
        "\n",
        "import plotly.express as px"
      ],
      "metadata": {
        "id": "Hu14zc-xvL5u"
      },
      "execution_count": 2,
      "outputs": []
    },
    {
      "cell_type": "code",
      "source": [
        "#PRIO3 = yf.Ticker(\"PRIO3.SA\")\n",
        "PRIO3 = yf.Ticker(\"VOO\")\n",
        "print(PRIO3.info)"
      ],
      "metadata": {
        "id": "gvauK4gZi4fx",
        "colab": {
          "base_uri": "https://localhost:8080/"
        },
        "outputId": "5542d7ed-3661-4e7c-b57c-20a2fc075ceb"
      },
      "execution_count": 3,
      "outputs": [
        {
          "output_type": "stream",
          "name": "stdout",
          "text": [
            "{'exchange': 'PCX', 'shortName': 'Vanguard S&P 500 ETF', 'longName': 'Vanguard 500 Index Fund', 'exchangeTimezoneName': 'America/New_York', 'exchangeTimezoneShortName': 'EST', 'isEsgPopulated': False, 'gmtOffSetMilliseconds': '-18000000', 'quoteType': 'ETF', 'symbol': 'VOO', 'messageBoardId': 'finmb_28117396', 'market': 'us_market', 'annualHoldingsTurnover': None, 'enterpriseToRevenue': None, 'beta3Year': 1, 'profitMargins': None, 'enterpriseToEbitda': None, '52WeekChange': None, 'morningStarRiskRating': None, 'forwardEps': None, 'revenueQuarterlyGrowth': None, 'fundInceptionDate': 1283817600, 'annualReportExpenseRatio': None, 'totalAssets': 747471699968, 'bookValue': None, 'fundFamily': 'Vanguard', 'lastFiscalYearEnd': None, 'netIncomeToCommon': None, 'trailingEps': None, 'lastDividendValue': None, 'SandP52WeekChange': None, 'priceToBook': None, 'nextFiscalYearEnd': None, 'yield': 0.0164, 'mostRecentQuarter': None, 'enterpriseValue': None, 'priceHint': 2, 'threeYearAverageReturn': 0.1029, 'lastSplitDate': None, 'lastSplitFactor': None, 'legalType': 'Exchange Traded Fund', 'lastDividendDate': None, 'morningStarOverallRating': None, 'earningsQuarterlyGrowth': None, 'priceToSalesTrailing12Months': None, 'pegRatio': None, 'ytdReturn': None, 'forwardPE': None, 'maxAge': 1, 'lastCapGain': None, 'category': 'Large Blend', 'fiveYearAverageReturn': 0.108100004, 'phone': 'NA', 'longBusinessSummary': \"The fund employs an indexing investment approach designed to track the performance of the Standard & Poor's 500 Index, a widely recognized benchmark of U.S. stock market performance that is dominated by the stocks of large U.S. companies. The advisor attempts to replicate the target index by investing all, or substantially all, of its assets in the stocks that make up the index, holding each stock in approximately the same proportion as its weighting in the index.\", 'companyOfficers': [], 'previousClose': 363.22, 'regularMarketOpen': 368.65, 'twoHundredDayAverage': 374.17935, 'trailingAnnualDividendYield': 0.014968889, 'payoutRatio': None, 'volume24Hr': None, 'regularMarketDayHigh': 369.742, 'navPrice': 366.19, 'averageDailyVolume10Day': 4609750, 'regularMarketPreviousClose': 363.22, 'fiftyDayAverage': 347.886, 'trailingAnnualDividendRate': 5.437, 'open': 368.65, 'toCurrency': None, 'averageVolume10days': 4609750, 'expireDate': None, 'algorithm': None, 'dividendRate': None, 'exDividendDate': None, 'beta': None, 'circulatingSupply': None, 'startDate': None, 'regularMarketDayLow': 362.59, 'currency': 'USD', 'trailingPE': 13.840514, 'regularMarketVolume': 4583394, 'lastMarket': None, 'maxSupply': None, 'openInterest': None, 'marketCap': None, 'volumeAllCurrencies': None, 'strikePrice': None, 'averageVolume': 4684135, 'dayLow': 362.59, 'ask': 365.59, 'askSize': 800, 'volume': 4583394, 'fiftyTwoWeekHigh': 441.26, 'fromCurrency': None, 'fiveYearAvgDividendYield': None, 'fiftyTwoWeekLow': 319.87, 'bid': 365.49, 'tradeable': False, 'dividendYield': None, 'bidSize': 800, 'dayHigh': 369.742, 'coinMarketCapLink': None, 'preferredPosition': None, 'bondPosition': 0, 'convertiblePosition': None, 'sectorWeightings': [{'realestate': 0.0272}, {'consumer_cyclical': 0.10520001}, {'basic_materials': 0.0226}, {'consumer_defensive': 0.0733}, {'technology': 0.2345}, {'communication_services': 0.0731}, {'financial_services': 0.13520001}, {'utilities': 0.024300002}, {'industrials': 0.0863}, {'energy': 0.0533}, {'healthcare': 0.1531}], 'holdings': [{'symbol': 'AAPL', 'holdingName': 'Apple Inc', 'holdingPercent': 0.0592}, {'symbol': 'MSFT', 'holdingName': 'Microsoft Corp', 'holdingPercent': 0.056199998}, {'symbol': 'AMZN', 'holdingName': 'Amazon.com Inc', 'holdingPercent': 0.040599998}, {'symbol': 'FB', 'holdingName': 'Facebook Inc Class A', 'holdingPercent': 0.0229}, {'symbol': 'GOOGL', 'holdingName': 'Alphabet Inc Class A', 'holdingPercent': 0.0202}, {'symbol': 'GOOG', 'holdingName': 'Alphabet Inc Class C', 'holdingPercent': 0.0197}, {'symbol': 'BRK.B', 'holdingName': 'Berkshire Hathaway Inc Class B', 'holdingPercent': 0.014400001}, {'symbol': 'TSLA', 'holdingName': 'Tesla Inc', 'holdingPercent': 0.014400001}, {'symbol': 'NVDA', 'holdingName': 'NVIDIA Corp', 'holdingPercent': 0.0137}, {'symbol': 'JPM', 'holdingName': 'JPMorgan Chase & Co', 'holdingPercent': 0.012999999}], 'bondHoldings': {'maturity': None, 'duration': None, 'creditQuality': None, 'maturityCat': None, 'durationCat': None, 'creditQualityCat': None}, 'bondRatings': [{'bb': 0}, {'aa': 0}, {'aaa': 0}, {'a': 0}, {'other': 0}, {'b': 0}, {'bbb': 0}, {'below_b': 0}, {'us_government': 0}], 'equityHoldings': {'priceToCashflow': 17.57, 'priceToSales': 2.96, 'priceToBookCat': None, 'priceToEarningsCat': None, 'medianMarketCapCat': None, 'threeYearEarningsGrowthCat': None, 'threeYearEarningsGrowth': None, 'medianMarketCap': None, 'priceToEarnings': 18.45, 'priceToBook': 4.42, 'priceToSalesCat': None, 'priceToCashflowCat': None}, 'otherPosition': None, 'cashPosition': None, 'stockPosition': 0.9933, 'regularMarketPrice': 366.22, 'preMarketPrice': 368.71, 'logo_url': 'https://logo.clearbit.com/Vanguard.com', 'trailingPegRatio': None}\n"
          ]
        }
      ]
    },
    {
      "cell_type": "markdown",
      "source": [
        "**Stock Wallet**"
      ],
      "metadata": {
        "id": "fw21KVE2yWNr"
      }
    },
    {
      "cell_type": "code",
      "source": [
        "ticket_company_shares = ['ABBV','PEP','PLD','KO','STOR','PRU','MSFT','VZ','T','GOOGL','AMZN']"
      ],
      "metadata": {
        "id": "aSJiBnu8lFkU"
      },
      "execution_count": 4,
      "outputs": []
    },
    {
      "cell_type": "code",
      "source": [
        "#earningsGrowth; yield; totalRevenue\n",
        "metric_company_shares = [\n",
        "    'marketCap',\n",
        "    'revenueGrowth',\n",
        "    'pegRatio',\n",
        "    'returnOnAssets',\n",
        "    'returnOnEquity',\n",
        "    'profitMargins',\n",
        "    'currentRatio',\n",
        "    'debtToEquity',\n",
        "    'payoutRatio',\n",
        "    'recommendationMean',\n",
        "    'recommendationKey',\n",
        "    'totalDebt',\n",
        "    'sector',\n",
        "    'dividendYield',\n",
        "    'averageVolume',\n",
        "    'totalRevenue'\n",
        "]"
      ],
      "metadata": {
        "id": "x0JDdoRflFmv"
      },
      "execution_count": 5,
      "outputs": []
    },
    {
      "cell_type": "code",
      "source": [
        "df = pd.DataFrame(index=ticket_company_shares,columns=metric_company_shares)"
      ],
      "metadata": {
        "id": "izOxcu6RlFpX"
      },
      "execution_count": 6,
      "outputs": []
    },
    {
      "cell_type": "code",
      "source": [
        "def get_fundamental_data(df):\n",
        "  for symbol in df.index:\n",
        "    get_sym_info = yf.Ticker(symbol)\n",
        "    print(\"Getting symbol: \" + symbol)    \n",
        "    for metric in df.columns:        \n",
        "      #print(get_sym_info.info[metric])\n",
        "      df.loc[symbol,metric] = get_sym_info.info[metric]    \n",
        "  return df\n",
        "      "
      ],
      "metadata": {
        "id": "0O2x5XEO4ICT"
      },
      "execution_count": 7,
      "outputs": []
    },
    {
      "cell_type": "code",
      "source": [
        "# Defining rules to check fundamentals\n",
        "# gt -> great than >= \n",
        "rulesFundmentals_gt_company_shares = {\n",
        "    'marketCap' : 200000000000,\n",
        "    'revenueGrowth' : 0.052,\n",
        "    'pegRatio' : 2.0,\n",
        "    'returnOnAssets' : 0.08000,\n",
        "    'returnOnEquity' : 0.20000,\n",
        "    'profitMargins' : 0.11282,\n",
        "    'currentRatio' : 1.0,\n",
        "    'debtToEquity' : 11.00,   \n",
        "    'averageVolume' : 1700000\n",
        "}"
      ],
      "metadata": {
        "id": "HPW5NbsoHllz"
      },
      "execution_count": 8,
      "outputs": []
    },
    {
      "cell_type": "code",
      "source": [
        "df = get_fundamental_data(df)"
      ],
      "metadata": {
        "id": "l5VU2ENL5oHF",
        "colab": {
          "base_uri": "https://localhost:8080/"
        },
        "outputId": "657747d5-7e54-4f8f-b500-9d7602ec497c"
      },
      "execution_count": 9,
      "outputs": [
        {
          "output_type": "stream",
          "name": "stdout",
          "text": [
            "Getting symbol: ABBV\n",
            "Getting symbol: PEP\n",
            "Getting symbol: PLD\n",
            "Getting symbol: KO\n",
            "Getting symbol: STOR\n",
            "Getting symbol: PRU\n",
            "Getting symbol: MSFT\n",
            "Getting symbol: VZ\n",
            "Getting symbol: T\n",
            "Getting symbol: GOOGL\n",
            "Getting symbol: AMZN\n"
          ]
        }
      ]
    },
    {
      "cell_type": "code",
      "source": [
        "# Print Bar Chart\n",
        "def print_bar_chart_from_json(json_file):\n",
        "  print(json_file)\n",
        "  #s = pd.Series(json_file, name='DateValue')\n",
        "  df = pd.DataFrame(json_file.items(), columns=['Ticket', 'Value'])\n",
        "  fig = px.bar(df, x='Ticket', y='Value',\n",
        "             color='Value',\n",
        "             labels={'pop':'population of Canada'}, height=400)\n",
        "  fig.show()\n"
      ],
      "metadata": {
        "id": "iBwAwMaoDZ2h"
      },
      "execution_count": 10,
      "outputs": []
    },
    {
      "cell_type": "code",
      "source": [
        "def check_peformace_last_months(list_symbol):\n",
        "    # Collect data from the last 6 months  \n",
        "    #print(list_symbol)  \n",
        "    data = yf.download(list_symbol,period = \"6mo\")['Adj Close']\n",
        "    flag_series = False\n",
        "   \n",
        "    if type(data) is pd.Series:\n",
        "      flag_series = True\n",
        "      single_symbol = list_symbol[0]\n",
        "      data = pd.DataFrame({'Date':data.index, single_symbol:data.values})\n",
        "      #set column as index\n",
        "      data = data.set_index('Date')\n",
        "\n",
        "    # https://capitalresearch.com.br/blog/calcular-rentabilidade/\n",
        "    # Return  \n",
        "    dict_return = {}  \n",
        "    for symbol in data.columns:\n",
        "      if not pd.isna(data[symbol].iloc[0]):\n",
        "        dict_return[symbol] = ((data[symbol].iloc[-1]/data[symbol].iloc[0])*100)-100\n",
        "      else:\n",
        "        dict_return[symbol] = ((data[symbol].iloc[-1]/data[symbol].iloc[1])*100)-100\n",
        "\n",
        "    print(dict_return)\n",
        "    worst_return = {}\n",
        "    flag_has_bad_return = False\n",
        "    for e in dict_return.keys():\n",
        "      if dict_return[e] <= -20.00:\n",
        "        flag_has_bad_return = True\n",
        "        worst_return[e] = dict_return[e]\n",
        "    \n",
        "    #print(json.dumps(worst_return, sort_keys=True, indent=4))\n",
        "    if flag_has_bad_return:\n",
        "      print_bar_chart_from_json(worst_return)\n",
        "\n",
        "    # ----------------- Plot all the close prices  ----------------- \n",
        "    # Pandas dataframe. pct_change() function calculates the percentage change between the current and a prior element.\n",
        "    # Return cumulative product over a DataFrame or Series axis.\n",
        "    # The next step is to calculate the simple daily returns of the stocks. The formula to calculate this rate is to divide each day by the previous day minus 1.   \n",
        "    df = (data.pct_change()+1).cumprod()\n",
        "    if not flag_series:\n",
        "      df = df.reset_index()\n",
        "      fig = px.line(df, x=\"Date\", y=df.columns)\n",
        "      fig.show()\n",
        "    else:      \n",
        "      df = df.reset_index()\n",
        "      fig = px.line(df, x=\"Date\", y=single_symbol)\n",
        "      fig.show()\n",
        "    \n",
        "    "
      ],
      "metadata": {
        "id": "gQWzCp81HqOi"
      },
      "execution_count": 11,
      "outputs": []
    },
    {
      "cell_type": "code",
      "source": [
        "def check_fundamentals_data_shares(df, dict_rules_fundamentals):  \n",
        "  \n",
        "  rules_broken_by_symbol = []\n",
        "  metric_broken_by_symbol = {}\n",
        "\n",
        "  for symbol in df.index:\n",
        "    count_broken_rules = 0\n",
        "    tmp_metrics = []         \n",
        "    \n",
        "    for metric in df.columns:                                               \n",
        "      if metric in dict_rules_fundamentals:                        \n",
        "        if df.loc[symbol,metric] is not None:                        \n",
        "          if df.loc[symbol,metric] < dict_rules_fundamentals[metric]:\n",
        "            count_broken_rules += 1 \n",
        "            tmp_metrics.append(df.loc[symbol,metric])\n",
        "            tmp_metrics.append(dict_rules_fundamentals[metric])              \n",
        "            metric_broken_by_symbol[symbol] = tmp_metrics\n",
        "          if metric == \"payoutRatio\":\n",
        "            if df.loc[symbol,metric] > 1.0:\n",
        "              count_broken_rules += 1\n",
        "              tmp_metrics.append(df.loc[symbol,metric])\n",
        "              tmp_metrics.append(dict_rules_fundamentals[metric])              \n",
        "              metric_broken_by_symbol[symbol] = tmp_metrics\n",
        "          if metric == \"recommendationKey\":\n",
        "            if df.loc[symbol,metric] ==  \"sell\":\n",
        "              count_broken_rules += 1\n",
        "              tmp_metrics.append(df.loc[symbol,metric])\n",
        "              tmp_metrics.append(dict_rules_fundamentals[metric])              \n",
        "              metric_broken_by_symbol[symbol] = tmp_metrics\n",
        "            elif df.loc[symbol,metric] ==  \"hold\":\n",
        "              if df.loc[symbol,\"recommendationMean\"] > 3.5:\n",
        "                count_broken_rules += 1\n",
        "                tmp_metrics.append(df.loc[symbol,\"recommendationMean\"])\n",
        "                tmp_metrics.append(3.6)   \n",
        "\n",
        "      if count_broken_rules >= 3: # number of rules that was broken        \n",
        "        rules_broken_by_symbol.append(symbol)\n",
        "      else:\n",
        "        if symbol in metric_broken_by_symbol.keys():\n",
        "          metric_broken_by_symbol.pop(symbol) \n",
        "    \n",
        "    #try:      \n",
        "    #except Exception as e:\n",
        "    #  print (symbol, 'not found')\n",
        "\n",
        "  # Useful data\n",
        "  print(\"Stocks that broken the rules: \")  \n",
        "  print(json.dumps(metric_broken_by_symbol, sort_keys=True, indent=4))\n",
        "  check_peformace_last_months(rules_broken_by_symbol)\n"
      ],
      "metadata": {
        "id": "UR7szI03lFsA"
      },
      "execution_count": 12,
      "outputs": []
    },
    {
      "cell_type": "code",
      "source": [
        "check_fundamentals_data_shares(df, rulesFundmentals_gt_company_shares)"
      ],
      "metadata": {
        "colab": {
          "base_uri": "https://localhost:8080/",
          "height": 1000
        },
        "id": "xQRpszEZROuH",
        "outputId": "eeab8219-e274-49df-c7d9-3b63f3c3daf1"
      },
      "execution_count": 13,
      "outputs": [
        {
          "output_type": "stream",
          "name": "stdout",
          "text": [
            "Stocks that broken the rules: \n",
            "{\n",
            "    \"ABBV\": [\n",
            "        0.033,\n",
            "        0.052,\n",
            "        -27.35,\n",
            "        2.0,\n",
            "        0.928,\n",
            "        1.0\n",
            "    ],\n",
            "    \"AMZN\": [\n",
            "        -42.09,\n",
            "        2.0,\n",
            "        0.02,\n",
            "        0.08,\n",
            "        0.08776,\n",
            "        0.2,\n",
            "        0.022550002,\n",
            "        0.11282,\n",
            "        0.937,\n",
            "        1.0\n",
            "    ],\n",
            "    \"PLD\": [\n",
            "        104076812288,\n",
            "        200000000000,\n",
            "        -5.22,\n",
            "        2.0,\n",
            "        0.02723,\n",
            "        0.08,\n",
            "        0.11095,\n",
            "        0.2\n",
            "    ],\n",
            "    \"PRU\": [\n",
            "        39710879744,\n",
            "        200000000000,\n",
            "        -0.054,\n",
            "        0.052,\n",
            "        -2.24,\n",
            "        2.0,\n",
            "        -0.00027000002,\n",
            "        0.08,\n",
            "        0.00843,\n",
            "        0.2,\n",
            "        0.0053399997,\n",
            "        0.11282\n",
            "    ],\n",
            "    \"STOR\": [\n",
            "        8961146880,\n",
            "        200000000000,\n",
            "        0.03208,\n",
            "        0.08,\n",
            "        0.06142,\n",
            "        0.2\n",
            "    ],\n",
            "    \"T\": [\n",
            "        135555547136,\n",
            "        200000000000,\n",
            "        -0.041,\n",
            "        0.052,\n",
            "        -1.6,\n",
            "        2.0,\n",
            "        0.04249,\n",
            "        0.08,\n",
            "        0.119219996,\n",
            "        0.2,\n",
            "        0.618,\n",
            "        1.0\n",
            "    ],\n",
            "    \"VZ\": [\n",
            "        158333222912,\n",
            "        200000000000,\n",
            "        0.04,\n",
            "        0.052,\n",
            "        0.04591,\n",
            "        0.08,\n",
            "        0.748,\n",
            "        1.0\n",
            "    ]\n",
            "}\n",
            "[*********************100%***********************]  7 of 7 completed\n",
            "{'ABBV': 0.3687562420067252, 'AMZN': -10.712431168107969, 'PLD': -8.756480209268318, 'PRU': 9.394007080920758, 'STOR': 19.104217847835045, 'T': -3.2758695945270944, 'VZ': -20.844914860557125}\n",
            "{'VZ': -20.844914860557125}\n"
          ]
        },
        {
          "output_type": "display_data",
          "data": {
            "text/html": [
              "<html>\n",
              "<head><meta charset=\"utf-8\" /></head>\n",
              "<body>\n",
              "    <div>            <script src=\"https://cdnjs.cloudflare.com/ajax/libs/mathjax/2.7.5/MathJax.js?config=TeX-AMS-MML_SVG\"></script><script type=\"text/javascript\">if (window.MathJax) {MathJax.Hub.Config({SVG: {font: \"STIX-Web\"}});}</script>                <script type=\"text/javascript\">window.PlotlyConfig = {MathJaxConfig: 'local'};</script>\n",
              "        <script src=\"https://cdn.plot.ly/plotly-2.8.3.min.js\"></script>                <div id=\"17e96fcd-b64b-42fc-a864-157d1044ee12\" class=\"plotly-graph-div\" style=\"height:400px; width:100%;\"></div>            <script type=\"text/javascript\">                                    window.PLOTLYENV=window.PLOTLYENV || {};                                    if (document.getElementById(\"17e96fcd-b64b-42fc-a864-157d1044ee12\")) {                    Plotly.newPlot(                        \"17e96fcd-b64b-42fc-a864-157d1044ee12\",                        [{\"alignmentgroup\":\"True\",\"hovertemplate\":\"Ticket=%{x}<br>Value=%{marker.color}<extra></extra>\",\"legendgroup\":\"\",\"marker\":{\"color\":[-20.844914860557125],\"coloraxis\":\"coloraxis\",\"pattern\":{\"shape\":\"\"}},\"name\":\"\",\"offsetgroup\":\"\",\"orientation\":\"v\",\"showlegend\":false,\"textposition\":\"auto\",\"x\":[\"VZ\"],\"xaxis\":\"x\",\"y\":[-20.844914860557125],\"yaxis\":\"y\",\"type\":\"bar\"}],                        {\"template\":{\"data\":{\"bar\":[{\"error_x\":{\"color\":\"#2a3f5f\"},\"error_y\":{\"color\":\"#2a3f5f\"},\"marker\":{\"line\":{\"color\":\"#E5ECF6\",\"width\":0.5},\"pattern\":{\"fillmode\":\"overlay\",\"size\":10,\"solidity\":0.2}},\"type\":\"bar\"}],\"barpolar\":[{\"marker\":{\"line\":{\"color\":\"#E5ECF6\",\"width\":0.5},\"pattern\":{\"fillmode\":\"overlay\",\"size\":10,\"solidity\":0.2}},\"type\":\"barpolar\"}],\"carpet\":[{\"aaxis\":{\"endlinecolor\":\"#2a3f5f\",\"gridcolor\":\"white\",\"linecolor\":\"white\",\"minorgridcolor\":\"white\",\"startlinecolor\":\"#2a3f5f\"},\"baxis\":{\"endlinecolor\":\"#2a3f5f\",\"gridcolor\":\"white\",\"linecolor\":\"white\",\"minorgridcolor\":\"white\",\"startlinecolor\":\"#2a3f5f\"},\"type\":\"carpet\"}],\"choropleth\":[{\"colorbar\":{\"outlinewidth\":0,\"ticks\":\"\"},\"type\":\"choropleth\"}],\"contour\":[{\"colorbar\":{\"outlinewidth\":0,\"ticks\":\"\"},\"colorscale\":[[0.0,\"#0d0887\"],[0.1111111111111111,\"#46039f\"],[0.2222222222222222,\"#7201a8\"],[0.3333333333333333,\"#9c179e\"],[0.4444444444444444,\"#bd3786\"],[0.5555555555555556,\"#d8576b\"],[0.6666666666666666,\"#ed7953\"],[0.7777777777777778,\"#fb9f3a\"],[0.8888888888888888,\"#fdca26\"],[1.0,\"#f0f921\"]],\"type\":\"contour\"}],\"contourcarpet\":[{\"colorbar\":{\"outlinewidth\":0,\"ticks\":\"\"},\"type\":\"contourcarpet\"}],\"heatmap\":[{\"colorbar\":{\"outlinewidth\":0,\"ticks\":\"\"},\"colorscale\":[[0.0,\"#0d0887\"],[0.1111111111111111,\"#46039f\"],[0.2222222222222222,\"#7201a8\"],[0.3333333333333333,\"#9c179e\"],[0.4444444444444444,\"#bd3786\"],[0.5555555555555556,\"#d8576b\"],[0.6666666666666666,\"#ed7953\"],[0.7777777777777778,\"#fb9f3a\"],[0.8888888888888888,\"#fdca26\"],[1.0,\"#f0f921\"]],\"type\":\"heatmap\"}],\"heatmapgl\":[{\"colorbar\":{\"outlinewidth\":0,\"ticks\":\"\"},\"colorscale\":[[0.0,\"#0d0887\"],[0.1111111111111111,\"#46039f\"],[0.2222222222222222,\"#7201a8\"],[0.3333333333333333,\"#9c179e\"],[0.4444444444444444,\"#bd3786\"],[0.5555555555555556,\"#d8576b\"],[0.6666666666666666,\"#ed7953\"],[0.7777777777777778,\"#fb9f3a\"],[0.8888888888888888,\"#fdca26\"],[1.0,\"#f0f921\"]],\"type\":\"heatmapgl\"}],\"histogram\":[{\"marker\":{\"pattern\":{\"fillmode\":\"overlay\",\"size\":10,\"solidity\":0.2}},\"type\":\"histogram\"}],\"histogram2d\":[{\"colorbar\":{\"outlinewidth\":0,\"ticks\":\"\"},\"colorscale\":[[0.0,\"#0d0887\"],[0.1111111111111111,\"#46039f\"],[0.2222222222222222,\"#7201a8\"],[0.3333333333333333,\"#9c179e\"],[0.4444444444444444,\"#bd3786\"],[0.5555555555555556,\"#d8576b\"],[0.6666666666666666,\"#ed7953\"],[0.7777777777777778,\"#fb9f3a\"],[0.8888888888888888,\"#fdca26\"],[1.0,\"#f0f921\"]],\"type\":\"histogram2d\"}],\"histogram2dcontour\":[{\"colorbar\":{\"outlinewidth\":0,\"ticks\":\"\"},\"colorscale\":[[0.0,\"#0d0887\"],[0.1111111111111111,\"#46039f\"],[0.2222222222222222,\"#7201a8\"],[0.3333333333333333,\"#9c179e\"],[0.4444444444444444,\"#bd3786\"],[0.5555555555555556,\"#d8576b\"],[0.6666666666666666,\"#ed7953\"],[0.7777777777777778,\"#fb9f3a\"],[0.8888888888888888,\"#fdca26\"],[1.0,\"#f0f921\"]],\"type\":\"histogram2dcontour\"}],\"mesh3d\":[{\"colorbar\":{\"outlinewidth\":0,\"ticks\":\"\"},\"type\":\"mesh3d\"}],\"parcoords\":[{\"line\":{\"colorbar\":{\"outlinewidth\":0,\"ticks\":\"\"}},\"type\":\"parcoords\"}],\"pie\":[{\"automargin\":true,\"type\":\"pie\"}],\"scatter\":[{\"marker\":{\"colorbar\":{\"outlinewidth\":0,\"ticks\":\"\"}},\"type\":\"scatter\"}],\"scatter3d\":[{\"line\":{\"colorbar\":{\"outlinewidth\":0,\"ticks\":\"\"}},\"marker\":{\"colorbar\":{\"outlinewidth\":0,\"ticks\":\"\"}},\"type\":\"scatter3d\"}],\"scattercarpet\":[{\"marker\":{\"colorbar\":{\"outlinewidth\":0,\"ticks\":\"\"}},\"type\":\"scattercarpet\"}],\"scattergeo\":[{\"marker\":{\"colorbar\":{\"outlinewidth\":0,\"ticks\":\"\"}},\"type\":\"scattergeo\"}],\"scattergl\":[{\"marker\":{\"colorbar\":{\"outlinewidth\":0,\"ticks\":\"\"}},\"type\":\"scattergl\"}],\"scattermapbox\":[{\"marker\":{\"colorbar\":{\"outlinewidth\":0,\"ticks\":\"\"}},\"type\":\"scattermapbox\"}],\"scatterpolar\":[{\"marker\":{\"colorbar\":{\"outlinewidth\":0,\"ticks\":\"\"}},\"type\":\"scatterpolar\"}],\"scatterpolargl\":[{\"marker\":{\"colorbar\":{\"outlinewidth\":0,\"ticks\":\"\"}},\"type\":\"scatterpolargl\"}],\"scatterternary\":[{\"marker\":{\"colorbar\":{\"outlinewidth\":0,\"ticks\":\"\"}},\"type\":\"scatterternary\"}],\"surface\":[{\"colorbar\":{\"outlinewidth\":0,\"ticks\":\"\"},\"colorscale\":[[0.0,\"#0d0887\"],[0.1111111111111111,\"#46039f\"],[0.2222222222222222,\"#7201a8\"],[0.3333333333333333,\"#9c179e\"],[0.4444444444444444,\"#bd3786\"],[0.5555555555555556,\"#d8576b\"],[0.6666666666666666,\"#ed7953\"],[0.7777777777777778,\"#fb9f3a\"],[0.8888888888888888,\"#fdca26\"],[1.0,\"#f0f921\"]],\"type\":\"surface\"}],\"table\":[{\"cells\":{\"fill\":{\"color\":\"#EBF0F8\"},\"line\":{\"color\":\"white\"}},\"header\":{\"fill\":{\"color\":\"#C8D4E3\"},\"line\":{\"color\":\"white\"}},\"type\":\"table\"}]},\"layout\":{\"annotationdefaults\":{\"arrowcolor\":\"#2a3f5f\",\"arrowhead\":0,\"arrowwidth\":1},\"autotypenumbers\":\"strict\",\"coloraxis\":{\"colorbar\":{\"outlinewidth\":0,\"ticks\":\"\"}},\"colorscale\":{\"diverging\":[[0,\"#8e0152\"],[0.1,\"#c51b7d\"],[0.2,\"#de77ae\"],[0.3,\"#f1b6da\"],[0.4,\"#fde0ef\"],[0.5,\"#f7f7f7\"],[0.6,\"#e6f5d0\"],[0.7,\"#b8e186\"],[0.8,\"#7fbc41\"],[0.9,\"#4d9221\"],[1,\"#276419\"]],\"sequential\":[[0.0,\"#0d0887\"],[0.1111111111111111,\"#46039f\"],[0.2222222222222222,\"#7201a8\"],[0.3333333333333333,\"#9c179e\"],[0.4444444444444444,\"#bd3786\"],[0.5555555555555556,\"#d8576b\"],[0.6666666666666666,\"#ed7953\"],[0.7777777777777778,\"#fb9f3a\"],[0.8888888888888888,\"#fdca26\"],[1.0,\"#f0f921\"]],\"sequentialminus\":[[0.0,\"#0d0887\"],[0.1111111111111111,\"#46039f\"],[0.2222222222222222,\"#7201a8\"],[0.3333333333333333,\"#9c179e\"],[0.4444444444444444,\"#bd3786\"],[0.5555555555555556,\"#d8576b\"],[0.6666666666666666,\"#ed7953\"],[0.7777777777777778,\"#fb9f3a\"],[0.8888888888888888,\"#fdca26\"],[1.0,\"#f0f921\"]]},\"colorway\":[\"#636efa\",\"#EF553B\",\"#00cc96\",\"#ab63fa\",\"#FFA15A\",\"#19d3f3\",\"#FF6692\",\"#B6E880\",\"#FF97FF\",\"#FECB52\"],\"font\":{\"color\":\"#2a3f5f\"},\"geo\":{\"bgcolor\":\"white\",\"lakecolor\":\"white\",\"landcolor\":\"#E5ECF6\",\"showlakes\":true,\"showland\":true,\"subunitcolor\":\"white\"},\"hoverlabel\":{\"align\":\"left\"},\"hovermode\":\"closest\",\"mapbox\":{\"style\":\"light\"},\"paper_bgcolor\":\"white\",\"plot_bgcolor\":\"#E5ECF6\",\"polar\":{\"angularaxis\":{\"gridcolor\":\"white\",\"linecolor\":\"white\",\"ticks\":\"\"},\"bgcolor\":\"#E5ECF6\",\"radialaxis\":{\"gridcolor\":\"white\",\"linecolor\":\"white\",\"ticks\":\"\"}},\"scene\":{\"xaxis\":{\"backgroundcolor\":\"#E5ECF6\",\"gridcolor\":\"white\",\"gridwidth\":2,\"linecolor\":\"white\",\"showbackground\":true,\"ticks\":\"\",\"zerolinecolor\":\"white\"},\"yaxis\":{\"backgroundcolor\":\"#E5ECF6\",\"gridcolor\":\"white\",\"gridwidth\":2,\"linecolor\":\"white\",\"showbackground\":true,\"ticks\":\"\",\"zerolinecolor\":\"white\"},\"zaxis\":{\"backgroundcolor\":\"#E5ECF6\",\"gridcolor\":\"white\",\"gridwidth\":2,\"linecolor\":\"white\",\"showbackground\":true,\"ticks\":\"\",\"zerolinecolor\":\"white\"}},\"shapedefaults\":{\"line\":{\"color\":\"#2a3f5f\"}},\"ternary\":{\"aaxis\":{\"gridcolor\":\"white\",\"linecolor\":\"white\",\"ticks\":\"\"},\"baxis\":{\"gridcolor\":\"white\",\"linecolor\":\"white\",\"ticks\":\"\"},\"bgcolor\":\"#E5ECF6\",\"caxis\":{\"gridcolor\":\"white\",\"linecolor\":\"white\",\"ticks\":\"\"}},\"title\":{\"x\":0.05},\"xaxis\":{\"automargin\":true,\"gridcolor\":\"white\",\"linecolor\":\"white\",\"ticks\":\"\",\"title\":{\"standoff\":15},\"zerolinecolor\":\"white\",\"zerolinewidth\":2},\"yaxis\":{\"automargin\":true,\"gridcolor\":\"white\",\"linecolor\":\"white\",\"ticks\":\"\",\"title\":{\"standoff\":15},\"zerolinecolor\":\"white\",\"zerolinewidth\":2}}},\"xaxis\":{\"anchor\":\"y\",\"domain\":[0.0,1.0],\"title\":{\"text\":\"Ticket\"}},\"yaxis\":{\"anchor\":\"x\",\"domain\":[0.0,1.0],\"title\":{\"text\":\"Value\"}},\"coloraxis\":{\"colorbar\":{\"title\":{\"text\":\"Value\"}},\"colorscale\":[[0.0,\"#0d0887\"],[0.1111111111111111,\"#46039f\"],[0.2222222222222222,\"#7201a8\"],[0.3333333333333333,\"#9c179e\"],[0.4444444444444444,\"#bd3786\"],[0.5555555555555556,\"#d8576b\"],[0.6666666666666666,\"#ed7953\"],[0.7777777777777778,\"#fb9f3a\"],[0.8888888888888888,\"#fdca26\"],[1.0,\"#f0f921\"]]},\"legend\":{\"tracegroupgap\":0},\"margin\":{\"t\":60},\"barmode\":\"relative\",\"height\":400},                        {\"responsive\": true}                    ).then(function(){\n",
              "                            \n",
              "var gd = document.getElementById('17e96fcd-b64b-42fc-a864-157d1044ee12');\n",
              "var x = new MutationObserver(function (mutations, observer) {{\n",
              "        var display = window.getComputedStyle(gd).display;\n",
              "        if (!display || display === 'none') {{\n",
              "            console.log([gd, 'removed!']);\n",
              "            Plotly.purge(gd);\n",
              "            observer.disconnect();\n",
              "        }}\n",
              "}});\n",
              "\n",
              "// Listen for the removal of the full notebook cells\n",
              "var notebookContainer = gd.closest('#notebook-container');\n",
              "if (notebookContainer) {{\n",
              "    x.observe(notebookContainer, {childList: true});\n",
              "}}\n",
              "\n",
              "// Listen for the clearing of the current output cell\n",
              "var outputEl = gd.closest('.output');\n",
              "if (outputEl) {{\n",
              "    x.observe(outputEl, {childList: true});\n",
              "}}\n",
              "\n",
              "                        })                };                            </script>        </div>\n",
              "</body>\n",
              "</html>"
            ]
          },
          "metadata": {}
        },
        {
          "output_type": "display_data",
          "data": {
            "text/html": [
              "<html>\n",
              "<head><meta charset=\"utf-8\" /></head>\n",
              "<body>\n",
              "    <div>            <script src=\"https://cdnjs.cloudflare.com/ajax/libs/mathjax/2.7.5/MathJax.js?config=TeX-AMS-MML_SVG\"></script><script type=\"text/javascript\">if (window.MathJax) {MathJax.Hub.Config({SVG: {font: \"STIX-Web\"}});}</script>                <script type=\"text/javascript\">window.PlotlyConfig = {MathJaxConfig: 'local'};</script>\n",
              "        <script src=\"https://cdn.plot.ly/plotly-2.8.3.min.js\"></script>                <div id=\"49b9a0c3-47e7-4a08-89fc-f10d51420122\" class=\"plotly-graph-div\" style=\"height:525px; width:100%;\"></div>            <script type=\"text/javascript\">                                    window.PLOTLYENV=window.PLOTLYENV || {};                                    if (document.getElementById(\"49b9a0c3-47e7-4a08-89fc-f10d51420122\")) {                    Plotly.newPlot(                        \"49b9a0c3-47e7-4a08-89fc-f10d51420122\",                        [{\"hovertemplate\":\"variable=ABBV<br>Date=%{x}<br>value=%{y}<extra></extra>\",\"legendgroup\":\"ABBV\",\"line\":{\"color\":\"#636efa\",\"dash\":\"solid\"},\"marker\":{\"symbol\":\"circle\"},\"mode\":\"lines\",\"name\":\"ABBV\",\"orientation\":\"v\",\"showlegend\":true,\"x\":[\"2022-05-16T00:00:00\",\"2022-05-17T00:00:00\",\"2022-05-18T00:00:00\",\"2022-05-19T00:00:00\",\"2022-05-20T00:00:00\",\"2022-05-23T00:00:00\",\"2022-05-24T00:00:00\",\"2022-05-25T00:00:00\",\"2022-05-26T00:00:00\",\"2022-05-27T00:00:00\",\"2022-05-31T00:00:00\",\"2022-06-01T00:00:00\",\"2022-06-02T00:00:00\",\"2022-06-03T00:00:00\",\"2022-06-06T00:00:00\",\"2022-06-07T00:00:00\",\"2022-06-08T00:00:00\",\"2022-06-09T00:00:00\",\"2022-06-10T00:00:00\",\"2022-06-13T00:00:00\",\"2022-06-14T00:00:00\",\"2022-06-15T00:00:00\",\"2022-06-16T00:00:00\",\"2022-06-17T00:00:00\",\"2022-06-21T00:00:00\",\"2022-06-22T00:00:00\",\"2022-06-23T00:00:00\",\"2022-06-24T00:00:00\",\"2022-06-27T00:00:00\",\"2022-06-28T00:00:00\",\"2022-06-29T00:00:00\",\"2022-06-30T00:00:00\",\"2022-07-01T00:00:00\",\"2022-07-05T00:00:00\",\"2022-07-06T00:00:00\",\"2022-07-07T00:00:00\",\"2022-07-08T00:00:00\",\"2022-07-11T00:00:00\",\"2022-07-12T00:00:00\",\"2022-07-13T00:00:00\",\"2022-07-14T00:00:00\",\"2022-07-15T00:00:00\",\"2022-07-18T00:00:00\",\"2022-07-19T00:00:00\",\"2022-07-20T00:00:00\",\"2022-07-21T00:00:00\",\"2022-07-22T00:00:00\",\"2022-07-25T00:00:00\",\"2022-07-26T00:00:00\",\"2022-07-27T00:00:00\",\"2022-07-28T00:00:00\",\"2022-07-29T00:00:00\",\"2022-08-01T00:00:00\",\"2022-08-02T00:00:00\",\"2022-08-03T00:00:00\",\"2022-08-04T00:00:00\",\"2022-08-05T00:00:00\",\"2022-08-08T00:00:00\",\"2022-08-09T00:00:00\",\"2022-08-10T00:00:00\",\"2022-08-11T00:00:00\",\"2022-08-12T00:00:00\",\"2022-08-15T00:00:00\",\"2022-08-16T00:00:00\",\"2022-08-17T00:00:00\",\"2022-08-18T00:00:00\",\"2022-08-19T00:00:00\",\"2022-08-22T00:00:00\",\"2022-08-23T00:00:00\",\"2022-08-24T00:00:00\",\"2022-08-25T00:00:00\",\"2022-08-26T00:00:00\",\"2022-08-29T00:00:00\",\"2022-08-30T00:00:00\",\"2022-08-31T00:00:00\",\"2022-09-01T00:00:00\",\"2022-09-02T00:00:00\",\"2022-09-06T00:00:00\",\"2022-09-07T00:00:00\",\"2022-09-08T00:00:00\",\"2022-09-09T00:00:00\",\"2022-09-12T00:00:00\",\"2022-09-13T00:00:00\",\"2022-09-14T00:00:00\",\"2022-09-15T00:00:00\",\"2022-09-16T00:00:00\",\"2022-09-19T00:00:00\",\"2022-09-20T00:00:00\",\"2022-09-21T00:00:00\",\"2022-09-22T00:00:00\",\"2022-09-23T00:00:00\",\"2022-09-26T00:00:00\",\"2022-09-27T00:00:00\",\"2022-09-28T00:00:00\",\"2022-09-29T00:00:00\",\"2022-09-30T00:00:00\",\"2022-10-03T00:00:00\",\"2022-10-04T00:00:00\",\"2022-10-05T00:00:00\",\"2022-10-06T00:00:00\",\"2022-10-07T00:00:00\",\"2022-10-10T00:00:00\",\"2022-10-11T00:00:00\",\"2022-10-12T00:00:00\",\"2022-10-13T00:00:00\",\"2022-10-14T00:00:00\",\"2022-10-17T00:00:00\",\"2022-10-18T00:00:00\",\"2022-10-19T00:00:00\",\"2022-10-20T00:00:00\",\"2022-10-21T00:00:00\",\"2022-10-24T00:00:00\",\"2022-10-25T00:00:00\",\"2022-10-26T00:00:00\",\"2022-10-27T00:00:00\",\"2022-10-28T00:00:00\",\"2022-10-31T00:00:00\",\"2022-11-01T00:00:00\",\"2022-11-02T00:00:00\",\"2022-11-03T00:00:00\",\"2022-11-04T00:00:00\",\"2022-11-07T00:00:00\",\"2022-11-08T00:00:00\",\"2022-11-09T00:00:00\",\"2022-11-10T00:00:00\",\"2022-11-11T00:00:00\",\"2022-11-14T00:00:00\",\"2022-11-15T00:00:00\"],\"xaxis\":\"x\",\"y\":[null,0.9955617956164351,0.9804462822157598,0.9758795850604136,0.9713127878328153,0.9521451487974317,0.9590917642537912,0.9774232996223273,0.9684826444693069,0.9648162973666987,0.9478997836437908,0.9392165143233414,0.9439120044672252,0.9466134549144481,0.9424969828215971,0.9592848036282193,0.9599923144510334,0.9354215743766998,0.9210779182569814,0.896764664087471,0.8851868048731183,0.8882098875388029,0.895027910151129,0.8894319698822549,0.9228146721933236,0.949121966059495,0.9612786431803763,0.9798674643092313,0.9850131795156103,0.9808323609646165,0.9914452234513318,0.9851417723596436,0.9892583445247468,0.9900944481915943,0.9810895466526832,0.9776805853826462,0.9831478327352349,0.985592097494391,0.9806393215901882,0.9786452818935273,0.9766976757218714,0.9973430817049911,0.9710493976651143,0.9721530945342539,0.9588438852851762,0.9592334665628587,0.9639079415337878,0.9752693444667053,0.979489291268296,0.9813071037288926,0.97221804142591,0.9317061918705309,0.9103466702959541,0.9114502670928415,0.9167090639441683,0.9019066766205206,0.8961934516721078,0.9111256327068148,0.9105414108986692,0.9150210451946308,0.9224222888925807,0.9257982263194029,0.923785573183839,0.9254736920056282,0.9182671889103935,0.9172932857523134,0.9209291108180109,0.9111256327068146,0.9025559453925737,0.8953495423695911,0.9045684984558854,0.8852215299446202,0.8810665300346853,0.8800276799849494,0.8729511707452783,0.8988552735074726,0.8847671018475342,0.8932719423423715,0.9005432922570099,0.9122943765398621,0.9181372951270821,0.9234610388700645,0.8993746484962145,0.9059968297110516,0.9252139044390052,0.9352769699723202,0.9261878075970853,0.9204096357570167,0.9109308921040993,0.9284600481547678,0.9287846825407944,0.9167740108358234,0.9200850013709897,0.9387828011824537,0.9265772888025154,0.8713280988873967,0.898011364204956,0.9218379670121829,0.9305376481819874,0.9108009983207876,0.9008678265707841,0.8979463172410481,0.9187216170074795,0.9087884452574759,0.9373172430494817,0.9374484377720715,0.9470891984012458,0.9483352980852178,0.9386945374560435,0.9373827903746508,0.9644687464349262,0.9895871819453648,0.9825698154067238,1.0002116528133314,1.0067044406061179,0.968075850764252,0.9601402212397353,0.9634850361961339,0.9478106192671112,0.9471547457264148,0.9527949179307462,0.9712894709980608,0.9741095070641005,0.9681413980894208,0.9819139418660274,0.9847996253294881,0.9951618068245274,1.0036875624200674],\"yaxis\":\"y\",\"type\":\"scatter\"},{\"hovertemplate\":\"variable=AMZN<br>Date=%{x}<br>value=%{y}<extra></extra>\",\"legendgroup\":\"AMZN\",\"line\":{\"color\":\"#EF553B\",\"dash\":\"solid\"},\"marker\":{\"symbol\":\"circle\"},\"mode\":\"lines\",\"name\":\"AMZN\",\"orientation\":\"v\",\"showlegend\":true,\"x\":[\"2022-05-16T00:00:00\",\"2022-05-17T00:00:00\",\"2022-05-18T00:00:00\",\"2022-05-19T00:00:00\",\"2022-05-20T00:00:00\",\"2022-05-23T00:00:00\",\"2022-05-24T00:00:00\",\"2022-05-25T00:00:00\",\"2022-05-26T00:00:00\",\"2022-05-27T00:00:00\",\"2022-05-31T00:00:00\",\"2022-06-01T00:00:00\",\"2022-06-02T00:00:00\",\"2022-06-03T00:00:00\",\"2022-06-06T00:00:00\",\"2022-06-07T00:00:00\",\"2022-06-08T00:00:00\",\"2022-06-09T00:00:00\",\"2022-06-10T00:00:00\",\"2022-06-13T00:00:00\",\"2022-06-14T00:00:00\",\"2022-06-15T00:00:00\",\"2022-06-16T00:00:00\",\"2022-06-17T00:00:00\",\"2022-06-21T00:00:00\",\"2022-06-22T00:00:00\",\"2022-06-23T00:00:00\",\"2022-06-24T00:00:00\",\"2022-06-27T00:00:00\",\"2022-06-28T00:00:00\",\"2022-06-29T00:00:00\",\"2022-06-30T00:00:00\",\"2022-07-01T00:00:00\",\"2022-07-05T00:00:00\",\"2022-07-06T00:00:00\",\"2022-07-07T00:00:00\",\"2022-07-08T00:00:00\",\"2022-07-11T00:00:00\",\"2022-07-12T00:00:00\",\"2022-07-13T00:00:00\",\"2022-07-14T00:00:00\",\"2022-07-15T00:00:00\",\"2022-07-18T00:00:00\",\"2022-07-19T00:00:00\",\"2022-07-20T00:00:00\",\"2022-07-21T00:00:00\",\"2022-07-22T00:00:00\",\"2022-07-25T00:00:00\",\"2022-07-26T00:00:00\",\"2022-07-27T00:00:00\",\"2022-07-28T00:00:00\",\"2022-07-29T00:00:00\",\"2022-08-01T00:00:00\",\"2022-08-02T00:00:00\",\"2022-08-03T00:00:00\",\"2022-08-04T00:00:00\",\"2022-08-05T00:00:00\",\"2022-08-08T00:00:00\",\"2022-08-09T00:00:00\",\"2022-08-10T00:00:00\",\"2022-08-11T00:00:00\",\"2022-08-12T00:00:00\",\"2022-08-15T00:00:00\",\"2022-08-16T00:00:00\",\"2022-08-17T00:00:00\",\"2022-08-18T00:00:00\",\"2022-08-19T00:00:00\",\"2022-08-22T00:00:00\",\"2022-08-23T00:00:00\",\"2022-08-24T00:00:00\",\"2022-08-25T00:00:00\",\"2022-08-26T00:00:00\",\"2022-08-29T00:00:00\",\"2022-08-30T00:00:00\",\"2022-08-31T00:00:00\",\"2022-09-01T00:00:00\",\"2022-09-02T00:00:00\",\"2022-09-06T00:00:00\",\"2022-09-07T00:00:00\",\"2022-09-08T00:00:00\",\"2022-09-09T00:00:00\",\"2022-09-12T00:00:00\",\"2022-09-13T00:00:00\",\"2022-09-14T00:00:00\",\"2022-09-15T00:00:00\",\"2022-09-16T00:00:00\",\"2022-09-19T00:00:00\",\"2022-09-20T00:00:00\",\"2022-09-21T00:00:00\",\"2022-09-22T00:00:00\",\"2022-09-23T00:00:00\",\"2022-09-26T00:00:00\",\"2022-09-27T00:00:00\",\"2022-09-28T00:00:00\",\"2022-09-29T00:00:00\",\"2022-09-30T00:00:00\",\"2022-10-03T00:00:00\",\"2022-10-04T00:00:00\",\"2022-10-05T00:00:00\",\"2022-10-06T00:00:00\",\"2022-10-07T00:00:00\",\"2022-10-10T00:00:00\",\"2022-10-11T00:00:00\",\"2022-10-12T00:00:00\",\"2022-10-13T00:00:00\",\"2022-10-14T00:00:00\",\"2022-10-17T00:00:00\",\"2022-10-18T00:00:00\",\"2022-10-19T00:00:00\",\"2022-10-20T00:00:00\",\"2022-10-21T00:00:00\",\"2022-10-24T00:00:00\",\"2022-10-25T00:00:00\",\"2022-10-26T00:00:00\",\"2022-10-27T00:00:00\",\"2022-10-28T00:00:00\",\"2022-10-31T00:00:00\",\"2022-11-01T00:00:00\",\"2022-11-02T00:00:00\",\"2022-11-03T00:00:00\",\"2022-11-04T00:00:00\",\"2022-11-07T00:00:00\",\"2022-11-08T00:00:00\",\"2022-11-09T00:00:00\",\"2022-11-10T00:00:00\",\"2022-11-11T00:00:00\",\"2022-11-14T00:00:00\",\"2022-11-15T00:00:00\"],\"xaxis\":\"x\",\"y\":[null,1.0411332735799965,0.9666277292295303,0.9684912456863236,0.9709459153352408,0.9706390472037131,0.939441636325255,0.963581975239315,1.0024095035070544,1.0391298522447503,1.0848204997000168,1.098126954588887,1.132663423976364,1.1041372185946254,1.126156814365918,1.1100031024182204,1.0935786690226506,1.0481858702407043,0.9895271697064081,0.9355611349204922,0.923287924377558,0.9716587967877514,0.9354709403384187,0.9585734219012002,0.9807734756874655,0.9832100375691422,1.0147052971209205,1.0509834170031525,1.0217443301689038,0.9692222349060746,0.9829393161212696,0.9584831584683007,0.9887149365119651,1.0242711554834798,1.0317614368451342,1.049810267778764,1.042680971297881,1.0084784284165538,0.9856466683016445,0.9962954813065191,0.998371058307424,1.024722403797151,1.026617522783083,1.0667761440700785,1.1079274565664898,1.1247128748428314,1.1047689249232697,1.093217684141879,1.036093117712743,1.0916835500367188,1.1035055122659818,1.217844839706327,1.2218156045439899,1.21071561207627,1.2590864844864633,1.2866109792005787,1.2706377252678538,1.2580937932770473,1.2438352003152817,1.2876938649920677,1.2691937857447668,1.2954548678015945,1.2921157404417496,1.3065548602693142,1.2823694929150435,1.284174348468076,1.2474449114213468,1.2022326395051994,1.2058423506112645,1.2074668170001501,1.238871744268203,1.1799423222860344,1.1712788228491653,1.161712964486606,1.1440251184337482,1.153500782214234,1.1507032354517857,1.1380690400280797,1.168481276086717,1.1715496819986895,1.2026838878188701,1.2313814629065483,1.1444763667474191,1.1600886357993723,1.1396031741332402,1.1147860315994995,1.124983665141529,1.1026933479223642,1.069754217698325,1.0586541563797793,1.0267979807980552,1.0391614547738888,1.032483406606677,1.064971288517045,1.0360029231306687,1.0197589477500717,1.0457492395082009,1.092766435828207,1.091503023170919,1.0856372081981502,1.0338370138460387,1.0258052895886396,1.012629651269189,1.0188565199735555,1.0155174614645366,0.9647100271726667,1.0268882442309546,1.0500809892266356,1.0384394850123453,1.040063882550405,1.0767932507463083,1.0813054584797155,1.0883444915276987,1.0437639259401954,1.0013491319356702,0.9332148364717141,0.9244611424527716,0.8734731812951028,0.8313291775892759,0.8058803287268913,0.8210413494651732,0.8169803211946108,0.8120169339983583,0.7773631428033599,0.8720292417720158,0.9095708431623617,0.8888146600483573,0.8928756883189196],\"yaxis\":\"y\",\"type\":\"scatter\"},{\"hovertemplate\":\"variable=PLD<br>Date=%{x}<br>value=%{y}<extra></extra>\",\"legendgroup\":\"PLD\",\"line\":{\"color\":\"#00cc96\",\"dash\":\"solid\"},\"marker\":{\"symbol\":\"circle\"},\"mode\":\"lines\",\"name\":\"PLD\",\"orientation\":\"v\",\"showlegend\":true,\"x\":[\"2022-05-16T00:00:00\",\"2022-05-17T00:00:00\",\"2022-05-18T00:00:00\",\"2022-05-19T00:00:00\",\"2022-05-20T00:00:00\",\"2022-05-23T00:00:00\",\"2022-05-24T00:00:00\",\"2022-05-25T00:00:00\",\"2022-05-26T00:00:00\",\"2022-05-27T00:00:00\",\"2022-05-31T00:00:00\",\"2022-06-01T00:00:00\",\"2022-06-02T00:00:00\",\"2022-06-03T00:00:00\",\"2022-06-06T00:00:00\",\"2022-06-07T00:00:00\",\"2022-06-08T00:00:00\",\"2022-06-09T00:00:00\",\"2022-06-10T00:00:00\",\"2022-06-13T00:00:00\",\"2022-06-14T00:00:00\",\"2022-06-15T00:00:00\",\"2022-06-16T00:00:00\",\"2022-06-17T00:00:00\",\"2022-06-21T00:00:00\",\"2022-06-22T00:00:00\",\"2022-06-23T00:00:00\",\"2022-06-24T00:00:00\",\"2022-06-27T00:00:00\",\"2022-06-28T00:00:00\",\"2022-06-29T00:00:00\",\"2022-06-30T00:00:00\",\"2022-07-01T00:00:00\",\"2022-07-05T00:00:00\",\"2022-07-06T00:00:00\",\"2022-07-07T00:00:00\",\"2022-07-08T00:00:00\",\"2022-07-11T00:00:00\",\"2022-07-12T00:00:00\",\"2022-07-13T00:00:00\",\"2022-07-14T00:00:00\",\"2022-07-15T00:00:00\",\"2022-07-18T00:00:00\",\"2022-07-19T00:00:00\",\"2022-07-20T00:00:00\",\"2022-07-21T00:00:00\",\"2022-07-22T00:00:00\",\"2022-07-25T00:00:00\",\"2022-07-26T00:00:00\",\"2022-07-27T00:00:00\",\"2022-07-28T00:00:00\",\"2022-07-29T00:00:00\",\"2022-08-01T00:00:00\",\"2022-08-02T00:00:00\",\"2022-08-03T00:00:00\",\"2022-08-04T00:00:00\",\"2022-08-05T00:00:00\",\"2022-08-08T00:00:00\",\"2022-08-09T00:00:00\",\"2022-08-10T00:00:00\",\"2022-08-11T00:00:00\",\"2022-08-12T00:00:00\",\"2022-08-15T00:00:00\",\"2022-08-16T00:00:00\",\"2022-08-17T00:00:00\",\"2022-08-18T00:00:00\",\"2022-08-19T00:00:00\",\"2022-08-22T00:00:00\",\"2022-08-23T00:00:00\",\"2022-08-24T00:00:00\",\"2022-08-25T00:00:00\",\"2022-08-26T00:00:00\",\"2022-08-29T00:00:00\",\"2022-08-30T00:00:00\",\"2022-08-31T00:00:00\",\"2022-09-01T00:00:00\",\"2022-09-02T00:00:00\",\"2022-09-06T00:00:00\",\"2022-09-07T00:00:00\",\"2022-09-08T00:00:00\",\"2022-09-09T00:00:00\",\"2022-09-12T00:00:00\",\"2022-09-13T00:00:00\",\"2022-09-14T00:00:00\",\"2022-09-15T00:00:00\",\"2022-09-16T00:00:00\",\"2022-09-19T00:00:00\",\"2022-09-20T00:00:00\",\"2022-09-21T00:00:00\",\"2022-09-22T00:00:00\",\"2022-09-23T00:00:00\",\"2022-09-26T00:00:00\",\"2022-09-27T00:00:00\",\"2022-09-28T00:00:00\",\"2022-09-29T00:00:00\",\"2022-09-30T00:00:00\",\"2022-10-03T00:00:00\",\"2022-10-04T00:00:00\",\"2022-10-05T00:00:00\",\"2022-10-06T00:00:00\",\"2022-10-07T00:00:00\",\"2022-10-10T00:00:00\",\"2022-10-11T00:00:00\",\"2022-10-12T00:00:00\",\"2022-10-13T00:00:00\",\"2022-10-14T00:00:00\",\"2022-10-17T00:00:00\",\"2022-10-18T00:00:00\",\"2022-10-19T00:00:00\",\"2022-10-20T00:00:00\",\"2022-10-21T00:00:00\",\"2022-10-24T00:00:00\",\"2022-10-25T00:00:00\",\"2022-10-26T00:00:00\",\"2022-10-27T00:00:00\",\"2022-10-28T00:00:00\",\"2022-10-31T00:00:00\",\"2022-11-01T00:00:00\",\"2022-11-02T00:00:00\",\"2022-11-03T00:00:00\",\"2022-11-04T00:00:00\",\"2022-11-07T00:00:00\",\"2022-11-08T00:00:00\",\"2022-11-09T00:00:00\",\"2022-11-10T00:00:00\",\"2022-11-11T00:00:00\",\"2022-11-14T00:00:00\",\"2022-11-15T00:00:00\"],\"xaxis\":\"x\",\"y\":[null,1.005189600646357,0.9543313414365044,0.9558483244222159,0.9558483244222159,0.9619161946237925,0.9587226274713332,0.9583233466830305,0.9769261763347937,1.0160479759297958,1.0178043915576964,1.0048702748017457,1.0342515247932564,1.0186028296517633,1.0209181889902723,1.0353692269906651,0.9961676576757796,0.9754091316078131,0.9360478993706218,0.8657086026950558,0.8835129942527521,0.9254892162081696,0.8989525099739931,0.8874532603156384,0.9035361200625659,0.9284645897150651,0.9508198067473573,0.9858000637416862,0.966661443355287,0.9566096560134574,0.9513827018991983,0.946075360652363,0.9652139810387621,0.976472007558119,0.9767132306971167,0.9856392277352645,0.9776782467356462,0.9792864833173236,0.9722904566149655,0.9710842791787075,0.9499352395826733,0.9730946366470735,0.958539564607978,1.006064474431767,1.0017221492234614,1.0106481462616093,1.0204587104644414,1.0253639925658573,1.026007213109005,1.0243989765273278,1.064686574768492,1.0659732628198646,1.0532677739839826,1.0403210002678336,1.0511769676417713,1.0514182525220381,1.056564757762452,1.055197682578503,1.0687072897052237,1.080849945130534,1.0794023593314703,1.1036071595669763,1.112774379744122,1.1025617563958707,1.1048133370032343,1.0987019392068296,1.0781961818952124,1.0529461019711392,1.0330033632939015,1.0543935642876643,1.0677422736666942,1.0321187961292175,1.023594858236489,1.0104068613813424,1.0012396412041968,0.9995509557486741,0.9801710504820081,0.9955302408119425,1.0182874552483847,1.0285805892117506,1.0424118066100452,1.0469953549573487,1.0058232512927698,0.9798461679231635,0.9405163619920255,0.9198803306022703,0.9128398501860452,0.8977067563841401,0.8784465056972993,0.8783655628932998,0.8788510962347583,0.8429202089176375,0.8277061723117328,0.8410588948732646,0.8188853206551344,0.8222032347238829,0.8445386945500122,0.8577295315035449,0.8532786651438805,0.8247928487804437,0.812168487972369,0.8003533699804815,0.8143534497502014,0.812734964117827,0.8296483674188363,0.8054516552896034,0.8515792367075065,0.8565965792126289,0.8255212105339006,0.8291628340773778,0.8341802383237693,0.8365270857096008,0.8766661344569259,0.8891286713982707,0.8983541753335974,0.9142965119516897,0.8962500946184951,0.8784465056972991,0.8637989452368524,0.874076520400365,0.8709204301983463,0.8815216530953183,0.8881575429740843,0.8803887008044022,0.9576725319637638,0.9397880002385682,0.910412059996214,0.9124351979073166],\"yaxis\":\"y\",\"type\":\"scatter\"},{\"hovertemplate\":\"variable=PRU<br>Date=%{x}<br>value=%{y}<extra></extra>\",\"legendgroup\":\"PRU\",\"line\":{\"color\":\"#ab63fa\",\"dash\":\"solid\"},\"marker\":{\"symbol\":\"circle\"},\"mode\":\"lines\",\"name\":\"PRU\",\"orientation\":\"v\",\"showlegend\":true,\"x\":[\"2022-05-16T00:00:00\",\"2022-05-17T00:00:00\",\"2022-05-18T00:00:00\",\"2022-05-19T00:00:00\",\"2022-05-20T00:00:00\",\"2022-05-23T00:00:00\",\"2022-05-24T00:00:00\",\"2022-05-25T00:00:00\",\"2022-05-26T00:00:00\",\"2022-05-27T00:00:00\",\"2022-05-31T00:00:00\",\"2022-06-01T00:00:00\",\"2022-06-02T00:00:00\",\"2022-06-03T00:00:00\",\"2022-06-06T00:00:00\",\"2022-06-07T00:00:00\",\"2022-06-08T00:00:00\",\"2022-06-09T00:00:00\",\"2022-06-10T00:00:00\",\"2022-06-13T00:00:00\",\"2022-06-14T00:00:00\",\"2022-06-15T00:00:00\",\"2022-06-16T00:00:00\",\"2022-06-17T00:00:00\",\"2022-06-21T00:00:00\",\"2022-06-22T00:00:00\",\"2022-06-23T00:00:00\",\"2022-06-24T00:00:00\",\"2022-06-27T00:00:00\",\"2022-06-28T00:00:00\",\"2022-06-29T00:00:00\",\"2022-06-30T00:00:00\",\"2022-07-01T00:00:00\",\"2022-07-05T00:00:00\",\"2022-07-06T00:00:00\",\"2022-07-07T00:00:00\",\"2022-07-08T00:00:00\",\"2022-07-11T00:00:00\",\"2022-07-12T00:00:00\",\"2022-07-13T00:00:00\",\"2022-07-14T00:00:00\",\"2022-07-15T00:00:00\",\"2022-07-18T00:00:00\",\"2022-07-19T00:00:00\",\"2022-07-20T00:00:00\",\"2022-07-21T00:00:00\",\"2022-07-22T00:00:00\",\"2022-07-25T00:00:00\",\"2022-07-26T00:00:00\",\"2022-07-27T00:00:00\",\"2022-07-28T00:00:00\",\"2022-07-29T00:00:00\",\"2022-08-01T00:00:00\",\"2022-08-02T00:00:00\",\"2022-08-03T00:00:00\",\"2022-08-04T00:00:00\",\"2022-08-05T00:00:00\",\"2022-08-08T00:00:00\",\"2022-08-09T00:00:00\",\"2022-08-10T00:00:00\",\"2022-08-11T00:00:00\",\"2022-08-12T00:00:00\",\"2022-08-15T00:00:00\",\"2022-08-16T00:00:00\",\"2022-08-17T00:00:00\",\"2022-08-18T00:00:00\",\"2022-08-19T00:00:00\",\"2022-08-22T00:00:00\",\"2022-08-23T00:00:00\",\"2022-08-24T00:00:00\",\"2022-08-25T00:00:00\",\"2022-08-26T00:00:00\",\"2022-08-29T00:00:00\",\"2022-08-30T00:00:00\",\"2022-08-31T00:00:00\",\"2022-09-01T00:00:00\",\"2022-09-02T00:00:00\",\"2022-09-06T00:00:00\",\"2022-09-07T00:00:00\",\"2022-09-08T00:00:00\",\"2022-09-09T00:00:00\",\"2022-09-12T00:00:00\",\"2022-09-13T00:00:00\",\"2022-09-14T00:00:00\",\"2022-09-15T00:00:00\",\"2022-09-16T00:00:00\",\"2022-09-19T00:00:00\",\"2022-09-20T00:00:00\",\"2022-09-21T00:00:00\",\"2022-09-22T00:00:00\",\"2022-09-23T00:00:00\",\"2022-09-26T00:00:00\",\"2022-09-27T00:00:00\",\"2022-09-28T00:00:00\",\"2022-09-29T00:00:00\",\"2022-09-30T00:00:00\",\"2022-10-03T00:00:00\",\"2022-10-04T00:00:00\",\"2022-10-05T00:00:00\",\"2022-10-06T00:00:00\",\"2022-10-07T00:00:00\",\"2022-10-10T00:00:00\",\"2022-10-11T00:00:00\",\"2022-10-12T00:00:00\",\"2022-10-13T00:00:00\",\"2022-10-14T00:00:00\",\"2022-10-17T00:00:00\",\"2022-10-18T00:00:00\",\"2022-10-19T00:00:00\",\"2022-10-20T00:00:00\",\"2022-10-21T00:00:00\",\"2022-10-24T00:00:00\",\"2022-10-25T00:00:00\",\"2022-10-26T00:00:00\",\"2022-10-27T00:00:00\",\"2022-10-28T00:00:00\",\"2022-10-31T00:00:00\",\"2022-11-01T00:00:00\",\"2022-11-02T00:00:00\",\"2022-11-03T00:00:00\",\"2022-11-04T00:00:00\",\"2022-11-07T00:00:00\",\"2022-11-08T00:00:00\",\"2022-11-09T00:00:00\",\"2022-11-10T00:00:00\",\"2022-11-11T00:00:00\",\"2022-11-14T00:00:00\",\"2022-11-15T00:00:00\"],\"xaxis\":\"x\",\"y\":[null,1.029001286371393,1.005542797372065,0.985647817004852,0.976937507966345,1.0160150608783458,1.0109048437853843,1.0236301134655053,1.0476778026375868,1.064811786973432,1.0646113908527173,1.055292932567904,1.0596014878348492,1.0416658416729878,1.0553930919566825,1.0642105986112878,1.0529883385081058,1.0277382726117357,0.9858551740097288,0.9443729449923087,0.9432707276567991,0.9503848286137505,0.9151149566816442,0.9162170966739965,0.9408659742082224,0.9335514771305562,0.9267379316830981,0.9760357640947074,0.9714265759751113,0.9787410730527775,0.9652142962329548,0.9587013836381476,0.9761359234834861,0.9551944128540614,0.9500842731042572,0.9679196051910253,0.9650138227690831,0.9629097021731572,0.9621080403471409,0.9348540905867809,0.9061972132951032,0.9251347627173808,0.9284413373807524,0.9535911665451865,0.9601041564831511,0.9626090693205064,0.9569979779404941,0.9706249914922528,0.962408750542949,0.9783402808113483,0.9829493915877869,1.0018869410100646,0.9984802843010716,0.9818472515954347,0.9700238031301086,0.961406692596218,0.9670178613193877,0.9749335467591981,0.9877589758280979,1.0185199737157016,1.0319465911467454,1.0569962609224006,1.0502829522068786,1.053890159722901,1.047778039369523,1.0562949131714776,1.0360547502929756,1.0047298434450742,1.0069601107306512,1.0086834709629033,1.027741985083289,0.9987486650571036,0.9932744710656151,0.9836437784545472,0.9706677622582713,0.962760507222613,0.9619494868745564,0.9547518553076583,0.9709718755530031,0.9828327581064906,0.9983432322262326,1.0113192484225084,0.9710732724322995,0.9537381185441661,0.9381263248882851,0.9318410332055825,0.957286235887967,0.9429922922903099,0.9313342034954153,0.9223118148169686,0.8989954825408646,0.8854111624119676,0.8837891990590118,0.8953459683177674,0.8748682072598615,0.8695966523406511,0.9041656405807788,0.9553600818971221,0.9503927176158009,0.9422826688215499,0.9233255515804607,0.9240351750492208,0.920892490536291,0.914303162902014,0.9640783572808369,0.9597192195889794,0.9720870091957916,0.9867863856243198,0.9774598836511411,0.9650920940443289,0.9964170782353875,1.0149687626456056,1.0279447788418814,1.025309001382276,1.0322025196544424,1.0671769407254408,1.0663659977205415,1.0745773660509317,1.0673797344840334,1.0323039165337384,1.06504807031916,1.0462936694935063,1.0472060867208592,1.0382850175785516,1.0920139168183611,1.1172563257421526,1.097184074858275,1.0939400708092062],\"yaxis\":\"y\",\"type\":\"scatter\"},{\"hovertemplate\":\"variable=STOR<br>Date=%{x}<br>value=%{y}<extra></extra>\",\"legendgroup\":\"STOR\",\"line\":{\"color\":\"#FFA15A\",\"dash\":\"solid\"},\"marker\":{\"symbol\":\"circle\"},\"mode\":\"lines\",\"name\":\"STOR\",\"orientation\":\"v\",\"showlegend\":true,\"x\":[\"2022-05-16T00:00:00\",\"2022-05-17T00:00:00\",\"2022-05-18T00:00:00\",\"2022-05-19T00:00:00\",\"2022-05-20T00:00:00\",\"2022-05-23T00:00:00\",\"2022-05-24T00:00:00\",\"2022-05-25T00:00:00\",\"2022-05-26T00:00:00\",\"2022-05-27T00:00:00\",\"2022-05-31T00:00:00\",\"2022-06-01T00:00:00\",\"2022-06-02T00:00:00\",\"2022-06-03T00:00:00\",\"2022-06-06T00:00:00\",\"2022-06-07T00:00:00\",\"2022-06-08T00:00:00\",\"2022-06-09T00:00:00\",\"2022-06-10T00:00:00\",\"2022-06-13T00:00:00\",\"2022-06-14T00:00:00\",\"2022-06-15T00:00:00\",\"2022-06-16T00:00:00\",\"2022-06-17T00:00:00\",\"2022-06-21T00:00:00\",\"2022-06-22T00:00:00\",\"2022-06-23T00:00:00\",\"2022-06-24T00:00:00\",\"2022-06-27T00:00:00\",\"2022-06-28T00:00:00\",\"2022-06-29T00:00:00\",\"2022-06-30T00:00:00\",\"2022-07-01T00:00:00\",\"2022-07-05T00:00:00\",\"2022-07-06T00:00:00\",\"2022-07-07T00:00:00\",\"2022-07-08T00:00:00\",\"2022-07-11T00:00:00\",\"2022-07-12T00:00:00\",\"2022-07-13T00:00:00\",\"2022-07-14T00:00:00\",\"2022-07-15T00:00:00\",\"2022-07-18T00:00:00\",\"2022-07-19T00:00:00\",\"2022-07-20T00:00:00\",\"2022-07-21T00:00:00\",\"2022-07-22T00:00:00\",\"2022-07-25T00:00:00\",\"2022-07-26T00:00:00\",\"2022-07-27T00:00:00\",\"2022-07-28T00:00:00\",\"2022-07-29T00:00:00\",\"2022-08-01T00:00:00\",\"2022-08-02T00:00:00\",\"2022-08-03T00:00:00\",\"2022-08-04T00:00:00\",\"2022-08-05T00:00:00\",\"2022-08-08T00:00:00\",\"2022-08-09T00:00:00\",\"2022-08-10T00:00:00\",\"2022-08-11T00:00:00\",\"2022-08-12T00:00:00\",\"2022-08-15T00:00:00\",\"2022-08-16T00:00:00\",\"2022-08-17T00:00:00\",\"2022-08-18T00:00:00\",\"2022-08-19T00:00:00\",\"2022-08-22T00:00:00\",\"2022-08-23T00:00:00\",\"2022-08-24T00:00:00\",\"2022-08-25T00:00:00\",\"2022-08-26T00:00:00\",\"2022-08-29T00:00:00\",\"2022-08-30T00:00:00\",\"2022-08-31T00:00:00\",\"2022-09-01T00:00:00\",\"2022-09-02T00:00:00\",\"2022-09-06T00:00:00\",\"2022-09-07T00:00:00\",\"2022-09-08T00:00:00\",\"2022-09-09T00:00:00\",\"2022-09-12T00:00:00\",\"2022-09-13T00:00:00\",\"2022-09-14T00:00:00\",\"2022-09-15T00:00:00\",\"2022-09-16T00:00:00\",\"2022-09-19T00:00:00\",\"2022-09-20T00:00:00\",\"2022-09-21T00:00:00\",\"2022-09-22T00:00:00\",\"2022-09-23T00:00:00\",\"2022-09-26T00:00:00\",\"2022-09-27T00:00:00\",\"2022-09-28T00:00:00\",\"2022-09-29T00:00:00\",\"2022-09-30T00:00:00\",\"2022-10-03T00:00:00\",\"2022-10-04T00:00:00\",\"2022-10-05T00:00:00\",\"2022-10-06T00:00:00\",\"2022-10-07T00:00:00\",\"2022-10-10T00:00:00\",\"2022-10-11T00:00:00\",\"2022-10-12T00:00:00\",\"2022-10-13T00:00:00\",\"2022-10-14T00:00:00\",\"2022-10-17T00:00:00\",\"2022-10-18T00:00:00\",\"2022-10-19T00:00:00\",\"2022-10-20T00:00:00\",\"2022-10-21T00:00:00\",\"2022-10-24T00:00:00\",\"2022-10-25T00:00:00\",\"2022-10-26T00:00:00\",\"2022-10-27T00:00:00\",\"2022-10-28T00:00:00\",\"2022-10-31T00:00:00\",\"2022-11-01T00:00:00\",\"2022-11-02T00:00:00\",\"2022-11-03T00:00:00\",\"2022-11-04T00:00:00\",\"2022-11-07T00:00:00\",\"2022-11-08T00:00:00\",\"2022-11-09T00:00:00\",\"2022-11-10T00:00:00\",\"2022-11-11T00:00:00\",\"2022-11-14T00:00:00\",\"2022-11-15T00:00:00\"],\"xaxis\":\"x\",\"y\":[null,1.0054844068488225,0.9722120519786757,0.9521023452091919,0.9546618067354651,0.9542961796122102,0.9707495434856562,0.9842778903730637,0.9776965304909875,0.9978062372604711,1.0087751226216053,1.0058501056355666,1.0157221096269364,0.9959780299807075,1.0047531526023128,1.0186471266129749,1.0087751226216053,0.9744058147182045,0.9648994378500896,0.9096891689306955,0.9063985964848915,0.9393053242317835,0.9177331089692805,0.9330895198094726,0.9429615954643318,0.9499085824696629,0.9656306920965992,0.9875685344823572,0.9952467757341981,0.9919561316249046,0.9895453001757836,0.9672916367919497,0.9973340465283809,0.9873199338374004,0.9902870889552449,0.993995961189061,0.9962213991909339,0.9977049050863666,0.9836109899400945,0.9765639607034691,0.9713715109107306,0.9962213991909338,0.9884325811748472,1.0110571031166669,1.0125406806755892,1.0158786943514195,1.022183934808584,1.0362779216183453,1.0370197103978063,1.0410995128530978,1.069658416694096,1.0763345157092459,1.0767053742672317,1.0640949650163924,1.0563062186637953,1.0362779216183449,1.0347943440594227,1.042954020633495,1.0503719084281065,1.0629823176789457,1.0681747674716842,1.083752331840368,1.0841232620618433,1.083752331840368,1.0540808523254122,1.0525972031030004,1.0466629645308008,1.0262638089273646,1.02329665380952,1.0236675123675059,1.0321981191630536,1.0143951884559865,1.0143951884559865,1.0066063704399,1.000672060204211,0.9958504689694584,0.9906579475132306,0.9928833138516139,1.0158786943514195,1.0129116108970646,1.028489103602259,1.0514846274290435,1.0054937231024534,0.9936251742945649,1.1913115615352532,1.1831519566246702,1.185006464405068,1.1779594351684426,1.1757341404935486,1.1764758576095202,1.1712833361532924,1.1683161810354479,1.1731377722702006,1.1831519566246704,1.1756375381097486,1.1771403931473372,1.178267588173146,1.1786433198484154,1.1827762249494012,1.180897638236543,1.176764661472068,1.1771403931473374,1.1778918564978764,1.1763889297967984,1.176013198121529,1.176764661472068,1.176764661472068,1.180146174886004,1.182024761598862,1.1850306150010181,1.1906664468030819,1.1899149834525429,1.1947993519040676,1.1891635201020039,1.1887877884267344,1.1921693018406705,1.1947993519040674,1.1921693018406703,1.1884120567514647,1.1899149834525429,1.1899149834525429,1.1887877884267344,1.1895392517772734,1.1854062750127983,1.191793570165401,1.1891635201020039,1.1891635201020039,1.1910421784783514],\"yaxis\":\"y\",\"type\":\"scatter\"},{\"hovertemplate\":\"variable=T<br>Date=%{x}<br>value=%{y}<extra></extra>\",\"legendgroup\":\"T\",\"line\":{\"color\":\"#19d3f3\",\"dash\":\"solid\"},\"marker\":{\"symbol\":\"circle\"},\"mode\":\"lines\",\"name\":\"T\",\"orientation\":\"v\",\"showlegend\":true,\"x\":[\"2022-05-16T00:00:00\",\"2022-05-17T00:00:00\",\"2022-05-18T00:00:00\",\"2022-05-19T00:00:00\",\"2022-05-20T00:00:00\",\"2022-05-23T00:00:00\",\"2022-05-24T00:00:00\",\"2022-05-25T00:00:00\",\"2022-05-26T00:00:00\",\"2022-05-27T00:00:00\",\"2022-05-31T00:00:00\",\"2022-06-01T00:00:00\",\"2022-06-02T00:00:00\",\"2022-06-03T00:00:00\",\"2022-06-06T00:00:00\",\"2022-06-07T00:00:00\",\"2022-06-08T00:00:00\",\"2022-06-09T00:00:00\",\"2022-06-10T00:00:00\",\"2022-06-13T00:00:00\",\"2022-06-14T00:00:00\",\"2022-06-15T00:00:00\",\"2022-06-16T00:00:00\",\"2022-06-17T00:00:00\",\"2022-06-21T00:00:00\",\"2022-06-22T00:00:00\",\"2022-06-23T00:00:00\",\"2022-06-24T00:00:00\",\"2022-06-27T00:00:00\",\"2022-06-28T00:00:00\",\"2022-06-29T00:00:00\",\"2022-06-30T00:00:00\",\"2022-07-01T00:00:00\",\"2022-07-05T00:00:00\",\"2022-07-06T00:00:00\",\"2022-07-07T00:00:00\",\"2022-07-08T00:00:00\",\"2022-07-11T00:00:00\",\"2022-07-12T00:00:00\",\"2022-07-13T00:00:00\",\"2022-07-14T00:00:00\",\"2022-07-15T00:00:00\",\"2022-07-18T00:00:00\",\"2022-07-19T00:00:00\",\"2022-07-20T00:00:00\",\"2022-07-21T00:00:00\",\"2022-07-22T00:00:00\",\"2022-07-25T00:00:00\",\"2022-07-26T00:00:00\",\"2022-07-27T00:00:00\",\"2022-07-28T00:00:00\",\"2022-07-29T00:00:00\",\"2022-08-01T00:00:00\",\"2022-08-02T00:00:00\",\"2022-08-03T00:00:00\",\"2022-08-04T00:00:00\",\"2022-08-05T00:00:00\",\"2022-08-08T00:00:00\",\"2022-08-09T00:00:00\",\"2022-08-10T00:00:00\",\"2022-08-11T00:00:00\",\"2022-08-12T00:00:00\",\"2022-08-15T00:00:00\",\"2022-08-16T00:00:00\",\"2022-08-17T00:00:00\",\"2022-08-18T00:00:00\",\"2022-08-19T00:00:00\",\"2022-08-22T00:00:00\",\"2022-08-23T00:00:00\",\"2022-08-24T00:00:00\",\"2022-08-25T00:00:00\",\"2022-08-26T00:00:00\",\"2022-08-29T00:00:00\",\"2022-08-30T00:00:00\",\"2022-08-31T00:00:00\",\"2022-09-01T00:00:00\",\"2022-09-02T00:00:00\",\"2022-09-06T00:00:00\",\"2022-09-07T00:00:00\",\"2022-09-08T00:00:00\",\"2022-09-09T00:00:00\",\"2022-09-12T00:00:00\",\"2022-09-13T00:00:00\",\"2022-09-14T00:00:00\",\"2022-09-15T00:00:00\",\"2022-09-16T00:00:00\",\"2022-09-19T00:00:00\",\"2022-09-20T00:00:00\",\"2022-09-21T00:00:00\",\"2022-09-22T00:00:00\",\"2022-09-23T00:00:00\",\"2022-09-26T00:00:00\",\"2022-09-27T00:00:00\",\"2022-09-28T00:00:00\",\"2022-09-29T00:00:00\",\"2022-09-30T00:00:00\",\"2022-10-03T00:00:00\",\"2022-10-04T00:00:00\",\"2022-10-05T00:00:00\",\"2022-10-06T00:00:00\",\"2022-10-07T00:00:00\",\"2022-10-10T00:00:00\",\"2022-10-11T00:00:00\",\"2022-10-12T00:00:00\",\"2022-10-13T00:00:00\",\"2022-10-14T00:00:00\",\"2022-10-17T00:00:00\",\"2022-10-18T00:00:00\",\"2022-10-19T00:00:00\",\"2022-10-20T00:00:00\",\"2022-10-21T00:00:00\",\"2022-10-24T00:00:00\",\"2022-10-25T00:00:00\",\"2022-10-26T00:00:00\",\"2022-10-27T00:00:00\",\"2022-10-28T00:00:00\",\"2022-10-31T00:00:00\",\"2022-11-01T00:00:00\",\"2022-11-02T00:00:00\",\"2022-11-03T00:00:00\",\"2022-11-04T00:00:00\",\"2022-11-07T00:00:00\",\"2022-11-08T00:00:00\",\"2022-11-09T00:00:00\",\"2022-11-10T00:00:00\",\"2022-11-11T00:00:00\",\"2022-11-14T00:00:00\",\"2022-11-15T00:00:00\"],\"xaxis\":\"x\",\"y\":[null,1.014299848007069,0.9975345524453209,0.9965482958265477,1.0059172487242585,1.0226825442860066,1.0433925753344668,1.0502958866852445,1.0512821433040178,1.049802855371985,1.049802855371985,1.0463511511985326,1.0448718632664997,1.0305720152594307,1.0325445284969772,1.0424063187156936,1.0379684549195949,1.0295858556367843,1.0202169997352004,0.9743589768460544,0.959073066212466,0.9585799379030794,0.9349112339944264,0.9556212650428867,0.9842208640608979,1.0019725132375463,1.0162722642484885,1.0350098790555293,1.0246549605274262,1.0162722642484887,1.033037559810237,1.0335305911234969,1.0507889179985046,1.043885606647727,1.039940871161015,1.0428994470250805,1.0393018606767035,1.0323065969975822,1.029308640705977,1.0218136529808368,1.0158176434014994,1.0278095655640473,1.0258109603683527,1.0393018606767035,1.0233126311266394,0.9453649915758866,0.919382445058969,0.9258780816881984,0.9143857865755423,0.9188827210129502,0.9283764109299119,0.9383697278967654,0.9358713016589251,0.9173838398632745,0.9178834669131665,0.9128868084297397,0.9168841158172557,0.899395811125262,0.9043924696086888,0.8998955351712808,0.9013945133170835,0.9128868084297397,0.9188827210129503,0.9278766868838932,0.92038179615488,0.920881423204772,0.920881423204772,0.9058914477544916,0.9023937674168675,0.8998955351712811,0.9038928425587971,0.8938995255919436,0.888403240058625,0.8904018452543194,0.8764113178960768,0.8744126157042553,0.8589231102002101,0.838936476266503,0.842933783654019,0.8379371251705924,0.8509283984290512,0.868416606124918,0.8409350814621978,0.8379371251705925,0.8374374981207007,0.8364381470247899,0.8374374981207007,0.8274441811538471,0.8119545786536749,0.8114549031057195,0.7999626564911269,0.7829740758451521,0.7859720321367575,0.7909686906201842,0.7759787636679674,0.7664851222490692,0.7944663224597447,0.8039599638786429,0.7959653491036108,0.779081815263117,0.7597573253899976,0.757723171113778,0.7531463603658312,0.7439926418738105,0.7689110438820185,0.7623000303597884,0.7785733130676099,0.7933209436947191,0.7902696880313577,0.8512943648160137,0.8696018018000551,0.8904518952558234,0.899605613747844,0.9224898129817686,0.9168959493447436,0.9397801485786682,0.9270666722277789,0.9331691835545016,0.9372374921069411,0.9240154650624809,0.9316435314737891,0.9336777342480722,0.9443570078246784,0.9346947386390869,0.9580875855627093,0.9687668591393154,0.9692754098328863,0.9672413040547301],\"yaxis\":\"y\",\"type\":\"scatter\"},{\"hovertemplate\":\"variable=VZ<br>Date=%{x}<br>value=%{y}<extra></extra>\",\"legendgroup\":\"VZ\",\"line\":{\"color\":\"#FF6692\",\"dash\":\"solid\"},\"marker\":{\"symbol\":\"circle\"},\"mode\":\"lines\",\"name\":\"VZ\",\"orientation\":\"v\",\"showlegend\":true,\"x\":[\"2022-05-16T00:00:00\",\"2022-05-17T00:00:00\",\"2022-05-18T00:00:00\",\"2022-05-19T00:00:00\",\"2022-05-20T00:00:00\",\"2022-05-23T00:00:00\",\"2022-05-24T00:00:00\",\"2022-05-25T00:00:00\",\"2022-05-26T00:00:00\",\"2022-05-27T00:00:00\",\"2022-05-31T00:00:00\",\"2022-06-01T00:00:00\",\"2022-06-02T00:00:00\",\"2022-06-03T00:00:00\",\"2022-06-06T00:00:00\",\"2022-06-07T00:00:00\",\"2022-06-08T00:00:00\",\"2022-06-09T00:00:00\",\"2022-06-10T00:00:00\",\"2022-06-13T00:00:00\",\"2022-06-14T00:00:00\",\"2022-06-15T00:00:00\",\"2022-06-16T00:00:00\",\"2022-06-17T00:00:00\",\"2022-06-21T00:00:00\",\"2022-06-22T00:00:00\",\"2022-06-23T00:00:00\",\"2022-06-24T00:00:00\",\"2022-06-27T00:00:00\",\"2022-06-28T00:00:00\",\"2022-06-29T00:00:00\",\"2022-06-30T00:00:00\",\"2022-07-01T00:00:00\",\"2022-07-05T00:00:00\",\"2022-07-06T00:00:00\",\"2022-07-07T00:00:00\",\"2022-07-08T00:00:00\",\"2022-07-11T00:00:00\",\"2022-07-12T00:00:00\",\"2022-07-13T00:00:00\",\"2022-07-14T00:00:00\",\"2022-07-15T00:00:00\",\"2022-07-18T00:00:00\",\"2022-07-19T00:00:00\",\"2022-07-20T00:00:00\",\"2022-07-21T00:00:00\",\"2022-07-22T00:00:00\",\"2022-07-25T00:00:00\",\"2022-07-26T00:00:00\",\"2022-07-27T00:00:00\",\"2022-07-28T00:00:00\",\"2022-07-29T00:00:00\",\"2022-08-01T00:00:00\",\"2022-08-02T00:00:00\",\"2022-08-03T00:00:00\",\"2022-08-04T00:00:00\",\"2022-08-05T00:00:00\",\"2022-08-08T00:00:00\",\"2022-08-09T00:00:00\",\"2022-08-10T00:00:00\",\"2022-08-11T00:00:00\",\"2022-08-12T00:00:00\",\"2022-08-15T00:00:00\",\"2022-08-16T00:00:00\",\"2022-08-17T00:00:00\",\"2022-08-18T00:00:00\",\"2022-08-19T00:00:00\",\"2022-08-22T00:00:00\",\"2022-08-23T00:00:00\",\"2022-08-24T00:00:00\",\"2022-08-25T00:00:00\",\"2022-08-26T00:00:00\",\"2022-08-29T00:00:00\",\"2022-08-30T00:00:00\",\"2022-08-31T00:00:00\",\"2022-09-01T00:00:00\",\"2022-09-02T00:00:00\",\"2022-09-06T00:00:00\",\"2022-09-07T00:00:00\",\"2022-09-08T00:00:00\",\"2022-09-09T00:00:00\",\"2022-09-12T00:00:00\",\"2022-09-13T00:00:00\",\"2022-09-14T00:00:00\",\"2022-09-15T00:00:00\",\"2022-09-16T00:00:00\",\"2022-09-19T00:00:00\",\"2022-09-20T00:00:00\",\"2022-09-21T00:00:00\",\"2022-09-22T00:00:00\",\"2022-09-23T00:00:00\",\"2022-09-26T00:00:00\",\"2022-09-27T00:00:00\",\"2022-09-28T00:00:00\",\"2022-09-29T00:00:00\",\"2022-09-30T00:00:00\",\"2022-10-03T00:00:00\",\"2022-10-04T00:00:00\",\"2022-10-05T00:00:00\",\"2022-10-06T00:00:00\",\"2022-10-07T00:00:00\",\"2022-10-10T00:00:00\",\"2022-10-11T00:00:00\",\"2022-10-12T00:00:00\",\"2022-10-13T00:00:00\",\"2022-10-14T00:00:00\",\"2022-10-17T00:00:00\",\"2022-10-18T00:00:00\",\"2022-10-19T00:00:00\",\"2022-10-20T00:00:00\",\"2022-10-21T00:00:00\",\"2022-10-24T00:00:00\",\"2022-10-25T00:00:00\",\"2022-10-26T00:00:00\",\"2022-10-27T00:00:00\",\"2022-10-28T00:00:00\",\"2022-10-31T00:00:00\",\"2022-11-01T00:00:00\",\"2022-11-02T00:00:00\",\"2022-11-03T00:00:00\",\"2022-11-04T00:00:00\",\"2022-11-07T00:00:00\",\"2022-11-08T00:00:00\",\"2022-11-09T00:00:00\",\"2022-11-10T00:00:00\",\"2022-11-11T00:00:00\",\"2022-11-14T00:00:00\",\"2022-11-15T00:00:00\"],\"xaxis\":\"x\",\"y\":[null,0.9979608182356993,0.9969411472599997,1.001223348871482,1.0099917503644258,1.0128465247408973,1.0334420202796868,1.0448612779726723,1.039763483749019,1.0481239687955533,1.0458807887612733,1.0481239687955533,1.0458807887612733,1.0360929565732777,1.0448612779726723,1.0532218431127558,1.0511826613484552,1.0387437326797702,1.0362967946561585,1.0112152594230062,1.0024469380236116,1.0022430999407308,0.9959216364713986,0.9997959216364714,1.0328303458439456,1.0356851202204171,1.0621940826885798,1.0391515690326296,1.0391515690326296,1.0289559004917739,1.0387437326797695,1.0348693674211473,1.0530178448427758,1.0485317250548636,1.0503669886427343,1.047063289922629,1.0425207842760338,1.042727185352491,1.048508658112675,1.0429336665224977,1.042520784276034,1.0534642061928328,1.0381845996123469,1.0416947795024585,1.0132004581351015,0.9840866932577248,0.9178063978727151,0.9242072340493694,0.9275109327694746,0.9273045316930173,0.9405192464798885,0.9537340413603088,0.9551793294568056,0.9361832220032998,0.9359767408332933,0.9173934355327023,0.9281304563730437,0.9196647284027744,0.9225554647828663,0.9258591635029715,0.9246202764829321,0.932260079773175,0.9407258077434443,0.9456812757300527,0.9361832220032998,0.9124378874525446,0.9171869543626957,0.9120249251125315,0.8975713233056211,0.8992231726656736,0.9031463148957986,0.8930287375654767,0.8946805869255293,0.878162093325004,0.8632955291780804,0.8632955291780804,0.8527649895077454,0.848635366107614,0.8482224838611502,0.8531779518477586,0.8721742194883628,0.8829111602351551,0.862056642158041,0.8523520271677323,0.8471899979175681,0.8517325836577125,0.8515261825812552,0.8381049065308284,0.8151854966600993,0.8244771493103948,0.8160115014336748,0.8038291124032874,0.8030031877232611,0.8133271661300402,0.7978411584730969,0.7840070001762062,0.8085781793134384,0.8219994553638653,0.8135337273935961,0.7944902846524745,0.7737041664664331,0.7688750861005658,0.7545977701955887,0.7491388341582972,0.7642560110208727,0.7638360805420734,0.7806328992262966,0.7783233216396754,0.7678252999503423,0.7768536050106528,0.7422101013984337,0.7552277059605623,0.764885866692297,0.764885866692297,0.7596368558476304,0.7909209156294555,0.7846221186345655,0.7846221186345655,0.7917607765870541,0.7800030435548726,0.7818926906626946,0.7808428244189218,0.7951201403238988,0.7898711294792321,0.8087676005574514,0.8041484453842092,0.8043584506703834,0.791550851394429],\"yaxis\":\"y\",\"type\":\"scatter\"}],                        {\"template\":{\"data\":{\"bar\":[{\"error_x\":{\"color\":\"#2a3f5f\"},\"error_y\":{\"color\":\"#2a3f5f\"},\"marker\":{\"line\":{\"color\":\"#E5ECF6\",\"width\":0.5},\"pattern\":{\"fillmode\":\"overlay\",\"size\":10,\"solidity\":0.2}},\"type\":\"bar\"}],\"barpolar\":[{\"marker\":{\"line\":{\"color\":\"#E5ECF6\",\"width\":0.5},\"pattern\":{\"fillmode\":\"overlay\",\"size\":10,\"solidity\":0.2}},\"type\":\"barpolar\"}],\"carpet\":[{\"aaxis\":{\"endlinecolor\":\"#2a3f5f\",\"gridcolor\":\"white\",\"linecolor\":\"white\",\"minorgridcolor\":\"white\",\"startlinecolor\":\"#2a3f5f\"},\"baxis\":{\"endlinecolor\":\"#2a3f5f\",\"gridcolor\":\"white\",\"linecolor\":\"white\",\"minorgridcolor\":\"white\",\"startlinecolor\":\"#2a3f5f\"},\"type\":\"carpet\"}],\"choropleth\":[{\"colorbar\":{\"outlinewidth\":0,\"ticks\":\"\"},\"type\":\"choropleth\"}],\"contour\":[{\"colorbar\":{\"outlinewidth\":0,\"ticks\":\"\"},\"colorscale\":[[0.0,\"#0d0887\"],[0.1111111111111111,\"#46039f\"],[0.2222222222222222,\"#7201a8\"],[0.3333333333333333,\"#9c179e\"],[0.4444444444444444,\"#bd3786\"],[0.5555555555555556,\"#d8576b\"],[0.6666666666666666,\"#ed7953\"],[0.7777777777777778,\"#fb9f3a\"],[0.8888888888888888,\"#fdca26\"],[1.0,\"#f0f921\"]],\"type\":\"contour\"}],\"contourcarpet\":[{\"colorbar\":{\"outlinewidth\":0,\"ticks\":\"\"},\"type\":\"contourcarpet\"}],\"heatmap\":[{\"colorbar\":{\"outlinewidth\":0,\"ticks\":\"\"},\"colorscale\":[[0.0,\"#0d0887\"],[0.1111111111111111,\"#46039f\"],[0.2222222222222222,\"#7201a8\"],[0.3333333333333333,\"#9c179e\"],[0.4444444444444444,\"#bd3786\"],[0.5555555555555556,\"#d8576b\"],[0.6666666666666666,\"#ed7953\"],[0.7777777777777778,\"#fb9f3a\"],[0.8888888888888888,\"#fdca26\"],[1.0,\"#f0f921\"]],\"type\":\"heatmap\"}],\"heatmapgl\":[{\"colorbar\":{\"outlinewidth\":0,\"ticks\":\"\"},\"colorscale\":[[0.0,\"#0d0887\"],[0.1111111111111111,\"#46039f\"],[0.2222222222222222,\"#7201a8\"],[0.3333333333333333,\"#9c179e\"],[0.4444444444444444,\"#bd3786\"],[0.5555555555555556,\"#d8576b\"],[0.6666666666666666,\"#ed7953\"],[0.7777777777777778,\"#fb9f3a\"],[0.8888888888888888,\"#fdca26\"],[1.0,\"#f0f921\"]],\"type\":\"heatmapgl\"}],\"histogram\":[{\"marker\":{\"pattern\":{\"fillmode\":\"overlay\",\"size\":10,\"solidity\":0.2}},\"type\":\"histogram\"}],\"histogram2d\":[{\"colorbar\":{\"outlinewidth\":0,\"ticks\":\"\"},\"colorscale\":[[0.0,\"#0d0887\"],[0.1111111111111111,\"#46039f\"],[0.2222222222222222,\"#7201a8\"],[0.3333333333333333,\"#9c179e\"],[0.4444444444444444,\"#bd3786\"],[0.5555555555555556,\"#d8576b\"],[0.6666666666666666,\"#ed7953\"],[0.7777777777777778,\"#fb9f3a\"],[0.8888888888888888,\"#fdca26\"],[1.0,\"#f0f921\"]],\"type\":\"histogram2d\"}],\"histogram2dcontour\":[{\"colorbar\":{\"outlinewidth\":0,\"ticks\":\"\"},\"colorscale\":[[0.0,\"#0d0887\"],[0.1111111111111111,\"#46039f\"],[0.2222222222222222,\"#7201a8\"],[0.3333333333333333,\"#9c179e\"],[0.4444444444444444,\"#bd3786\"],[0.5555555555555556,\"#d8576b\"],[0.6666666666666666,\"#ed7953\"],[0.7777777777777778,\"#fb9f3a\"],[0.8888888888888888,\"#fdca26\"],[1.0,\"#f0f921\"]],\"type\":\"histogram2dcontour\"}],\"mesh3d\":[{\"colorbar\":{\"outlinewidth\":0,\"ticks\":\"\"},\"type\":\"mesh3d\"}],\"parcoords\":[{\"line\":{\"colorbar\":{\"outlinewidth\":0,\"ticks\":\"\"}},\"type\":\"parcoords\"}],\"pie\":[{\"automargin\":true,\"type\":\"pie\"}],\"scatter\":[{\"marker\":{\"colorbar\":{\"outlinewidth\":0,\"ticks\":\"\"}},\"type\":\"scatter\"}],\"scatter3d\":[{\"line\":{\"colorbar\":{\"outlinewidth\":0,\"ticks\":\"\"}},\"marker\":{\"colorbar\":{\"outlinewidth\":0,\"ticks\":\"\"}},\"type\":\"scatter3d\"}],\"scattercarpet\":[{\"marker\":{\"colorbar\":{\"outlinewidth\":0,\"ticks\":\"\"}},\"type\":\"scattercarpet\"}],\"scattergeo\":[{\"marker\":{\"colorbar\":{\"outlinewidth\":0,\"ticks\":\"\"}},\"type\":\"scattergeo\"}],\"scattergl\":[{\"marker\":{\"colorbar\":{\"outlinewidth\":0,\"ticks\":\"\"}},\"type\":\"scattergl\"}],\"scattermapbox\":[{\"marker\":{\"colorbar\":{\"outlinewidth\":0,\"ticks\":\"\"}},\"type\":\"scattermapbox\"}],\"scatterpolar\":[{\"marker\":{\"colorbar\":{\"outlinewidth\":0,\"ticks\":\"\"}},\"type\":\"scatterpolar\"}],\"scatterpolargl\":[{\"marker\":{\"colorbar\":{\"outlinewidth\":0,\"ticks\":\"\"}},\"type\":\"scatterpolargl\"}],\"scatterternary\":[{\"marker\":{\"colorbar\":{\"outlinewidth\":0,\"ticks\":\"\"}},\"type\":\"scatterternary\"}],\"surface\":[{\"colorbar\":{\"outlinewidth\":0,\"ticks\":\"\"},\"colorscale\":[[0.0,\"#0d0887\"],[0.1111111111111111,\"#46039f\"],[0.2222222222222222,\"#7201a8\"],[0.3333333333333333,\"#9c179e\"],[0.4444444444444444,\"#bd3786\"],[0.5555555555555556,\"#d8576b\"],[0.6666666666666666,\"#ed7953\"],[0.7777777777777778,\"#fb9f3a\"],[0.8888888888888888,\"#fdca26\"],[1.0,\"#f0f921\"]],\"type\":\"surface\"}],\"table\":[{\"cells\":{\"fill\":{\"color\":\"#EBF0F8\"},\"line\":{\"color\":\"white\"}},\"header\":{\"fill\":{\"color\":\"#C8D4E3\"},\"line\":{\"color\":\"white\"}},\"type\":\"table\"}]},\"layout\":{\"annotationdefaults\":{\"arrowcolor\":\"#2a3f5f\",\"arrowhead\":0,\"arrowwidth\":1},\"autotypenumbers\":\"strict\",\"coloraxis\":{\"colorbar\":{\"outlinewidth\":0,\"ticks\":\"\"}},\"colorscale\":{\"diverging\":[[0,\"#8e0152\"],[0.1,\"#c51b7d\"],[0.2,\"#de77ae\"],[0.3,\"#f1b6da\"],[0.4,\"#fde0ef\"],[0.5,\"#f7f7f7\"],[0.6,\"#e6f5d0\"],[0.7,\"#b8e186\"],[0.8,\"#7fbc41\"],[0.9,\"#4d9221\"],[1,\"#276419\"]],\"sequential\":[[0.0,\"#0d0887\"],[0.1111111111111111,\"#46039f\"],[0.2222222222222222,\"#7201a8\"],[0.3333333333333333,\"#9c179e\"],[0.4444444444444444,\"#bd3786\"],[0.5555555555555556,\"#d8576b\"],[0.6666666666666666,\"#ed7953\"],[0.7777777777777778,\"#fb9f3a\"],[0.8888888888888888,\"#fdca26\"],[1.0,\"#f0f921\"]],\"sequentialminus\":[[0.0,\"#0d0887\"],[0.1111111111111111,\"#46039f\"],[0.2222222222222222,\"#7201a8\"],[0.3333333333333333,\"#9c179e\"],[0.4444444444444444,\"#bd3786\"],[0.5555555555555556,\"#d8576b\"],[0.6666666666666666,\"#ed7953\"],[0.7777777777777778,\"#fb9f3a\"],[0.8888888888888888,\"#fdca26\"],[1.0,\"#f0f921\"]]},\"colorway\":[\"#636efa\",\"#EF553B\",\"#00cc96\",\"#ab63fa\",\"#FFA15A\",\"#19d3f3\",\"#FF6692\",\"#B6E880\",\"#FF97FF\",\"#FECB52\"],\"font\":{\"color\":\"#2a3f5f\"},\"geo\":{\"bgcolor\":\"white\",\"lakecolor\":\"white\",\"landcolor\":\"#E5ECF6\",\"showlakes\":true,\"showland\":true,\"subunitcolor\":\"white\"},\"hoverlabel\":{\"align\":\"left\"},\"hovermode\":\"closest\",\"mapbox\":{\"style\":\"light\"},\"paper_bgcolor\":\"white\",\"plot_bgcolor\":\"#E5ECF6\",\"polar\":{\"angularaxis\":{\"gridcolor\":\"white\",\"linecolor\":\"white\",\"ticks\":\"\"},\"bgcolor\":\"#E5ECF6\",\"radialaxis\":{\"gridcolor\":\"white\",\"linecolor\":\"white\",\"ticks\":\"\"}},\"scene\":{\"xaxis\":{\"backgroundcolor\":\"#E5ECF6\",\"gridcolor\":\"white\",\"gridwidth\":2,\"linecolor\":\"white\",\"showbackground\":true,\"ticks\":\"\",\"zerolinecolor\":\"white\"},\"yaxis\":{\"backgroundcolor\":\"#E5ECF6\",\"gridcolor\":\"white\",\"gridwidth\":2,\"linecolor\":\"white\",\"showbackground\":true,\"ticks\":\"\",\"zerolinecolor\":\"white\"},\"zaxis\":{\"backgroundcolor\":\"#E5ECF6\",\"gridcolor\":\"white\",\"gridwidth\":2,\"linecolor\":\"white\",\"showbackground\":true,\"ticks\":\"\",\"zerolinecolor\":\"white\"}},\"shapedefaults\":{\"line\":{\"color\":\"#2a3f5f\"}},\"ternary\":{\"aaxis\":{\"gridcolor\":\"white\",\"linecolor\":\"white\",\"ticks\":\"\"},\"baxis\":{\"gridcolor\":\"white\",\"linecolor\":\"white\",\"ticks\":\"\"},\"bgcolor\":\"#E5ECF6\",\"caxis\":{\"gridcolor\":\"white\",\"linecolor\":\"white\",\"ticks\":\"\"}},\"title\":{\"x\":0.05},\"xaxis\":{\"automargin\":true,\"gridcolor\":\"white\",\"linecolor\":\"white\",\"ticks\":\"\",\"title\":{\"standoff\":15},\"zerolinecolor\":\"white\",\"zerolinewidth\":2},\"yaxis\":{\"automargin\":true,\"gridcolor\":\"white\",\"linecolor\":\"white\",\"ticks\":\"\",\"title\":{\"standoff\":15},\"zerolinecolor\":\"white\",\"zerolinewidth\":2}}},\"xaxis\":{\"anchor\":\"y\",\"domain\":[0.0,1.0],\"title\":{\"text\":\"Date\"}},\"yaxis\":{\"anchor\":\"x\",\"domain\":[0.0,1.0],\"title\":{\"text\":\"value\"}},\"legend\":{\"title\":{\"text\":\"variable\"},\"tracegroupgap\":0},\"margin\":{\"t\":60}},                        {\"responsive\": true}                    ).then(function(){\n",
              "                            \n",
              "var gd = document.getElementById('49b9a0c3-47e7-4a08-89fc-f10d51420122');\n",
              "var x = new MutationObserver(function (mutations, observer) {{\n",
              "        var display = window.getComputedStyle(gd).display;\n",
              "        if (!display || display === 'none') {{\n",
              "            console.log([gd, 'removed!']);\n",
              "            Plotly.purge(gd);\n",
              "            observer.disconnect();\n",
              "        }}\n",
              "}});\n",
              "\n",
              "// Listen for the removal of the full notebook cells\n",
              "var notebookContainer = gd.closest('#notebook-container');\n",
              "if (notebookContainer) {{\n",
              "    x.observe(notebookContainer, {childList: true});\n",
              "}}\n",
              "\n",
              "// Listen for the clearing of the current output cell\n",
              "var outputEl = gd.closest('.output');\n",
              "if (outputEl) {{\n",
              "    x.observe(outputEl, {childList: true});\n",
              "}}\n",
              "\n",
              "                        })                };                            </script>        </div>\n",
              "</body>\n",
              "</html>"
            ]
          },
          "metadata": {}
        }
      ]
    },
    {
      "cell_type": "code",
      "source": [
        "# ETFs analysis"
      ],
      "metadata": {
        "id": "I0NC5ucZNf22"
      },
      "execution_count": 14,
      "outputs": []
    },
    {
      "cell_type": "code",
      "source": [
        "def check_fundamentals_data_etfs(df, dict_rules_fundamentals):  \n",
        "  \n",
        "  rules_broken_by_symbol = []\n",
        "  metric_broken_by_symbol = {}\n",
        "\n",
        "  for symbol in df.index:\n",
        "    count_broken_rules = 0\n",
        "    tmp_metrics = []         \n",
        "    \n",
        "    for metric in df.columns:                                               \n",
        "      if metric in dict_rules_fundamentals:                        \n",
        "        if df.loc[symbol,metric] is not None:                        \n",
        "          if df.loc[symbol,metric] < dict_rules_fundamentals[metric]:\n",
        "            count_broken_rules += 1 \n",
        "            tmp_metrics.append(df.loc[symbol,metric])\n",
        "            tmp_metrics.append(dict_rules_fundamentals[metric])              \n",
        "            metric_broken_by_symbol[symbol] = tmp_metrics\n",
        "          if metric == \"beta3Year\":\n",
        "            if df.loc[symbol,metric] > 1.2:\n",
        "              count_broken_rules += 1\n",
        "              tmp_metrics.append(df.loc[symbol,metric])\n",
        "              tmp_metrics.append(dict_rules_fundamentals[metric])\n",
        "              metric_broken_by_symbol[symbol] = tmp_metrics\n",
        "      if count_broken_rules >= 3: # number of rules that was broken        \n",
        "        rules_broken_by_symbol.append(symbol)\n",
        "      else:\n",
        "        if symbol in metric_broken_by_symbol.keys():\n",
        "          metric_broken_by_symbol.pop(symbol) \n",
        "    \n",
        "    #try:      \n",
        "    #except Exception as e:\n",
        "    #  print (symbol, 'not found')\n",
        "\n",
        "  # Useful data\n",
        "  print(\"Stocks that broken the rules: \") \n",
        "  print(metric_broken_by_symbol)\n",
        "  #print(json.dumps(metric_broken_by_symbol, sort_keys=True, indent=4))\n",
        "  check_peformace_last_months(rules_broken_by_symbol)"
      ],
      "metadata": {
        "id": "2mr0lzUcHX4r"
      },
      "execution_count": 15,
      "outputs": []
    },
    {
      "cell_type": "code",
      "source": [
        "# https://www.investopedia.com/terms/b/beta.asp\n",
        "# Note pegratio and others were removed\n",
        "# they have none values\n",
        "metric_ETFs = [\n",
        "    'quoteType',\n",
        "    'beta3Year',\n",
        "    'trailingAnnualDividendYield',\n",
        "    'yield', \n",
        "    'marketCap', \n",
        "    'totalAssets',\n",
        "    'averageVolume',\n",
        "    'category'\n",
        "]"
      ],
      "metadata": {
        "id": "aDNw7v_qd9dr"
      },
      "execution_count": 16,
      "outputs": []
    },
    {
      "cell_type": "code",
      "source": [
        "# Defining rules to check fundamentals\n",
        "# gt -> great than >= \n",
        "rulesFundmentals_gt_etfs = {\n",
        "    'beta3Year' : 1.1,\n",
        "    'trailingAnnualDividendYield' : 0.011,\n",
        "    'yield' : 0.011,\n",
        "    'totalAssets' : 4730926080,\n",
        "    'averageVolume' : 621942\n",
        "}"
      ],
      "metadata": {
        "id": "b9fESRHV6oBA"
      },
      "execution_count": 17,
      "outputs": []
    },
    {
      "cell_type": "code",
      "source": [
        "ticket_etfs_shares = ['VOO', 'VNQ', 'CIBR']"
      ],
      "metadata": {
        "id": "nxG1GUv11c-2"
      },
      "execution_count": 18,
      "outputs": []
    },
    {
      "cell_type": "code",
      "source": [
        "df_etfs = pd.DataFrame(index=ticket_etfs_shares,columns=metric_ETFs)"
      ],
      "metadata": {
        "id": "Dpb_wERn1VFN"
      },
      "execution_count": 19,
      "outputs": []
    },
    {
      "cell_type": "code",
      "source": [
        "df_etfs = get_fundamental_data(df_etfs)"
      ],
      "metadata": {
        "colab": {
          "base_uri": "https://localhost:8080/"
        },
        "id": "4g3mAR_U1vM9",
        "outputId": "b8c3930e-b378-47ff-ada2-d912d3098458"
      },
      "execution_count": 20,
      "outputs": [
        {
          "output_type": "stream",
          "name": "stdout",
          "text": [
            "Getting symbol: VOO\n",
            "Getting symbol: VNQ\n",
            "Getting symbol: CIBR\n"
          ]
        }
      ]
    },
    {
      "cell_type": "code",
      "source": [
        "df_etfs"
      ],
      "metadata": {
        "id": "e5vIHtCgSkTb",
        "colab": {
          "base_uri": "https://localhost:8080/",
          "height": 143
        },
        "outputId": "2bb1486c-cea3-42ef-d10c-ddafdf36f507"
      },
      "execution_count": 21,
      "outputs": [
        {
          "output_type": "execute_result",
          "data": {
            "text/plain": [
              "     quoteType beta3Year trailingAnnualDividendYield   yield marketCap  \\\n",
              "VOO        ETF         1                    0.014969  0.0164      None   \n",
              "VNQ        ETF      1.03                    0.039284  0.0376      None   \n",
              "CIBR       ETF      1.04                           0  0.0073      None   \n",
              "\n",
              "       totalAssets averageVolume     category  \n",
              "VOO   747471699968       4684135  Large Blend  \n",
              "VNQ    63765606400       5642975  Real Estate  \n",
              "CIBR    5117977600        583689   Technology  "
            ],
            "text/html": [
              "\n",
              "  <div id=\"df-74baba5e-7b62-483d-a319-15cfc34b8290\">\n",
              "    <div class=\"colab-df-container\">\n",
              "      <div>\n",
              "<style scoped>\n",
              "    .dataframe tbody tr th:only-of-type {\n",
              "        vertical-align: middle;\n",
              "    }\n",
              "\n",
              "    .dataframe tbody tr th {\n",
              "        vertical-align: top;\n",
              "    }\n",
              "\n",
              "    .dataframe thead th {\n",
              "        text-align: right;\n",
              "    }\n",
              "</style>\n",
              "<table border=\"1\" class=\"dataframe\">\n",
              "  <thead>\n",
              "    <tr style=\"text-align: right;\">\n",
              "      <th></th>\n",
              "      <th>quoteType</th>\n",
              "      <th>beta3Year</th>\n",
              "      <th>trailingAnnualDividendYield</th>\n",
              "      <th>yield</th>\n",
              "      <th>marketCap</th>\n",
              "      <th>totalAssets</th>\n",
              "      <th>averageVolume</th>\n",
              "      <th>category</th>\n",
              "    </tr>\n",
              "  </thead>\n",
              "  <tbody>\n",
              "    <tr>\n",
              "      <th>VOO</th>\n",
              "      <td>ETF</td>\n",
              "      <td>1</td>\n",
              "      <td>0.014969</td>\n",
              "      <td>0.0164</td>\n",
              "      <td>None</td>\n",
              "      <td>747471699968</td>\n",
              "      <td>4684135</td>\n",
              "      <td>Large Blend</td>\n",
              "    </tr>\n",
              "    <tr>\n",
              "      <th>VNQ</th>\n",
              "      <td>ETF</td>\n",
              "      <td>1.03</td>\n",
              "      <td>0.039284</td>\n",
              "      <td>0.0376</td>\n",
              "      <td>None</td>\n",
              "      <td>63765606400</td>\n",
              "      <td>5642975</td>\n",
              "      <td>Real Estate</td>\n",
              "    </tr>\n",
              "    <tr>\n",
              "      <th>CIBR</th>\n",
              "      <td>ETF</td>\n",
              "      <td>1.04</td>\n",
              "      <td>0</td>\n",
              "      <td>0.0073</td>\n",
              "      <td>None</td>\n",
              "      <td>5117977600</td>\n",
              "      <td>583689</td>\n",
              "      <td>Technology</td>\n",
              "    </tr>\n",
              "  </tbody>\n",
              "</table>\n",
              "</div>\n",
              "      <button class=\"colab-df-convert\" onclick=\"convertToInteractive('df-74baba5e-7b62-483d-a319-15cfc34b8290')\"\n",
              "              title=\"Convert this dataframe to an interactive table.\"\n",
              "              style=\"display:none;\">\n",
              "        \n",
              "  <svg xmlns=\"http://www.w3.org/2000/svg\" height=\"24px\"viewBox=\"0 0 24 24\"\n",
              "       width=\"24px\">\n",
              "    <path d=\"M0 0h24v24H0V0z\" fill=\"none\"/>\n",
              "    <path d=\"M18.56 5.44l.94 2.06.94-2.06 2.06-.94-2.06-.94-.94-2.06-.94 2.06-2.06.94zm-11 1L8.5 8.5l.94-2.06 2.06-.94-2.06-.94L8.5 2.5l-.94 2.06-2.06.94zm10 10l.94 2.06.94-2.06 2.06-.94-2.06-.94-.94-2.06-.94 2.06-2.06.94z\"/><path d=\"M17.41 7.96l-1.37-1.37c-.4-.4-.92-.59-1.43-.59-.52 0-1.04.2-1.43.59L10.3 9.45l-7.72 7.72c-.78.78-.78 2.05 0 2.83L4 21.41c.39.39.9.59 1.41.59.51 0 1.02-.2 1.41-.59l7.78-7.78 2.81-2.81c.8-.78.8-2.07 0-2.86zM5.41 20L4 18.59l7.72-7.72 1.47 1.35L5.41 20z\"/>\n",
              "  </svg>\n",
              "      </button>\n",
              "      \n",
              "  <style>\n",
              "    .colab-df-container {\n",
              "      display:flex;\n",
              "      flex-wrap:wrap;\n",
              "      gap: 12px;\n",
              "    }\n",
              "\n",
              "    .colab-df-convert {\n",
              "      background-color: #E8F0FE;\n",
              "      border: none;\n",
              "      border-radius: 50%;\n",
              "      cursor: pointer;\n",
              "      display: none;\n",
              "      fill: #1967D2;\n",
              "      height: 32px;\n",
              "      padding: 0 0 0 0;\n",
              "      width: 32px;\n",
              "    }\n",
              "\n",
              "    .colab-df-convert:hover {\n",
              "      background-color: #E2EBFA;\n",
              "      box-shadow: 0px 1px 2px rgba(60, 64, 67, 0.3), 0px 1px 3px 1px rgba(60, 64, 67, 0.15);\n",
              "      fill: #174EA6;\n",
              "    }\n",
              "\n",
              "    [theme=dark] .colab-df-convert {\n",
              "      background-color: #3B4455;\n",
              "      fill: #D2E3FC;\n",
              "    }\n",
              "\n",
              "    [theme=dark] .colab-df-convert:hover {\n",
              "      background-color: #434B5C;\n",
              "      box-shadow: 0px 1px 3px 1px rgba(0, 0, 0, 0.15);\n",
              "      filter: drop-shadow(0px 1px 2px rgba(0, 0, 0, 0.3));\n",
              "      fill: #FFFFFF;\n",
              "    }\n",
              "  </style>\n",
              "\n",
              "      <script>\n",
              "        const buttonEl =\n",
              "          document.querySelector('#df-74baba5e-7b62-483d-a319-15cfc34b8290 button.colab-df-convert');\n",
              "        buttonEl.style.display =\n",
              "          google.colab.kernel.accessAllowed ? 'block' : 'none';\n",
              "\n",
              "        async function convertToInteractive(key) {\n",
              "          const element = document.querySelector('#df-74baba5e-7b62-483d-a319-15cfc34b8290');\n",
              "          const dataTable =\n",
              "            await google.colab.kernel.invokeFunction('convertToInteractive',\n",
              "                                                     [key], {});\n",
              "          if (!dataTable) return;\n",
              "\n",
              "          const docLinkHtml = 'Like what you see? Visit the ' +\n",
              "            '<a target=\"_blank\" href=https://colab.research.google.com/notebooks/data_table.ipynb>data table notebook</a>'\n",
              "            + ' to learn more about interactive tables.';\n",
              "          element.innerHTML = '';\n",
              "          dataTable['output_type'] = 'display_data';\n",
              "          await google.colab.output.renderOutput(dataTable, element);\n",
              "          const docLink = document.createElement('div');\n",
              "          docLink.innerHTML = docLinkHtml;\n",
              "          element.appendChild(docLink);\n",
              "        }\n",
              "      </script>\n",
              "    </div>\n",
              "  </div>\n",
              "  "
            ]
          },
          "metadata": {},
          "execution_count": 21
        }
      ]
    },
    {
      "cell_type": "code",
      "source": [
        "check_fundamentals_data_etfs(df_etfs, rulesFundmentals_gt_etfs)"
      ],
      "metadata": {
        "id": "DT1wBhZI7zqg",
        "colab": {
          "base_uri": "https://localhost:8080/",
          "height": 611
        },
        "outputId": "b96a57d2-1290-428f-d414-2ce4022e08c1"
      },
      "execution_count": 22,
      "outputs": [
        {
          "output_type": "stream",
          "name": "stdout",
          "text": [
            "Stocks that broken the rules: \n",
            "{'CIBR': [1.04, 1.1, 0, 0.011, 0.0073, 0.011, 583689, 621942]}\n",
            "\r[*********************100%***********************]  1 of 1 completed\n",
            "{'CIBR': 0.4717570120806158}\n"
          ]
        },
        {
          "output_type": "display_data",
          "data": {
            "text/html": [
              "<html>\n",
              "<head><meta charset=\"utf-8\" /></head>\n",
              "<body>\n",
              "    <div>            <script src=\"https://cdnjs.cloudflare.com/ajax/libs/mathjax/2.7.5/MathJax.js?config=TeX-AMS-MML_SVG\"></script><script type=\"text/javascript\">if (window.MathJax) {MathJax.Hub.Config({SVG: {font: \"STIX-Web\"}});}</script>                <script type=\"text/javascript\">window.PlotlyConfig = {MathJaxConfig: 'local'};</script>\n",
              "        <script src=\"https://cdn.plot.ly/plotly-2.8.3.min.js\"></script>                <div id=\"9ba92f22-d28c-447b-ba1d-01b2dcbc896b\" class=\"plotly-graph-div\" style=\"height:525px; width:100%;\"></div>            <script type=\"text/javascript\">                                    window.PLOTLYENV=window.PLOTLYENV || {};                                    if (document.getElementById(\"9ba92f22-d28c-447b-ba1d-01b2dcbc896b\")) {                    Plotly.newPlot(                        \"9ba92f22-d28c-447b-ba1d-01b2dcbc896b\",                        [{\"hovertemplate\":\"Date=%{x}<br>CIBR=%{y}<extra></extra>\",\"legendgroup\":\"\",\"line\":{\"color\":\"#636efa\",\"dash\":\"solid\"},\"marker\":{\"symbol\":\"circle\"},\"mode\":\"lines\",\"name\":\"\",\"orientation\":\"v\",\"showlegend\":false,\"x\":[\"2022-05-16T00:00:00\",\"2022-05-17T00:00:00\",\"2022-05-18T00:00:00\",\"2022-05-19T00:00:00\",\"2022-05-20T00:00:00\",\"2022-05-23T00:00:00\",\"2022-05-24T00:00:00\",\"2022-05-25T00:00:00\",\"2022-05-26T00:00:00\",\"2022-05-27T00:00:00\",\"2022-05-31T00:00:00\",\"2022-06-01T00:00:00\",\"2022-06-02T00:00:00\",\"2022-06-03T00:00:00\",\"2022-06-06T00:00:00\",\"2022-06-07T00:00:00\",\"2022-06-08T00:00:00\",\"2022-06-09T00:00:00\",\"2022-06-10T00:00:00\",\"2022-06-13T00:00:00\",\"2022-06-14T00:00:00\",\"2022-06-15T00:00:00\",\"2022-06-16T00:00:00\",\"2022-06-17T00:00:00\",\"2022-06-21T00:00:00\",\"2022-06-22T00:00:00\",\"2022-06-23T00:00:00\",\"2022-06-24T00:00:00\",\"2022-06-27T00:00:00\",\"2022-06-28T00:00:00\",\"2022-06-29T00:00:00\",\"2022-06-30T00:00:00\",\"2022-07-01T00:00:00\",\"2022-07-05T00:00:00\",\"2022-07-06T00:00:00\",\"2022-07-07T00:00:00\",\"2022-07-08T00:00:00\",\"2022-07-11T00:00:00\",\"2022-07-12T00:00:00\",\"2022-07-13T00:00:00\",\"2022-07-14T00:00:00\",\"2022-07-15T00:00:00\",\"2022-07-18T00:00:00\",\"2022-07-19T00:00:00\",\"2022-07-20T00:00:00\",\"2022-07-21T00:00:00\",\"2022-07-22T00:00:00\",\"2022-07-25T00:00:00\",\"2022-07-26T00:00:00\",\"2022-07-27T00:00:00\",\"2022-07-28T00:00:00\",\"2022-07-29T00:00:00\",\"2022-08-01T00:00:00\",\"2022-08-02T00:00:00\",\"2022-08-03T00:00:00\",\"2022-08-04T00:00:00\",\"2022-08-05T00:00:00\",\"2022-08-08T00:00:00\",\"2022-08-09T00:00:00\",\"2022-08-10T00:00:00\",\"2022-08-11T00:00:00\",\"2022-08-12T00:00:00\",\"2022-08-15T00:00:00\",\"2022-08-16T00:00:00\",\"2022-08-17T00:00:00\",\"2022-08-18T00:00:00\",\"2022-08-19T00:00:00\",\"2022-08-22T00:00:00\",\"2022-08-23T00:00:00\",\"2022-08-24T00:00:00\",\"2022-08-25T00:00:00\",\"2022-08-26T00:00:00\",\"2022-08-29T00:00:00\",\"2022-08-30T00:00:00\",\"2022-08-31T00:00:00\",\"2022-09-01T00:00:00\",\"2022-09-02T00:00:00\",\"2022-09-06T00:00:00\",\"2022-09-07T00:00:00\",\"2022-09-08T00:00:00\",\"2022-09-09T00:00:00\",\"2022-09-12T00:00:00\",\"2022-09-13T00:00:00\",\"2022-09-14T00:00:00\",\"2022-09-15T00:00:00\",\"2022-09-16T00:00:00\",\"2022-09-19T00:00:00\",\"2022-09-20T00:00:00\",\"2022-09-21T00:00:00\",\"2022-09-22T00:00:00\",\"2022-09-23T00:00:00\",\"2022-09-26T00:00:00\",\"2022-09-27T00:00:00\",\"2022-09-28T00:00:00\",\"2022-09-29T00:00:00\",\"2022-09-30T00:00:00\",\"2022-10-03T00:00:00\",\"2022-10-04T00:00:00\",\"2022-10-05T00:00:00\",\"2022-10-06T00:00:00\",\"2022-10-07T00:00:00\",\"2022-10-10T00:00:00\",\"2022-10-11T00:00:00\",\"2022-10-12T00:00:00\",\"2022-10-13T00:00:00\",\"2022-10-14T00:00:00\",\"2022-10-17T00:00:00\",\"2022-10-18T00:00:00\",\"2022-10-19T00:00:00\",\"2022-10-20T00:00:00\",\"2022-10-21T00:00:00\",\"2022-10-24T00:00:00\",\"2022-10-25T00:00:00\",\"2022-10-26T00:00:00\",\"2022-10-27T00:00:00\",\"2022-10-28T00:00:00\",\"2022-10-31T00:00:00\",\"2022-11-01T00:00:00\",\"2022-11-02T00:00:00\",\"2022-11-03T00:00:00\",\"2022-11-04T00:00:00\",\"2022-11-07T00:00:00\",\"2022-11-08T00:00:00\",\"2022-11-09T00:00:00\",\"2022-11-10T00:00:00\",\"2022-11-11T00:00:00\",\"2022-11-14T00:00:00\",\"2022-11-15T00:00:00\"],\"xaxis\":\"x\",\"y\":[null,1.0114886619880452,0.9696895490281232,0.9733561591524583,0.9897336035553224,1.01491085630486,0.9904669442307659,1.0080665609241137,1.034221476903732,1.0655096843585725,1.0361769898696593,1.0400880158015144,1.0716206390638752,1.054754363045971,1.0537766065630072,1.0703984667733912,1.062576414909681,1.0405769406694378,1.0053777072827421,0.9572232238099974,0.9550232017836663,0.9770227692767928,0.9357124879319109,0.9545343701686261,0.981178211016168,0.9777561099522365,1.0063553705128223,1.0479864417767693,1.0320968032072275,1.0010507734907041,1.0008062644303006,0.9836943603173915,1.006184344724577,1.0276965726487985,1.0303856127959365,1.0540978627464892,1.0543423718068927,1.036252524705253,0.9971394678001987,0.9944504276530606,0.9795385455664826,1.0015396983586278,1.004717570120806,1.0267187229129513,1.0467641762334021,1.0670541386142565,1.048475366644693,1.0313633692789006,0.9922503123738463,1.0083844600037917,1.0245186076337371,1.030630028603457,1.0323412190147478,1.0430972863504169,1.087588516802631,1.0704765194368384,1.0883218574780746,1.0897886320818455,1.0775657901424056,1.124012533560547,1.1078783859306018,1.127190498575609,1.1374576410433546,1.1362353754999872,1.1152120724436894,1.1264571579001657,1.0973667344024534,1.0756100906707116,1.0905219727572895,1.0941887693873915,1.1071450452551586,1.07243212565565,1.0624093989954246,1.0599648679086902,1.0474975169088467,1.0093623097396396,1.0037398136378433,0.9976283926681233,1.0142514651659922,1.0276965726487994,1.0685208199651446,1.087099591934708,1.0382082241769484,1.0367414495731775,1.0186516024715377,0.9973838836077197,1.010095650415083,0.9973838836077196,0.9885834224908615,0.9607153577893999,0.9433589446160873,0.9406699044689492,0.9472702503065928,0.9638933228044619,0.9482481000424402,0.9414032451443931,0.9675602126874472,1.000072923754858,1.0025174548415927,0.9956726931964291,0.9572929769668185,0.9316250275445713,0.915490879914626,0.9096238747524261,0.9245357568390041,0.9015568475638951,0.9392031298651785,0.9565596362913746,0.945559059895302,0.9514259718046184,0.9692714030987382,0.9717159341854728,0.9986061491510871,0.9964060338718727,1.0052064949887307,1.0235407578978906,1.0196294522073852,1.0071621944604252,0.9675602126874473,0.9389587140576585,0.9230689822352333,0.9247802658994075,0.9436033604236075,0.9240468319710803,0.9827165105815452,0.9995839988869343,0.9851610416682799,1.004717570120807],\"yaxis\":\"y\",\"type\":\"scatter\"}],                        {\"template\":{\"data\":{\"bar\":[{\"error_x\":{\"color\":\"#2a3f5f\"},\"error_y\":{\"color\":\"#2a3f5f\"},\"marker\":{\"line\":{\"color\":\"#E5ECF6\",\"width\":0.5},\"pattern\":{\"fillmode\":\"overlay\",\"size\":10,\"solidity\":0.2}},\"type\":\"bar\"}],\"barpolar\":[{\"marker\":{\"line\":{\"color\":\"#E5ECF6\",\"width\":0.5},\"pattern\":{\"fillmode\":\"overlay\",\"size\":10,\"solidity\":0.2}},\"type\":\"barpolar\"}],\"carpet\":[{\"aaxis\":{\"endlinecolor\":\"#2a3f5f\",\"gridcolor\":\"white\",\"linecolor\":\"white\",\"minorgridcolor\":\"white\",\"startlinecolor\":\"#2a3f5f\"},\"baxis\":{\"endlinecolor\":\"#2a3f5f\",\"gridcolor\":\"white\",\"linecolor\":\"white\",\"minorgridcolor\":\"white\",\"startlinecolor\":\"#2a3f5f\"},\"type\":\"carpet\"}],\"choropleth\":[{\"colorbar\":{\"outlinewidth\":0,\"ticks\":\"\"},\"type\":\"choropleth\"}],\"contour\":[{\"colorbar\":{\"outlinewidth\":0,\"ticks\":\"\"},\"colorscale\":[[0.0,\"#0d0887\"],[0.1111111111111111,\"#46039f\"],[0.2222222222222222,\"#7201a8\"],[0.3333333333333333,\"#9c179e\"],[0.4444444444444444,\"#bd3786\"],[0.5555555555555556,\"#d8576b\"],[0.6666666666666666,\"#ed7953\"],[0.7777777777777778,\"#fb9f3a\"],[0.8888888888888888,\"#fdca26\"],[1.0,\"#f0f921\"]],\"type\":\"contour\"}],\"contourcarpet\":[{\"colorbar\":{\"outlinewidth\":0,\"ticks\":\"\"},\"type\":\"contourcarpet\"}],\"heatmap\":[{\"colorbar\":{\"outlinewidth\":0,\"ticks\":\"\"},\"colorscale\":[[0.0,\"#0d0887\"],[0.1111111111111111,\"#46039f\"],[0.2222222222222222,\"#7201a8\"],[0.3333333333333333,\"#9c179e\"],[0.4444444444444444,\"#bd3786\"],[0.5555555555555556,\"#d8576b\"],[0.6666666666666666,\"#ed7953\"],[0.7777777777777778,\"#fb9f3a\"],[0.8888888888888888,\"#fdca26\"],[1.0,\"#f0f921\"]],\"type\":\"heatmap\"}],\"heatmapgl\":[{\"colorbar\":{\"outlinewidth\":0,\"ticks\":\"\"},\"colorscale\":[[0.0,\"#0d0887\"],[0.1111111111111111,\"#46039f\"],[0.2222222222222222,\"#7201a8\"],[0.3333333333333333,\"#9c179e\"],[0.4444444444444444,\"#bd3786\"],[0.5555555555555556,\"#d8576b\"],[0.6666666666666666,\"#ed7953\"],[0.7777777777777778,\"#fb9f3a\"],[0.8888888888888888,\"#fdca26\"],[1.0,\"#f0f921\"]],\"type\":\"heatmapgl\"}],\"histogram\":[{\"marker\":{\"pattern\":{\"fillmode\":\"overlay\",\"size\":10,\"solidity\":0.2}},\"type\":\"histogram\"}],\"histogram2d\":[{\"colorbar\":{\"outlinewidth\":0,\"ticks\":\"\"},\"colorscale\":[[0.0,\"#0d0887\"],[0.1111111111111111,\"#46039f\"],[0.2222222222222222,\"#7201a8\"],[0.3333333333333333,\"#9c179e\"],[0.4444444444444444,\"#bd3786\"],[0.5555555555555556,\"#d8576b\"],[0.6666666666666666,\"#ed7953\"],[0.7777777777777778,\"#fb9f3a\"],[0.8888888888888888,\"#fdca26\"],[1.0,\"#f0f921\"]],\"type\":\"histogram2d\"}],\"histogram2dcontour\":[{\"colorbar\":{\"outlinewidth\":0,\"ticks\":\"\"},\"colorscale\":[[0.0,\"#0d0887\"],[0.1111111111111111,\"#46039f\"],[0.2222222222222222,\"#7201a8\"],[0.3333333333333333,\"#9c179e\"],[0.4444444444444444,\"#bd3786\"],[0.5555555555555556,\"#d8576b\"],[0.6666666666666666,\"#ed7953\"],[0.7777777777777778,\"#fb9f3a\"],[0.8888888888888888,\"#fdca26\"],[1.0,\"#f0f921\"]],\"type\":\"histogram2dcontour\"}],\"mesh3d\":[{\"colorbar\":{\"outlinewidth\":0,\"ticks\":\"\"},\"type\":\"mesh3d\"}],\"parcoords\":[{\"line\":{\"colorbar\":{\"outlinewidth\":0,\"ticks\":\"\"}},\"type\":\"parcoords\"}],\"pie\":[{\"automargin\":true,\"type\":\"pie\"}],\"scatter\":[{\"marker\":{\"colorbar\":{\"outlinewidth\":0,\"ticks\":\"\"}},\"type\":\"scatter\"}],\"scatter3d\":[{\"line\":{\"colorbar\":{\"outlinewidth\":0,\"ticks\":\"\"}},\"marker\":{\"colorbar\":{\"outlinewidth\":0,\"ticks\":\"\"}},\"type\":\"scatter3d\"}],\"scattercarpet\":[{\"marker\":{\"colorbar\":{\"outlinewidth\":0,\"ticks\":\"\"}},\"type\":\"scattercarpet\"}],\"scattergeo\":[{\"marker\":{\"colorbar\":{\"outlinewidth\":0,\"ticks\":\"\"}},\"type\":\"scattergeo\"}],\"scattergl\":[{\"marker\":{\"colorbar\":{\"outlinewidth\":0,\"ticks\":\"\"}},\"type\":\"scattergl\"}],\"scattermapbox\":[{\"marker\":{\"colorbar\":{\"outlinewidth\":0,\"ticks\":\"\"}},\"type\":\"scattermapbox\"}],\"scatterpolar\":[{\"marker\":{\"colorbar\":{\"outlinewidth\":0,\"ticks\":\"\"}},\"type\":\"scatterpolar\"}],\"scatterpolargl\":[{\"marker\":{\"colorbar\":{\"outlinewidth\":0,\"ticks\":\"\"}},\"type\":\"scatterpolargl\"}],\"scatterternary\":[{\"marker\":{\"colorbar\":{\"outlinewidth\":0,\"ticks\":\"\"}},\"type\":\"scatterternary\"}],\"surface\":[{\"colorbar\":{\"outlinewidth\":0,\"ticks\":\"\"},\"colorscale\":[[0.0,\"#0d0887\"],[0.1111111111111111,\"#46039f\"],[0.2222222222222222,\"#7201a8\"],[0.3333333333333333,\"#9c179e\"],[0.4444444444444444,\"#bd3786\"],[0.5555555555555556,\"#d8576b\"],[0.6666666666666666,\"#ed7953\"],[0.7777777777777778,\"#fb9f3a\"],[0.8888888888888888,\"#fdca26\"],[1.0,\"#f0f921\"]],\"type\":\"surface\"}],\"table\":[{\"cells\":{\"fill\":{\"color\":\"#EBF0F8\"},\"line\":{\"color\":\"white\"}},\"header\":{\"fill\":{\"color\":\"#C8D4E3\"},\"line\":{\"color\":\"white\"}},\"type\":\"table\"}]},\"layout\":{\"annotationdefaults\":{\"arrowcolor\":\"#2a3f5f\",\"arrowhead\":0,\"arrowwidth\":1},\"autotypenumbers\":\"strict\",\"coloraxis\":{\"colorbar\":{\"outlinewidth\":0,\"ticks\":\"\"}},\"colorscale\":{\"diverging\":[[0,\"#8e0152\"],[0.1,\"#c51b7d\"],[0.2,\"#de77ae\"],[0.3,\"#f1b6da\"],[0.4,\"#fde0ef\"],[0.5,\"#f7f7f7\"],[0.6,\"#e6f5d0\"],[0.7,\"#b8e186\"],[0.8,\"#7fbc41\"],[0.9,\"#4d9221\"],[1,\"#276419\"]],\"sequential\":[[0.0,\"#0d0887\"],[0.1111111111111111,\"#46039f\"],[0.2222222222222222,\"#7201a8\"],[0.3333333333333333,\"#9c179e\"],[0.4444444444444444,\"#bd3786\"],[0.5555555555555556,\"#d8576b\"],[0.6666666666666666,\"#ed7953\"],[0.7777777777777778,\"#fb9f3a\"],[0.8888888888888888,\"#fdca26\"],[1.0,\"#f0f921\"]],\"sequentialminus\":[[0.0,\"#0d0887\"],[0.1111111111111111,\"#46039f\"],[0.2222222222222222,\"#7201a8\"],[0.3333333333333333,\"#9c179e\"],[0.4444444444444444,\"#bd3786\"],[0.5555555555555556,\"#d8576b\"],[0.6666666666666666,\"#ed7953\"],[0.7777777777777778,\"#fb9f3a\"],[0.8888888888888888,\"#fdca26\"],[1.0,\"#f0f921\"]]},\"colorway\":[\"#636efa\",\"#EF553B\",\"#00cc96\",\"#ab63fa\",\"#FFA15A\",\"#19d3f3\",\"#FF6692\",\"#B6E880\",\"#FF97FF\",\"#FECB52\"],\"font\":{\"color\":\"#2a3f5f\"},\"geo\":{\"bgcolor\":\"white\",\"lakecolor\":\"white\",\"landcolor\":\"#E5ECF6\",\"showlakes\":true,\"showland\":true,\"subunitcolor\":\"white\"},\"hoverlabel\":{\"align\":\"left\"},\"hovermode\":\"closest\",\"mapbox\":{\"style\":\"light\"},\"paper_bgcolor\":\"white\",\"plot_bgcolor\":\"#E5ECF6\",\"polar\":{\"angularaxis\":{\"gridcolor\":\"white\",\"linecolor\":\"white\",\"ticks\":\"\"},\"bgcolor\":\"#E5ECF6\",\"radialaxis\":{\"gridcolor\":\"white\",\"linecolor\":\"white\",\"ticks\":\"\"}},\"scene\":{\"xaxis\":{\"backgroundcolor\":\"#E5ECF6\",\"gridcolor\":\"white\",\"gridwidth\":2,\"linecolor\":\"white\",\"showbackground\":true,\"ticks\":\"\",\"zerolinecolor\":\"white\"},\"yaxis\":{\"backgroundcolor\":\"#E5ECF6\",\"gridcolor\":\"white\",\"gridwidth\":2,\"linecolor\":\"white\",\"showbackground\":true,\"ticks\":\"\",\"zerolinecolor\":\"white\"},\"zaxis\":{\"backgroundcolor\":\"#E5ECF6\",\"gridcolor\":\"white\",\"gridwidth\":2,\"linecolor\":\"white\",\"showbackground\":true,\"ticks\":\"\",\"zerolinecolor\":\"white\"}},\"shapedefaults\":{\"line\":{\"color\":\"#2a3f5f\"}},\"ternary\":{\"aaxis\":{\"gridcolor\":\"white\",\"linecolor\":\"white\",\"ticks\":\"\"},\"baxis\":{\"gridcolor\":\"white\",\"linecolor\":\"white\",\"ticks\":\"\"},\"bgcolor\":\"#E5ECF6\",\"caxis\":{\"gridcolor\":\"white\",\"linecolor\":\"white\",\"ticks\":\"\"}},\"title\":{\"x\":0.05},\"xaxis\":{\"automargin\":true,\"gridcolor\":\"white\",\"linecolor\":\"white\",\"ticks\":\"\",\"title\":{\"standoff\":15},\"zerolinecolor\":\"white\",\"zerolinewidth\":2},\"yaxis\":{\"automargin\":true,\"gridcolor\":\"white\",\"linecolor\":\"white\",\"ticks\":\"\",\"title\":{\"standoff\":15},\"zerolinecolor\":\"white\",\"zerolinewidth\":2}}},\"xaxis\":{\"anchor\":\"y\",\"domain\":[0.0,1.0],\"title\":{\"text\":\"Date\"}},\"yaxis\":{\"anchor\":\"x\",\"domain\":[0.0,1.0],\"title\":{\"text\":\"CIBR\"}},\"legend\":{\"tracegroupgap\":0},\"margin\":{\"t\":60}},                        {\"responsive\": true}                    ).then(function(){\n",
              "                            \n",
              "var gd = document.getElementById('9ba92f22-d28c-447b-ba1d-01b2dcbc896b');\n",
              "var x = new MutationObserver(function (mutations, observer) {{\n",
              "        var display = window.getComputedStyle(gd).display;\n",
              "        if (!display || display === 'none') {{\n",
              "            console.log([gd, 'removed!']);\n",
              "            Plotly.purge(gd);\n",
              "            observer.disconnect();\n",
              "        }}\n",
              "}});\n",
              "\n",
              "// Listen for the removal of the full notebook cells\n",
              "var notebookContainer = gd.closest('#notebook-container');\n",
              "if (notebookContainer) {{\n",
              "    x.observe(notebookContainer, {childList: true});\n",
              "}}\n",
              "\n",
              "// Listen for the clearing of the current output cell\n",
              "var outputEl = gd.closest('.output');\n",
              "if (outputEl) {{\n",
              "    x.observe(outputEl, {childList: true});\n",
              "}}\n",
              "\n",
              "                        })                };                            </script>        </div>\n",
              "</body>\n",
              "</html>"
            ]
          },
          "metadata": {}
        }
      ]
    },
    {
      "cell_type": "code",
      "source": [
        "# https://kernc.github.io/backtesting.py/doc/examples/Parameter%20Heatmap.html\n",
        "# https://towardsdatascience.com/better-heatmaps-and-correlation-matrix-plots-in-python-41445d0f2bec\n",
        "# "
      ],
      "metadata": {
        "id": "9RnY7W-j1Gr8"
      },
      "execution_count": 23,
      "outputs": []
    },
    {
      "cell_type": "markdown",
      "source": [
        "Analyzing Brasil Stonks"
      ],
      "metadata": {
        "id": "793rKVly5NXr"
      }
    },
    {
      "cell_type": "code",
      "source": [
        "# 'BOVA11.SA' 'IVVB11.SA'\n",
        "ticket_BRA_shares = ['ABEV3.SA','ASAI3.SA','BPAC11.SA','GOAU4.SA','ITUB4.SA','PETR4.SA','PRIO3.SA','RANI3.SA','TAEE11.SA','TRPL4.SA','VALE3.SA']"
      ],
      "metadata": {
        "id": "_2KtliT-5M2X"
      },
      "execution_count": 24,
      "outputs": []
    },
    {
      "cell_type": "code",
      "source": [
        "import plotly.graph_objects as go\n",
        "\n",
        "def generate_sankey_chart(df_tickets):\n",
        "  \"\"\" Sector by ticket \"\"\"\n",
        "  lab_list = df_tickets.index.values.tolist() + list(set(df_tickets['sector'].values.tolist()))\n",
        "  \n",
        "  fig = go.Figure(data=[go.Sankey(\n",
        "    node = dict(\n",
        "      pad = 15,\n",
        "      thickness = 20,\n",
        "      line = dict(color = \"black\", width = 0.5),\n",
        "      label = lab_list\n",
        "      #color = \"blue\"\n",
        "    ),\n",
        "    link = dict(\n",
        "      # indices correspond to labels, eg PETR3.SA\n",
        "      source = list(map(lambda x: df_tickets.index.values.tolist().index(x), df_tickets.index.values.tolist())), \n",
        "      target = list(map(lambda x: lab_list.index(str(df_tickets.loc[x,'sector'])), df_tickets.index.values.tolist())),\n",
        "      value = [1, 1, 1, 1, 1, 1, 1, 1, 1] # number of tickets\n",
        "  ))])\n",
        "\n",
        "  fig.update_layout(title_text=\"Basic Sankey Diagram\", font_size=10)\n",
        "  fig.show()\n"
      ],
      "metadata": {
        "id": "R9VDFFFUftL5"
      },
      "execution_count": 101,
      "outputs": []
    },
    {
      "cell_type": "code",
      "source": [
        "df_bra = pd.DataFrame(index=ticket_BRA_shares,columns=metric_company_shares)"
      ],
      "metadata": {
        "id": "jhYanmt07Nwt"
      },
      "execution_count": 25,
      "outputs": []
    },
    {
      "cell_type": "code",
      "source": [
        "df_bra = get_fundamental_data(df_bra) #error sector"
      ],
      "metadata": {
        "colab": {
          "base_uri": "https://localhost:8080/"
        },
        "id": "9K68Ysv97d1c",
        "outputId": "afa0a76b-7198-4519-f413-77109e1a8caf"
      },
      "execution_count": 26,
      "outputs": [
        {
          "output_type": "stream",
          "name": "stdout",
          "text": [
            "Getting symbol: ABEV3.SA\n",
            "Getting symbol: ASAI3.SA\n",
            "Getting symbol: BPAC11.SA\n",
            "Getting symbol: GOAU4.SA\n",
            "Getting symbol: ITUB4.SA\n",
            "Getting symbol: PETR4.SA\n",
            "Getting symbol: PRIO3.SA\n",
            "Getting symbol: RANI3.SA\n",
            "Getting symbol: TAEE11.SA\n",
            "Getting symbol: TRPL4.SA\n",
            "Getting symbol: VALE3.SA\n"
          ]
        }
      ]
    },
    {
      "cell_type": "code",
      "source": [
        "df_bra.sort_values('debtToEquity')"
      ],
      "metadata": {
        "id": "EJ5LmUAO7fxQ",
        "colab": {
          "base_uri": "https://localhost:8080/",
          "height": 580
        },
        "outputId": "ea00e547-3251-4682-b61f-d82335b3dcaa"
      },
      "execution_count": 27,
      "outputs": [
        {
          "output_type": "execute_result",
          "data": {
            "text/plain": [
              "              marketCap revenueGrowth pegRatio returnOnAssets returnOnEquity  \\\n",
              "ABEV3.SA   252016377856         0.113     1.93        0.07882        0.15085   \n",
              "GOAU4.SA    13960438784         0.201     0.06        0.17753        0.38091   \n",
              "VALE3.SA   403616956416        -0.368     0.02        0.16793        0.50592   \n",
              "TRPL4.SA    17181577216         0.103     0.84        0.08117        0.18785   \n",
              "PETR4.SA   381152002048         0.544     0.11        0.17079        0.41849   \n",
              "PRIO3.SA    32473788416         0.832      0.6        0.15698        0.39519   \n",
              "RANI3.SA     2192445184         0.064     None        0.12233         0.3754   \n",
              "TAEE11.SA   41381343232        -0.063    -1.43        0.09853        0.30798   \n",
              "ASAI3.SA    26391400448         0.275    -2.19        0.05956        0.44722   \n",
              "BPAC11.SA   87271604224          0.63     0.62         0.0203        0.19075   \n",
              "ITUB4.SA   246914908160        -0.056     0.61        0.01364        0.17457   \n",
              "\n",
              "          profitMargins currentRatio debtToEquity payoutRatio  \\\n",
              "ABEV3.SA        0.16575        1.188        3.735      0.7305   \n",
              "GOAU4.SA        0.06173        2.259       27.879      0.4919   \n",
              "VALE3.SA        0.41553        1.322       43.861      0.5717   \n",
              "TRPL4.SA        0.47454        7.491       49.838      0.3457   \n",
              "PETR4.SA         0.2842        1.313       67.975       0.955   \n",
              "PRIO3.SA        0.43876        8.198        81.33           0   \n",
              "RANI3.SA        0.21248        2.787      109.241      0.4284   \n",
              "TAEE11.SA       0.63098         3.09      121.385        None   \n",
              "ASAI3.SA        0.02675        0.909      554.604        None   \n",
              "BPAC11.SA       0.30585         None         None        None   \n",
              "ITUB4.SA        0.23826         None         None      0.2928   \n",
              "\n",
              "          recommendationMean recommendationKey     totalDebt  \\\n",
              "ABEV3.SA                 2.6              hold    3419270912   \n",
              "GOAU4.SA                 1.7               buy   13434730496   \n",
              "VALE3.SA                 2.4               buy   84964999168   \n",
              "TRPL4.SA                 3.2              hold    7991869952   \n",
              "PETR4.SA                 2.4               buy  280637014016   \n",
              "PRIO3.SA                 1.8               buy    6646010880   \n",
              "RANI3.SA                 2.5               buy    1127901056   \n",
              "TAEE11.SA                3.8      underperform    8684054528   \n",
              "ASAI3.SA                 1.9               buy   19938000896   \n",
              "BPAC11.SA                2.3               buy  195370975232   \n",
              "ITUB4.SA                 2.2               buy  715831967744   \n",
              "\n",
              "                       sector dividendYield averageVolume  totalRevenue  \n",
              "ABEV3.SA   Consumer Defensive        0.0423      26873100   79026618368  \n",
              "GOAU4.SA      Basic Materials        0.1259       9008441   86170910720  \n",
              "VALE3.SA      Basic Materials        0.1014      38104409  249432997888  \n",
              "TRPL4.SA            Utilities        0.1182       1900375    5961070080  \n",
              "PETR4.SA               Energy        0.3116      97244059  568385011712  \n",
              "PRIO3.SA               Energy          None      13653479    6121811968  \n",
              "RANI3.SA    Consumer Cyclical        0.0448       1344306    1683387008  \n",
              "TAEE11.SA           Utilities        0.0851       2013762    3302647040  \n",
              "ASAI3.SA   Consumer Defensive        0.0128      12738648   50121998336  \n",
              "BPAC11.SA  Financial Services        0.0169      11569633   23310096384  \n",
              "ITUB4.SA   Financial Services        0.0074      41179948  112395001856  "
            ],
            "text/html": [
              "\n",
              "  <div id=\"df-5ef34b2f-9e77-49c7-9a92-4c05e2edcfac\">\n",
              "    <div class=\"colab-df-container\">\n",
              "      <div>\n",
              "<style scoped>\n",
              "    .dataframe tbody tr th:only-of-type {\n",
              "        vertical-align: middle;\n",
              "    }\n",
              "\n",
              "    .dataframe tbody tr th {\n",
              "        vertical-align: top;\n",
              "    }\n",
              "\n",
              "    .dataframe thead th {\n",
              "        text-align: right;\n",
              "    }\n",
              "</style>\n",
              "<table border=\"1\" class=\"dataframe\">\n",
              "  <thead>\n",
              "    <tr style=\"text-align: right;\">\n",
              "      <th></th>\n",
              "      <th>marketCap</th>\n",
              "      <th>revenueGrowth</th>\n",
              "      <th>pegRatio</th>\n",
              "      <th>returnOnAssets</th>\n",
              "      <th>returnOnEquity</th>\n",
              "      <th>profitMargins</th>\n",
              "      <th>currentRatio</th>\n",
              "      <th>debtToEquity</th>\n",
              "      <th>payoutRatio</th>\n",
              "      <th>recommendationMean</th>\n",
              "      <th>recommendationKey</th>\n",
              "      <th>totalDebt</th>\n",
              "      <th>sector</th>\n",
              "      <th>dividendYield</th>\n",
              "      <th>averageVolume</th>\n",
              "      <th>totalRevenue</th>\n",
              "    </tr>\n",
              "  </thead>\n",
              "  <tbody>\n",
              "    <tr>\n",
              "      <th>ABEV3.SA</th>\n",
              "      <td>252016377856</td>\n",
              "      <td>0.113</td>\n",
              "      <td>1.93</td>\n",
              "      <td>0.07882</td>\n",
              "      <td>0.15085</td>\n",
              "      <td>0.16575</td>\n",
              "      <td>1.188</td>\n",
              "      <td>3.735</td>\n",
              "      <td>0.7305</td>\n",
              "      <td>2.6</td>\n",
              "      <td>hold</td>\n",
              "      <td>3419270912</td>\n",
              "      <td>Consumer Defensive</td>\n",
              "      <td>0.0423</td>\n",
              "      <td>26873100</td>\n",
              "      <td>79026618368</td>\n",
              "    </tr>\n",
              "    <tr>\n",
              "      <th>GOAU4.SA</th>\n",
              "      <td>13960438784</td>\n",
              "      <td>0.201</td>\n",
              "      <td>0.06</td>\n",
              "      <td>0.17753</td>\n",
              "      <td>0.38091</td>\n",
              "      <td>0.06173</td>\n",
              "      <td>2.259</td>\n",
              "      <td>27.879</td>\n",
              "      <td>0.4919</td>\n",
              "      <td>1.7</td>\n",
              "      <td>buy</td>\n",
              "      <td>13434730496</td>\n",
              "      <td>Basic Materials</td>\n",
              "      <td>0.1259</td>\n",
              "      <td>9008441</td>\n",
              "      <td>86170910720</td>\n",
              "    </tr>\n",
              "    <tr>\n",
              "      <th>VALE3.SA</th>\n",
              "      <td>403616956416</td>\n",
              "      <td>-0.368</td>\n",
              "      <td>0.02</td>\n",
              "      <td>0.16793</td>\n",
              "      <td>0.50592</td>\n",
              "      <td>0.41553</td>\n",
              "      <td>1.322</td>\n",
              "      <td>43.861</td>\n",
              "      <td>0.5717</td>\n",
              "      <td>2.4</td>\n",
              "      <td>buy</td>\n",
              "      <td>84964999168</td>\n",
              "      <td>Basic Materials</td>\n",
              "      <td>0.1014</td>\n",
              "      <td>38104409</td>\n",
              "      <td>249432997888</td>\n",
              "    </tr>\n",
              "    <tr>\n",
              "      <th>TRPL4.SA</th>\n",
              "      <td>17181577216</td>\n",
              "      <td>0.103</td>\n",
              "      <td>0.84</td>\n",
              "      <td>0.08117</td>\n",
              "      <td>0.18785</td>\n",
              "      <td>0.47454</td>\n",
              "      <td>7.491</td>\n",
              "      <td>49.838</td>\n",
              "      <td>0.3457</td>\n",
              "      <td>3.2</td>\n",
              "      <td>hold</td>\n",
              "      <td>7991869952</td>\n",
              "      <td>Utilities</td>\n",
              "      <td>0.1182</td>\n",
              "      <td>1900375</td>\n",
              "      <td>5961070080</td>\n",
              "    </tr>\n",
              "    <tr>\n",
              "      <th>PETR4.SA</th>\n",
              "      <td>381152002048</td>\n",
              "      <td>0.544</td>\n",
              "      <td>0.11</td>\n",
              "      <td>0.17079</td>\n",
              "      <td>0.41849</td>\n",
              "      <td>0.2842</td>\n",
              "      <td>1.313</td>\n",
              "      <td>67.975</td>\n",
              "      <td>0.955</td>\n",
              "      <td>2.4</td>\n",
              "      <td>buy</td>\n",
              "      <td>280637014016</td>\n",
              "      <td>Energy</td>\n",
              "      <td>0.3116</td>\n",
              "      <td>97244059</td>\n",
              "      <td>568385011712</td>\n",
              "    </tr>\n",
              "    <tr>\n",
              "      <th>PRIO3.SA</th>\n",
              "      <td>32473788416</td>\n",
              "      <td>0.832</td>\n",
              "      <td>0.6</td>\n",
              "      <td>0.15698</td>\n",
              "      <td>0.39519</td>\n",
              "      <td>0.43876</td>\n",
              "      <td>8.198</td>\n",
              "      <td>81.33</td>\n",
              "      <td>0</td>\n",
              "      <td>1.8</td>\n",
              "      <td>buy</td>\n",
              "      <td>6646010880</td>\n",
              "      <td>Energy</td>\n",
              "      <td>None</td>\n",
              "      <td>13653479</td>\n",
              "      <td>6121811968</td>\n",
              "    </tr>\n",
              "    <tr>\n",
              "      <th>RANI3.SA</th>\n",
              "      <td>2192445184</td>\n",
              "      <td>0.064</td>\n",
              "      <td>None</td>\n",
              "      <td>0.12233</td>\n",
              "      <td>0.3754</td>\n",
              "      <td>0.21248</td>\n",
              "      <td>2.787</td>\n",
              "      <td>109.241</td>\n",
              "      <td>0.4284</td>\n",
              "      <td>2.5</td>\n",
              "      <td>buy</td>\n",
              "      <td>1127901056</td>\n",
              "      <td>Consumer Cyclical</td>\n",
              "      <td>0.0448</td>\n",
              "      <td>1344306</td>\n",
              "      <td>1683387008</td>\n",
              "    </tr>\n",
              "    <tr>\n",
              "      <th>TAEE11.SA</th>\n",
              "      <td>41381343232</td>\n",
              "      <td>-0.063</td>\n",
              "      <td>-1.43</td>\n",
              "      <td>0.09853</td>\n",
              "      <td>0.30798</td>\n",
              "      <td>0.63098</td>\n",
              "      <td>3.09</td>\n",
              "      <td>121.385</td>\n",
              "      <td>None</td>\n",
              "      <td>3.8</td>\n",
              "      <td>underperform</td>\n",
              "      <td>8684054528</td>\n",
              "      <td>Utilities</td>\n",
              "      <td>0.0851</td>\n",
              "      <td>2013762</td>\n",
              "      <td>3302647040</td>\n",
              "    </tr>\n",
              "    <tr>\n",
              "      <th>ASAI3.SA</th>\n",
              "      <td>26391400448</td>\n",
              "      <td>0.275</td>\n",
              "      <td>-2.19</td>\n",
              "      <td>0.05956</td>\n",
              "      <td>0.44722</td>\n",
              "      <td>0.02675</td>\n",
              "      <td>0.909</td>\n",
              "      <td>554.604</td>\n",
              "      <td>None</td>\n",
              "      <td>1.9</td>\n",
              "      <td>buy</td>\n",
              "      <td>19938000896</td>\n",
              "      <td>Consumer Defensive</td>\n",
              "      <td>0.0128</td>\n",
              "      <td>12738648</td>\n",
              "      <td>50121998336</td>\n",
              "    </tr>\n",
              "    <tr>\n",
              "      <th>BPAC11.SA</th>\n",
              "      <td>87271604224</td>\n",
              "      <td>0.63</td>\n",
              "      <td>0.62</td>\n",
              "      <td>0.0203</td>\n",
              "      <td>0.19075</td>\n",
              "      <td>0.30585</td>\n",
              "      <td>None</td>\n",
              "      <td>None</td>\n",
              "      <td>None</td>\n",
              "      <td>2.3</td>\n",
              "      <td>buy</td>\n",
              "      <td>195370975232</td>\n",
              "      <td>Financial Services</td>\n",
              "      <td>0.0169</td>\n",
              "      <td>11569633</td>\n",
              "      <td>23310096384</td>\n",
              "    </tr>\n",
              "    <tr>\n",
              "      <th>ITUB4.SA</th>\n",
              "      <td>246914908160</td>\n",
              "      <td>-0.056</td>\n",
              "      <td>0.61</td>\n",
              "      <td>0.01364</td>\n",
              "      <td>0.17457</td>\n",
              "      <td>0.23826</td>\n",
              "      <td>None</td>\n",
              "      <td>None</td>\n",
              "      <td>0.2928</td>\n",
              "      <td>2.2</td>\n",
              "      <td>buy</td>\n",
              "      <td>715831967744</td>\n",
              "      <td>Financial Services</td>\n",
              "      <td>0.0074</td>\n",
              "      <td>41179948</td>\n",
              "      <td>112395001856</td>\n",
              "    </tr>\n",
              "  </tbody>\n",
              "</table>\n",
              "</div>\n",
              "      <button class=\"colab-df-convert\" onclick=\"convertToInteractive('df-5ef34b2f-9e77-49c7-9a92-4c05e2edcfac')\"\n",
              "              title=\"Convert this dataframe to an interactive table.\"\n",
              "              style=\"display:none;\">\n",
              "        \n",
              "  <svg xmlns=\"http://www.w3.org/2000/svg\" height=\"24px\"viewBox=\"0 0 24 24\"\n",
              "       width=\"24px\">\n",
              "    <path d=\"M0 0h24v24H0V0z\" fill=\"none\"/>\n",
              "    <path d=\"M18.56 5.44l.94 2.06.94-2.06 2.06-.94-2.06-.94-.94-2.06-.94 2.06-2.06.94zm-11 1L8.5 8.5l.94-2.06 2.06-.94-2.06-.94L8.5 2.5l-.94 2.06-2.06.94zm10 10l.94 2.06.94-2.06 2.06-.94-2.06-.94-.94-2.06-.94 2.06-2.06.94z\"/><path d=\"M17.41 7.96l-1.37-1.37c-.4-.4-.92-.59-1.43-.59-.52 0-1.04.2-1.43.59L10.3 9.45l-7.72 7.72c-.78.78-.78 2.05 0 2.83L4 21.41c.39.39.9.59 1.41.59.51 0 1.02-.2 1.41-.59l7.78-7.78 2.81-2.81c.8-.78.8-2.07 0-2.86zM5.41 20L4 18.59l7.72-7.72 1.47 1.35L5.41 20z\"/>\n",
              "  </svg>\n",
              "      </button>\n",
              "      \n",
              "  <style>\n",
              "    .colab-df-container {\n",
              "      display:flex;\n",
              "      flex-wrap:wrap;\n",
              "      gap: 12px;\n",
              "    }\n",
              "\n",
              "    .colab-df-convert {\n",
              "      background-color: #E8F0FE;\n",
              "      border: none;\n",
              "      border-radius: 50%;\n",
              "      cursor: pointer;\n",
              "      display: none;\n",
              "      fill: #1967D2;\n",
              "      height: 32px;\n",
              "      padding: 0 0 0 0;\n",
              "      width: 32px;\n",
              "    }\n",
              "\n",
              "    .colab-df-convert:hover {\n",
              "      background-color: #E2EBFA;\n",
              "      box-shadow: 0px 1px 2px rgba(60, 64, 67, 0.3), 0px 1px 3px 1px rgba(60, 64, 67, 0.15);\n",
              "      fill: #174EA6;\n",
              "    }\n",
              "\n",
              "    [theme=dark] .colab-df-convert {\n",
              "      background-color: #3B4455;\n",
              "      fill: #D2E3FC;\n",
              "    }\n",
              "\n",
              "    [theme=dark] .colab-df-convert:hover {\n",
              "      background-color: #434B5C;\n",
              "      box-shadow: 0px 1px 3px 1px rgba(0, 0, 0, 0.15);\n",
              "      filter: drop-shadow(0px 1px 2px rgba(0, 0, 0, 0.3));\n",
              "      fill: #FFFFFF;\n",
              "    }\n",
              "  </style>\n",
              "\n",
              "      <script>\n",
              "        const buttonEl =\n",
              "          document.querySelector('#df-5ef34b2f-9e77-49c7-9a92-4c05e2edcfac button.colab-df-convert');\n",
              "        buttonEl.style.display =\n",
              "          google.colab.kernel.accessAllowed ? 'block' : 'none';\n",
              "\n",
              "        async function convertToInteractive(key) {\n",
              "          const element = document.querySelector('#df-5ef34b2f-9e77-49c7-9a92-4c05e2edcfac');\n",
              "          const dataTable =\n",
              "            await google.colab.kernel.invokeFunction('convertToInteractive',\n",
              "                                                     [key], {});\n",
              "          if (!dataTable) return;\n",
              "\n",
              "          const docLinkHtml = 'Like what you see? Visit the ' +\n",
              "            '<a target=\"_blank\" href=https://colab.research.google.com/notebooks/data_table.ipynb>data table notebook</a>'\n",
              "            + ' to learn more about interactive tables.';\n",
              "          element.innerHTML = '';\n",
              "          dataTable['output_type'] = 'display_data';\n",
              "          await google.colab.output.renderOutput(dataTable, element);\n",
              "          const docLink = document.createElement('div');\n",
              "          docLink.innerHTML = docLinkHtml;\n",
              "          element.appendChild(docLink);\n",
              "        }\n",
              "      </script>\n",
              "    </div>\n",
              "  </div>\n",
              "  "
            ]
          },
          "metadata": {},
          "execution_count": 27
        }
      ]
    },
    {
      "cell_type": "code",
      "source": [
        "generate_sankey_chart(df_bra)"
      ],
      "metadata": {
        "colab": {
          "base_uri": "https://localhost:8080/",
          "height": 542
        },
        "id": "RnNVnI50hYX0",
        "outputId": "2c1a1ed7-3eff-4647-e257-0ac57575c2d0"
      },
      "execution_count": 102,
      "outputs": [
        {
          "output_type": "display_data",
          "data": {
            "text/html": [
              "<html>\n",
              "<head><meta charset=\"utf-8\" /></head>\n",
              "<body>\n",
              "    <div>            <script src=\"https://cdnjs.cloudflare.com/ajax/libs/mathjax/2.7.5/MathJax.js?config=TeX-AMS-MML_SVG\"></script><script type=\"text/javascript\">if (window.MathJax) {MathJax.Hub.Config({SVG: {font: \"STIX-Web\"}});}</script>                <script type=\"text/javascript\">window.PlotlyConfig = {MathJaxConfig: 'local'};</script>\n",
              "        <script src=\"https://cdn.plot.ly/plotly-2.8.3.min.js\"></script>                <div id=\"0051d1ba-be5a-4ef3-ad96-9eb3a84564ad\" class=\"plotly-graph-div\" style=\"height:525px; width:100%;\"></div>            <script type=\"text/javascript\">                                    window.PLOTLYENV=window.PLOTLYENV || {};                                    if (document.getElementById(\"0051d1ba-be5a-4ef3-ad96-9eb3a84564ad\")) {                    Plotly.newPlot(                        \"0051d1ba-be5a-4ef3-ad96-9eb3a84564ad\",                        [{\"link\":{\"source\":[0,1,2,3,4,5,6,7,8,9,10],\"target\":[12,12,11,16,11,14,14,13,15,15,16],\"value\":[1,1,1,1,1,1,1,1,1]},\"node\":{\"label\":[\"ABEV3.SA\",\"ASAI3.SA\",\"BPAC11.SA\",\"GOAU4.SA\",\"ITUB4.SA\",\"PETR4.SA\",\"PRIO3.SA\",\"RANI3.SA\",\"TAEE11.SA\",\"TRPL4.SA\",\"VALE3.SA\",\"Financial Services\",\"Consumer Defensive\",\"Consumer Cyclical\",\"Energy\",\"Utilities\",\"Basic Materials\"],\"line\":{\"color\":\"black\",\"width\":0.5},\"pad\":15,\"thickness\":20},\"type\":\"sankey\"}],                        {\"template\":{\"data\":{\"bar\":[{\"error_x\":{\"color\":\"#2a3f5f\"},\"error_y\":{\"color\":\"#2a3f5f\"},\"marker\":{\"line\":{\"color\":\"#E5ECF6\",\"width\":0.5},\"pattern\":{\"fillmode\":\"overlay\",\"size\":10,\"solidity\":0.2}},\"type\":\"bar\"}],\"barpolar\":[{\"marker\":{\"line\":{\"color\":\"#E5ECF6\",\"width\":0.5},\"pattern\":{\"fillmode\":\"overlay\",\"size\":10,\"solidity\":0.2}},\"type\":\"barpolar\"}],\"carpet\":[{\"aaxis\":{\"endlinecolor\":\"#2a3f5f\",\"gridcolor\":\"white\",\"linecolor\":\"white\",\"minorgridcolor\":\"white\",\"startlinecolor\":\"#2a3f5f\"},\"baxis\":{\"endlinecolor\":\"#2a3f5f\",\"gridcolor\":\"white\",\"linecolor\":\"white\",\"minorgridcolor\":\"white\",\"startlinecolor\":\"#2a3f5f\"},\"type\":\"carpet\"}],\"choropleth\":[{\"colorbar\":{\"outlinewidth\":0,\"ticks\":\"\"},\"type\":\"choropleth\"}],\"contour\":[{\"colorbar\":{\"outlinewidth\":0,\"ticks\":\"\"},\"colorscale\":[[0.0,\"#0d0887\"],[0.1111111111111111,\"#46039f\"],[0.2222222222222222,\"#7201a8\"],[0.3333333333333333,\"#9c179e\"],[0.4444444444444444,\"#bd3786\"],[0.5555555555555556,\"#d8576b\"],[0.6666666666666666,\"#ed7953\"],[0.7777777777777778,\"#fb9f3a\"],[0.8888888888888888,\"#fdca26\"],[1.0,\"#f0f921\"]],\"type\":\"contour\"}],\"contourcarpet\":[{\"colorbar\":{\"outlinewidth\":0,\"ticks\":\"\"},\"type\":\"contourcarpet\"}],\"heatmap\":[{\"colorbar\":{\"outlinewidth\":0,\"ticks\":\"\"},\"colorscale\":[[0.0,\"#0d0887\"],[0.1111111111111111,\"#46039f\"],[0.2222222222222222,\"#7201a8\"],[0.3333333333333333,\"#9c179e\"],[0.4444444444444444,\"#bd3786\"],[0.5555555555555556,\"#d8576b\"],[0.6666666666666666,\"#ed7953\"],[0.7777777777777778,\"#fb9f3a\"],[0.8888888888888888,\"#fdca26\"],[1.0,\"#f0f921\"]],\"type\":\"heatmap\"}],\"heatmapgl\":[{\"colorbar\":{\"outlinewidth\":0,\"ticks\":\"\"},\"colorscale\":[[0.0,\"#0d0887\"],[0.1111111111111111,\"#46039f\"],[0.2222222222222222,\"#7201a8\"],[0.3333333333333333,\"#9c179e\"],[0.4444444444444444,\"#bd3786\"],[0.5555555555555556,\"#d8576b\"],[0.6666666666666666,\"#ed7953\"],[0.7777777777777778,\"#fb9f3a\"],[0.8888888888888888,\"#fdca26\"],[1.0,\"#f0f921\"]],\"type\":\"heatmapgl\"}],\"histogram\":[{\"marker\":{\"pattern\":{\"fillmode\":\"overlay\",\"size\":10,\"solidity\":0.2}},\"type\":\"histogram\"}],\"histogram2d\":[{\"colorbar\":{\"outlinewidth\":0,\"ticks\":\"\"},\"colorscale\":[[0.0,\"#0d0887\"],[0.1111111111111111,\"#46039f\"],[0.2222222222222222,\"#7201a8\"],[0.3333333333333333,\"#9c179e\"],[0.4444444444444444,\"#bd3786\"],[0.5555555555555556,\"#d8576b\"],[0.6666666666666666,\"#ed7953\"],[0.7777777777777778,\"#fb9f3a\"],[0.8888888888888888,\"#fdca26\"],[1.0,\"#f0f921\"]],\"type\":\"histogram2d\"}],\"histogram2dcontour\":[{\"colorbar\":{\"outlinewidth\":0,\"ticks\":\"\"},\"colorscale\":[[0.0,\"#0d0887\"],[0.1111111111111111,\"#46039f\"],[0.2222222222222222,\"#7201a8\"],[0.3333333333333333,\"#9c179e\"],[0.4444444444444444,\"#bd3786\"],[0.5555555555555556,\"#d8576b\"],[0.6666666666666666,\"#ed7953\"],[0.7777777777777778,\"#fb9f3a\"],[0.8888888888888888,\"#fdca26\"],[1.0,\"#f0f921\"]],\"type\":\"histogram2dcontour\"}],\"mesh3d\":[{\"colorbar\":{\"outlinewidth\":0,\"ticks\":\"\"},\"type\":\"mesh3d\"}],\"parcoords\":[{\"line\":{\"colorbar\":{\"outlinewidth\":0,\"ticks\":\"\"}},\"type\":\"parcoords\"}],\"pie\":[{\"automargin\":true,\"type\":\"pie\"}],\"scatter\":[{\"marker\":{\"colorbar\":{\"outlinewidth\":0,\"ticks\":\"\"}},\"type\":\"scatter\"}],\"scatter3d\":[{\"line\":{\"colorbar\":{\"outlinewidth\":0,\"ticks\":\"\"}},\"marker\":{\"colorbar\":{\"outlinewidth\":0,\"ticks\":\"\"}},\"type\":\"scatter3d\"}],\"scattercarpet\":[{\"marker\":{\"colorbar\":{\"outlinewidth\":0,\"ticks\":\"\"}},\"type\":\"scattercarpet\"}],\"scattergeo\":[{\"marker\":{\"colorbar\":{\"outlinewidth\":0,\"ticks\":\"\"}},\"type\":\"scattergeo\"}],\"scattergl\":[{\"marker\":{\"colorbar\":{\"outlinewidth\":0,\"ticks\":\"\"}},\"type\":\"scattergl\"}],\"scattermapbox\":[{\"marker\":{\"colorbar\":{\"outlinewidth\":0,\"ticks\":\"\"}},\"type\":\"scattermapbox\"}],\"scatterpolar\":[{\"marker\":{\"colorbar\":{\"outlinewidth\":0,\"ticks\":\"\"}},\"type\":\"scatterpolar\"}],\"scatterpolargl\":[{\"marker\":{\"colorbar\":{\"outlinewidth\":0,\"ticks\":\"\"}},\"type\":\"scatterpolargl\"}],\"scatterternary\":[{\"marker\":{\"colorbar\":{\"outlinewidth\":0,\"ticks\":\"\"}},\"type\":\"scatterternary\"}],\"surface\":[{\"colorbar\":{\"outlinewidth\":0,\"ticks\":\"\"},\"colorscale\":[[0.0,\"#0d0887\"],[0.1111111111111111,\"#46039f\"],[0.2222222222222222,\"#7201a8\"],[0.3333333333333333,\"#9c179e\"],[0.4444444444444444,\"#bd3786\"],[0.5555555555555556,\"#d8576b\"],[0.6666666666666666,\"#ed7953\"],[0.7777777777777778,\"#fb9f3a\"],[0.8888888888888888,\"#fdca26\"],[1.0,\"#f0f921\"]],\"type\":\"surface\"}],\"table\":[{\"cells\":{\"fill\":{\"color\":\"#EBF0F8\"},\"line\":{\"color\":\"white\"}},\"header\":{\"fill\":{\"color\":\"#C8D4E3\"},\"line\":{\"color\":\"white\"}},\"type\":\"table\"}]},\"layout\":{\"annotationdefaults\":{\"arrowcolor\":\"#2a3f5f\",\"arrowhead\":0,\"arrowwidth\":1},\"autotypenumbers\":\"strict\",\"coloraxis\":{\"colorbar\":{\"outlinewidth\":0,\"ticks\":\"\"}},\"colorscale\":{\"diverging\":[[0,\"#8e0152\"],[0.1,\"#c51b7d\"],[0.2,\"#de77ae\"],[0.3,\"#f1b6da\"],[0.4,\"#fde0ef\"],[0.5,\"#f7f7f7\"],[0.6,\"#e6f5d0\"],[0.7,\"#b8e186\"],[0.8,\"#7fbc41\"],[0.9,\"#4d9221\"],[1,\"#276419\"]],\"sequential\":[[0.0,\"#0d0887\"],[0.1111111111111111,\"#46039f\"],[0.2222222222222222,\"#7201a8\"],[0.3333333333333333,\"#9c179e\"],[0.4444444444444444,\"#bd3786\"],[0.5555555555555556,\"#d8576b\"],[0.6666666666666666,\"#ed7953\"],[0.7777777777777778,\"#fb9f3a\"],[0.8888888888888888,\"#fdca26\"],[1.0,\"#f0f921\"]],\"sequentialminus\":[[0.0,\"#0d0887\"],[0.1111111111111111,\"#46039f\"],[0.2222222222222222,\"#7201a8\"],[0.3333333333333333,\"#9c179e\"],[0.4444444444444444,\"#bd3786\"],[0.5555555555555556,\"#d8576b\"],[0.6666666666666666,\"#ed7953\"],[0.7777777777777778,\"#fb9f3a\"],[0.8888888888888888,\"#fdca26\"],[1.0,\"#f0f921\"]]},\"colorway\":[\"#636efa\",\"#EF553B\",\"#00cc96\",\"#ab63fa\",\"#FFA15A\",\"#19d3f3\",\"#FF6692\",\"#B6E880\",\"#FF97FF\",\"#FECB52\"],\"font\":{\"color\":\"#2a3f5f\"},\"geo\":{\"bgcolor\":\"white\",\"lakecolor\":\"white\",\"landcolor\":\"#E5ECF6\",\"showlakes\":true,\"showland\":true,\"subunitcolor\":\"white\"},\"hoverlabel\":{\"align\":\"left\"},\"hovermode\":\"closest\",\"mapbox\":{\"style\":\"light\"},\"paper_bgcolor\":\"white\",\"plot_bgcolor\":\"#E5ECF6\",\"polar\":{\"angularaxis\":{\"gridcolor\":\"white\",\"linecolor\":\"white\",\"ticks\":\"\"},\"bgcolor\":\"#E5ECF6\",\"radialaxis\":{\"gridcolor\":\"white\",\"linecolor\":\"white\",\"ticks\":\"\"}},\"scene\":{\"xaxis\":{\"backgroundcolor\":\"#E5ECF6\",\"gridcolor\":\"white\",\"gridwidth\":2,\"linecolor\":\"white\",\"showbackground\":true,\"ticks\":\"\",\"zerolinecolor\":\"white\"},\"yaxis\":{\"backgroundcolor\":\"#E5ECF6\",\"gridcolor\":\"white\",\"gridwidth\":2,\"linecolor\":\"white\",\"showbackground\":true,\"ticks\":\"\",\"zerolinecolor\":\"white\"},\"zaxis\":{\"backgroundcolor\":\"#E5ECF6\",\"gridcolor\":\"white\",\"gridwidth\":2,\"linecolor\":\"white\",\"showbackground\":true,\"ticks\":\"\",\"zerolinecolor\":\"white\"}},\"shapedefaults\":{\"line\":{\"color\":\"#2a3f5f\"}},\"ternary\":{\"aaxis\":{\"gridcolor\":\"white\",\"linecolor\":\"white\",\"ticks\":\"\"},\"baxis\":{\"gridcolor\":\"white\",\"linecolor\":\"white\",\"ticks\":\"\"},\"bgcolor\":\"#E5ECF6\",\"caxis\":{\"gridcolor\":\"white\",\"linecolor\":\"white\",\"ticks\":\"\"}},\"title\":{\"x\":0.05},\"xaxis\":{\"automargin\":true,\"gridcolor\":\"white\",\"linecolor\":\"white\",\"ticks\":\"\",\"title\":{\"standoff\":15},\"zerolinecolor\":\"white\",\"zerolinewidth\":2},\"yaxis\":{\"automargin\":true,\"gridcolor\":\"white\",\"linecolor\":\"white\",\"ticks\":\"\",\"title\":{\"standoff\":15},\"zerolinecolor\":\"white\",\"zerolinewidth\":2}}},\"title\":{\"text\":\"Basic Sankey Diagram\"},\"font\":{\"size\":10}},                        {\"responsive\": true}                    ).then(function(){\n",
              "                            \n",
              "var gd = document.getElementById('0051d1ba-be5a-4ef3-ad96-9eb3a84564ad');\n",
              "var x = new MutationObserver(function (mutations, observer) {{\n",
              "        var display = window.getComputedStyle(gd).display;\n",
              "        if (!display || display === 'none') {{\n",
              "            console.log([gd, 'removed!']);\n",
              "            Plotly.purge(gd);\n",
              "            observer.disconnect();\n",
              "        }}\n",
              "}});\n",
              "\n",
              "// Listen for the removal of the full notebook cells\n",
              "var notebookContainer = gd.closest('#notebook-container');\n",
              "if (notebookContainer) {{\n",
              "    x.observe(notebookContainer, {childList: true});\n",
              "}}\n",
              "\n",
              "// Listen for the clearing of the current output cell\n",
              "var outputEl = gd.closest('.output');\n",
              "if (outputEl) {{\n",
              "    x.observe(outputEl, {childList: true});\n",
              "}}\n",
              "\n",
              "                        })                };                            </script>        </div>\n",
              "</body>\n",
              "</html>"
            ]
          },
          "metadata": {}
        }
      ]
    },
    {
      "cell_type": "code",
      "source": [
        "## Defining rules to check fundamentals\n",
        "# gt -> great than >= \n",
        "rulesFundmentals_gt_company_shares_BR = {\n",
        "    'marketCap' : 2000000000,\n",
        "    'revenueGrowth' : 0.06,\n",
        "    'pegRatio' : 0.12,\n",
        "    'returnOnAssets' : 0.02,\n",
        "    'returnOnEquity' : 0.18,\n",
        "    'profitMargins' : 0.2,\n",
        "    'currentRatio' : 1.3,\n",
        "    'debtToEquity' : 31.61,   \n",
        "    'averageVolume' : 1900000\n",
        "}"
      ],
      "metadata": {
        "id": "Pb5pM0mMo-i6"
      },
      "execution_count": 28,
      "outputs": []
    },
    {
      "cell_type": "code",
      "source": [
        "check_fundamentals_data_shares(df_bra, rulesFundmentals_gt_company_shares_BR)"
      ],
      "metadata": {
        "colab": {
          "base_uri": "https://localhost:8080/",
          "height": 1000
        },
        "id": "_2GpGEZ6rWJu",
        "outputId": "f99565de-8055-4698-87eb-2d1366e4725a"
      },
      "execution_count": 29,
      "outputs": [
        {
          "output_type": "stream",
          "name": "stdout",
          "text": [
            "Stocks that broken the rules: \n",
            "{\n",
            "    \"ABEV3.SA\": [\n",
            "        0.15085,\n",
            "        0.18,\n",
            "        0.16575001,\n",
            "        0.2,\n",
            "        1.188,\n",
            "        1.3,\n",
            "        3.735,\n",
            "        31.61\n",
            "    ],\n",
            "    \"ASAI3.SA\": [\n",
            "        -2.19,\n",
            "        0.12,\n",
            "        0.02675,\n",
            "        0.2,\n",
            "        0.909,\n",
            "        1.3\n",
            "    ],\n",
            "    \"GOAU4.SA\": [\n",
            "        0.06,\n",
            "        0.12,\n",
            "        0.061729997,\n",
            "        0.2,\n",
            "        27.879,\n",
            "        31.61\n",
            "    ],\n",
            "    \"ITUB4.SA\": [\n",
            "        -0.056,\n",
            "        0.06,\n",
            "        0.01364,\n",
            "        0.02,\n",
            "        0.17457001,\n",
            "        0.18\n",
            "    ]\n",
            "}\n",
            "[*********************100%***********************]  4 of 4 completed\n",
            "{'ABEV3.SA': 8.57726524760703, 'ASAI3.SA': 27.52114851923291, 'GOAU4.SA': 12.936174108627, 'ITUB4.SA': 6.429707045276373}\n"
          ]
        },
        {
          "output_type": "display_data",
          "data": {
            "text/html": [
              "<html>\n",
              "<head><meta charset=\"utf-8\" /></head>\n",
              "<body>\n",
              "    <div>            <script src=\"https://cdnjs.cloudflare.com/ajax/libs/mathjax/2.7.5/MathJax.js?config=TeX-AMS-MML_SVG\"></script><script type=\"text/javascript\">if (window.MathJax) {MathJax.Hub.Config({SVG: {font: \"STIX-Web\"}});}</script>                <script type=\"text/javascript\">window.PlotlyConfig = {MathJaxConfig: 'local'};</script>\n",
              "        <script src=\"https://cdn.plot.ly/plotly-2.8.3.min.js\"></script>                <div id=\"a4f3cd51-6899-461f-8edc-b8932d5b260c\" class=\"plotly-graph-div\" style=\"height:525px; width:100%;\"></div>            <script type=\"text/javascript\">                                    window.PLOTLYENV=window.PLOTLYENV || {};                                    if (document.getElementById(\"a4f3cd51-6899-461f-8edc-b8932d5b260c\")) {                    Plotly.newPlot(                        \"a4f3cd51-6899-461f-8edc-b8932d5b260c\",                        [{\"hovertemplate\":\"variable=ABEV3.SA<br>Date=%{x}<br>value=%{y}<extra></extra>\",\"legendgroup\":\"ABEV3.SA\",\"line\":{\"color\":\"#636efa\",\"dash\":\"solid\"},\"marker\":{\"symbol\":\"circle\"},\"mode\":\"lines\",\"name\":\"ABEV3.SA\",\"orientation\":\"v\",\"showlegend\":true,\"x\":[\"2022-05-16T00:00:00\",\"2022-05-17T00:00:00\",\"2022-05-18T00:00:00\",\"2022-05-19T00:00:00\",\"2022-05-20T00:00:00\",\"2022-05-23T00:00:00\",\"2022-05-24T00:00:00\",\"2022-05-25T00:00:00\",\"2022-05-26T00:00:00\",\"2022-05-27T00:00:00\",\"2022-05-30T00:00:00\",\"2022-05-31T00:00:00\",\"2022-06-01T00:00:00\",\"2022-06-02T00:00:00\",\"2022-06-03T00:00:00\",\"2022-06-06T00:00:00\",\"2022-06-07T00:00:00\",\"2022-06-08T00:00:00\",\"2022-06-09T00:00:00\",\"2022-06-10T00:00:00\",\"2022-06-13T00:00:00\",\"2022-06-14T00:00:00\",\"2022-06-15T00:00:00\",\"2022-06-17T00:00:00\",\"2022-06-20T00:00:00\",\"2022-06-21T00:00:00\",\"2022-06-22T00:00:00\",\"2022-06-23T00:00:00\",\"2022-06-24T00:00:00\",\"2022-06-27T00:00:00\",\"2022-06-28T00:00:00\",\"2022-06-29T00:00:00\",\"2022-06-30T00:00:00\",\"2022-07-01T00:00:00\",\"2022-07-04T00:00:00\",\"2022-07-05T00:00:00\",\"2022-07-06T00:00:00\",\"2022-07-07T00:00:00\",\"2022-07-08T00:00:00\",\"2022-07-11T00:00:00\",\"2022-07-12T00:00:00\",\"2022-07-13T00:00:00\",\"2022-07-14T00:00:00\",\"2022-07-15T00:00:00\",\"2022-07-18T00:00:00\",\"2022-07-19T00:00:00\",\"2022-07-20T00:00:00\",\"2022-07-21T00:00:00\",\"2022-07-22T00:00:00\",\"2022-07-25T00:00:00\",\"2022-07-26T00:00:00\",\"2022-07-27T00:00:00\",\"2022-07-28T00:00:00\",\"2022-07-29T00:00:00\",\"2022-08-01T00:00:00\",\"2022-08-02T00:00:00\",\"2022-08-03T00:00:00\",\"2022-08-04T00:00:00\",\"2022-08-05T00:00:00\",\"2022-08-08T00:00:00\",\"2022-08-09T00:00:00\",\"2022-08-10T00:00:00\",\"2022-08-11T00:00:00\",\"2022-08-12T00:00:00\",\"2022-08-15T00:00:00\",\"2022-08-16T00:00:00\",\"2022-08-17T00:00:00\",\"2022-08-18T00:00:00\",\"2022-08-19T00:00:00\",\"2022-08-22T00:00:00\",\"2022-08-23T00:00:00\",\"2022-08-24T00:00:00\",\"2022-08-25T00:00:00\",\"2022-08-26T00:00:00\",\"2022-08-29T00:00:00\",\"2022-08-30T00:00:00\",\"2022-08-31T00:00:00\",\"2022-09-01T00:00:00\",\"2022-09-02T00:00:00\",\"2022-09-05T00:00:00\",\"2022-09-06T00:00:00\",\"2022-09-08T00:00:00\",\"2022-09-09T00:00:00\",\"2022-09-12T00:00:00\",\"2022-09-13T00:00:00\",\"2022-09-14T00:00:00\",\"2022-09-15T00:00:00\",\"2022-09-16T00:00:00\",\"2022-09-19T00:00:00\",\"2022-09-20T00:00:00\",\"2022-09-21T00:00:00\",\"2022-09-22T00:00:00\",\"2022-09-23T00:00:00\",\"2022-09-26T00:00:00\",\"2022-09-27T00:00:00\",\"2022-09-28T00:00:00\",\"2022-09-29T00:00:00\",\"2022-09-30T00:00:00\",\"2022-10-03T00:00:00\",\"2022-10-04T00:00:00\",\"2022-10-05T00:00:00\",\"2022-10-06T00:00:00\",\"2022-10-07T00:00:00\",\"2022-10-10T00:00:00\",\"2022-10-11T00:00:00\",\"2022-10-13T00:00:00\",\"2022-10-14T00:00:00\",\"2022-10-17T00:00:00\",\"2022-10-18T00:00:00\",\"2022-10-19T00:00:00\",\"2022-10-20T00:00:00\",\"2022-10-21T00:00:00\",\"2022-10-24T00:00:00\",\"2022-10-25T00:00:00\",\"2022-10-26T00:00:00\",\"2022-10-27T00:00:00\",\"2022-10-28T00:00:00\",\"2022-10-31T00:00:00\",\"2022-11-01T00:00:00\",\"2022-11-03T00:00:00\",\"2022-11-04T00:00:00\",\"2022-11-07T00:00:00\",\"2022-11-08T00:00:00\",\"2022-11-09T00:00:00\",\"2022-11-10T00:00:00\",\"2022-11-11T00:00:00\",\"2022-11-14T00:00:00\"],\"xaxis\":\"x\",\"y\":[null,1.0027229382570195,0.968005491710012,0.9625596151959729,0.9543908004249142,0.9584751753504592,0.9618788644017259,0.9557522370934395,0.9673247409157649,0.9673247409157649,0.9591559261447061,0.9659632393272707,0.9611981136074786,0.9611981136074786,0.9584751753504591,0.9564329878876866,0.934649416911561,0.9366916692943025,0.9264806021405023,0.925119165471977,0.9074200343413653,0.8951667797247926,0.8890402173364753,0.886997964953734,0.8883594665422283,0.896528281313287,0.9053778468785929,0.9074200343413653,0.9305650419860163,0.933968731037283,0.9203540397521851,0.9264806021405025,0.9121851600611575,0.9366916692943027,0.9312457927802635,0.9591559261447065,0.9686861775842904,0.9686861775842904,0.9741321190182984,0.9598366769389534,0.9387338567570749,0.9918311852289412,1.0102110671538,0.9931926868174353,0.9863853087149019,0.9857045579206548,0.9734513682240511,0.9911504993546629,0.9877468103033962,0.9993193141257216,1.0088495655653058,1.0197413185933841,1.0279101982844119,1.0163376944620865,0.9959156250744552,1.0013615015884945,0.9959156250744553,0.9993193141257222,0.9938734376116829,1.0074881288967807,1.0034036890512668,1.0319945732099567,1.0299523857471842,1.0353982622612234,1.0496937043405685,1.0551395808546078,1.0585432699058746,1.0891763415273372,1.0660313338826863,1.0496937043405687,1.051055141009094,1.0755616502422394,1.0769230869107647,1.0667120846769336,1.0626276448314198,1.0476515168777965,1.0394827021067377,1.050374455134816,1.0537780792661138,1.0585432699058748,1.0592240207001218,1.055139580854608,1.0701157737282,1.0687542721397059,1.0612662081628943,1.0469707660835492,1.04152488956951,1.0394827021067374,1.0530973933918355,1.0728387119852199,1.0585432699058748,1.0667120846769336,1.0462900152893022,1.0394827021067377,1.0510551410090943,1.0701157737282003,1.0626276448314198,1.0578625191116278,1.1095983459949998,1.105513971069455,1.0973452212183652,1.0993873437611688,1.0496937043405692,1.034717511466977,1.020422069387632,1.0217835709761265,1.009530316359554,1.0156569436678402,1.014295442079346,1.0136147562050677,1.023825758438899,1.0422056403637578,1.033356074798452,1.0149761928735932,1.0279101982844128,1.0592240207001224,1.0735194627794675,1.0891763415273379,1.0748808994479928,1.0905378431158321,1.1198094780687693,1.113682850760483,1.1395507317421847,1.1218516006115729,1.0884955907330907,1.095302968835624,1.085772652476071],\"yaxis\":\"y\",\"type\":\"scatter\"},{\"hovertemplate\":\"variable=ASAI3.SA<br>Date=%{x}<br>value=%{y}<extra></extra>\",\"legendgroup\":\"ASAI3.SA\",\"line\":{\"color\":\"#EF553B\",\"dash\":\"solid\"},\"marker\":{\"symbol\":\"circle\"},\"mode\":\"lines\",\"name\":\"ASAI3.SA\",\"orientation\":\"v\",\"showlegend\":true,\"x\":[\"2022-05-16T00:00:00\",\"2022-05-17T00:00:00\",\"2022-05-18T00:00:00\",\"2022-05-19T00:00:00\",\"2022-05-20T00:00:00\",\"2022-05-23T00:00:00\",\"2022-05-24T00:00:00\",\"2022-05-25T00:00:00\",\"2022-05-26T00:00:00\",\"2022-05-27T00:00:00\",\"2022-05-30T00:00:00\",\"2022-05-31T00:00:00\",\"2022-06-01T00:00:00\",\"2022-06-02T00:00:00\",\"2022-06-03T00:00:00\",\"2022-06-06T00:00:00\",\"2022-06-07T00:00:00\",\"2022-06-08T00:00:00\",\"2022-06-09T00:00:00\",\"2022-06-10T00:00:00\",\"2022-06-13T00:00:00\",\"2022-06-14T00:00:00\",\"2022-06-15T00:00:00\",\"2022-06-17T00:00:00\",\"2022-06-20T00:00:00\",\"2022-06-21T00:00:00\",\"2022-06-22T00:00:00\",\"2022-06-23T00:00:00\",\"2022-06-24T00:00:00\",\"2022-06-27T00:00:00\",\"2022-06-28T00:00:00\",\"2022-06-29T00:00:00\",\"2022-06-30T00:00:00\",\"2022-07-01T00:00:00\",\"2022-07-04T00:00:00\",\"2022-07-05T00:00:00\",\"2022-07-06T00:00:00\",\"2022-07-07T00:00:00\",\"2022-07-08T00:00:00\",\"2022-07-11T00:00:00\",\"2022-07-12T00:00:00\",\"2022-07-13T00:00:00\",\"2022-07-14T00:00:00\",\"2022-07-15T00:00:00\",\"2022-07-18T00:00:00\",\"2022-07-19T00:00:00\",\"2022-07-20T00:00:00\",\"2022-07-21T00:00:00\",\"2022-07-22T00:00:00\",\"2022-07-25T00:00:00\",\"2022-07-26T00:00:00\",\"2022-07-27T00:00:00\",\"2022-07-28T00:00:00\",\"2022-07-29T00:00:00\",\"2022-08-01T00:00:00\",\"2022-08-02T00:00:00\",\"2022-08-03T00:00:00\",\"2022-08-04T00:00:00\",\"2022-08-05T00:00:00\",\"2022-08-08T00:00:00\",\"2022-08-09T00:00:00\",\"2022-08-10T00:00:00\",\"2022-08-11T00:00:00\",\"2022-08-12T00:00:00\",\"2022-08-15T00:00:00\",\"2022-08-16T00:00:00\",\"2022-08-17T00:00:00\",\"2022-08-18T00:00:00\",\"2022-08-19T00:00:00\",\"2022-08-22T00:00:00\",\"2022-08-23T00:00:00\",\"2022-08-24T00:00:00\",\"2022-08-25T00:00:00\",\"2022-08-26T00:00:00\",\"2022-08-29T00:00:00\",\"2022-08-30T00:00:00\",\"2022-08-31T00:00:00\",\"2022-09-01T00:00:00\",\"2022-09-02T00:00:00\",\"2022-09-05T00:00:00\",\"2022-09-06T00:00:00\",\"2022-09-08T00:00:00\",\"2022-09-09T00:00:00\",\"2022-09-12T00:00:00\",\"2022-09-13T00:00:00\",\"2022-09-14T00:00:00\",\"2022-09-15T00:00:00\",\"2022-09-16T00:00:00\",\"2022-09-19T00:00:00\",\"2022-09-20T00:00:00\",\"2022-09-21T00:00:00\",\"2022-09-22T00:00:00\",\"2022-09-23T00:00:00\",\"2022-09-26T00:00:00\",\"2022-09-27T00:00:00\",\"2022-09-28T00:00:00\",\"2022-09-29T00:00:00\",\"2022-09-30T00:00:00\",\"2022-10-03T00:00:00\",\"2022-10-04T00:00:00\",\"2022-10-05T00:00:00\",\"2022-10-06T00:00:00\",\"2022-10-07T00:00:00\",\"2022-10-10T00:00:00\",\"2022-10-11T00:00:00\",\"2022-10-13T00:00:00\",\"2022-10-14T00:00:00\",\"2022-10-17T00:00:00\",\"2022-10-18T00:00:00\",\"2022-10-19T00:00:00\",\"2022-10-20T00:00:00\",\"2022-10-21T00:00:00\",\"2022-10-24T00:00:00\",\"2022-10-25T00:00:00\",\"2022-10-26T00:00:00\",\"2022-10-27T00:00:00\",\"2022-10-28T00:00:00\",\"2022-10-31T00:00:00\",\"2022-11-01T00:00:00\",\"2022-11-03T00:00:00\",\"2022-11-04T00:00:00\",\"2022-11-07T00:00:00\",\"2022-11-08T00:00:00\",\"2022-11-09T00:00:00\",\"2022-11-10T00:00:00\",\"2022-11-11T00:00:00\",\"2022-11-14T00:00:00\"],\"xaxis\":\"x\",\"y\":[null,1.02992843471516,1.001951836902704,1.005204939772395,1.0383864773572462,1.0325309046013575,1.0344827415040616,1.0227716580400608,1.0468445199993324,1.027976597812456,1.031229700682147,1.0305790676986535,1.003253102869691,1.0338321705683444,1.0052049397723948,1.0065062057393819,1.0214703920730737,1.037085211390259,1.014964248381468,0.9785296079269259,0.9479505402282723,0.9492518061952592,1.0071567766750988,1.0091086756255794,1.0344827415040614,1.0026024698861973,0.9752765050572347,0.9941444272441111,0.9739753011380242,0.9564085828703585,0.9512036430979633,0.935588823780778,0.9284320471056788,0.9499024391787528,0.9368900276999886,0.9570592158538519,0.9694209323013461,0.9843851806828143,0.9941444272441111,0.998698796080789,0.9915419573579134,0.9980481630972955,0.9967468971303085,1.0136629824144807,1.0045543067889011,1.007807409658592,1.0013012659669864,1.0026024698861968,1.018217289203382,1.0084580426420853,1.0097593086090721,1.0644112382669972,1.0533507257387136,1.0312297006821463,1.0169160852841714,1.019518555170369,1.0774235256502087,1.0949902439178747,1.1080026553966387,1.1268705155357386,1.122316208746837,1.1411841929814899,1.1476902746253193,1.1711125656488734,1.1841249771276376,1.176968138404762,1.1665582588599719,1.1789200373552426,1.1567990122986753,1.1724138316158605,1.1620039520710703,1.1581001541701093,1.1678595248269588,1.1678595248269588,1.1945348566724279,1.190631058771467,1.1964866315273557,1.221210188517897,1.2296681691122067,1.2654522386310316,1.2667533805024658,1.2426805805909706,1.2264151282902918,1.201040938316257,1.1808718122101702,1.195835998543862,1.1899805498835263,1.1646063599094914,1.1795705462431831,1.1886792839165392,1.1906310587714668,1.1724138316158603,1.1574496452821685,1.1541964803647011,1.156799012298675,1.1678595248269588,1.1678595248269588,1.1418347018694304,1.1990891634613294,1.1763175054212685,1.1789200373552422,1.1782694043717488,1.1815224451936635,1.2225114544848836,1.2374756408185754,1.2667533805024656,1.242029947607477,1.2843200987701313,1.1659076258764782,1.1938842236889342,1.1717631986323669,1.210149675989613,1.2160052487455015,1.1509434395427864,1.1112556962185534,1.1802211792266766,1.223812596356318,1.2895250385425268,1.2940793453314283,1.3253091080613517,1.3370201294775763,1.3181522693384764,1.29863365212033,1.3272608829162797,1.2700065454199336,1.25894603289165,1.2752114851923286],\"yaxis\":\"y\",\"type\":\"scatter\"},{\"hovertemplate\":\"variable=GOAU4.SA<br>Date=%{x}<br>value=%{y}<extra></extra>\",\"legendgroup\":\"GOAU4.SA\",\"line\":{\"color\":\"#00cc96\",\"dash\":\"solid\"},\"marker\":{\"symbol\":\"circle\"},\"mode\":\"lines\",\"name\":\"GOAU4.SA\",\"orientation\":\"v\",\"showlegend\":true,\"x\":[\"2022-05-16T00:00:00\",\"2022-05-17T00:00:00\",\"2022-05-18T00:00:00\",\"2022-05-19T00:00:00\",\"2022-05-20T00:00:00\",\"2022-05-23T00:00:00\",\"2022-05-24T00:00:00\",\"2022-05-25T00:00:00\",\"2022-05-26T00:00:00\",\"2022-05-27T00:00:00\",\"2022-05-30T00:00:00\",\"2022-05-31T00:00:00\",\"2022-06-01T00:00:00\",\"2022-06-02T00:00:00\",\"2022-06-03T00:00:00\",\"2022-06-06T00:00:00\",\"2022-06-07T00:00:00\",\"2022-06-08T00:00:00\",\"2022-06-09T00:00:00\",\"2022-06-10T00:00:00\",\"2022-06-13T00:00:00\",\"2022-06-14T00:00:00\",\"2022-06-15T00:00:00\",\"2022-06-17T00:00:00\",\"2022-06-20T00:00:00\",\"2022-06-21T00:00:00\",\"2022-06-22T00:00:00\",\"2022-06-23T00:00:00\",\"2022-06-24T00:00:00\",\"2022-06-27T00:00:00\",\"2022-06-28T00:00:00\",\"2022-06-29T00:00:00\",\"2022-06-30T00:00:00\",\"2022-07-01T00:00:00\",\"2022-07-04T00:00:00\",\"2022-07-05T00:00:00\",\"2022-07-06T00:00:00\",\"2022-07-07T00:00:00\",\"2022-07-08T00:00:00\",\"2022-07-11T00:00:00\",\"2022-07-12T00:00:00\",\"2022-07-13T00:00:00\",\"2022-07-14T00:00:00\",\"2022-07-15T00:00:00\",\"2022-07-18T00:00:00\",\"2022-07-19T00:00:00\",\"2022-07-20T00:00:00\",\"2022-07-21T00:00:00\",\"2022-07-22T00:00:00\",\"2022-07-25T00:00:00\",\"2022-07-26T00:00:00\",\"2022-07-27T00:00:00\",\"2022-07-28T00:00:00\",\"2022-07-29T00:00:00\",\"2022-08-01T00:00:00\",\"2022-08-02T00:00:00\",\"2022-08-03T00:00:00\",\"2022-08-04T00:00:00\",\"2022-08-05T00:00:00\",\"2022-08-08T00:00:00\",\"2022-08-09T00:00:00\",\"2022-08-10T00:00:00\",\"2022-08-11T00:00:00\",\"2022-08-12T00:00:00\",\"2022-08-15T00:00:00\",\"2022-08-16T00:00:00\",\"2022-08-17T00:00:00\",\"2022-08-18T00:00:00\",\"2022-08-19T00:00:00\",\"2022-08-22T00:00:00\",\"2022-08-23T00:00:00\",\"2022-08-24T00:00:00\",\"2022-08-25T00:00:00\",\"2022-08-26T00:00:00\",\"2022-08-29T00:00:00\",\"2022-08-30T00:00:00\",\"2022-08-31T00:00:00\",\"2022-09-01T00:00:00\",\"2022-09-02T00:00:00\",\"2022-09-05T00:00:00\",\"2022-09-06T00:00:00\",\"2022-09-08T00:00:00\",\"2022-09-09T00:00:00\",\"2022-09-12T00:00:00\",\"2022-09-13T00:00:00\",\"2022-09-14T00:00:00\",\"2022-09-15T00:00:00\",\"2022-09-16T00:00:00\",\"2022-09-19T00:00:00\",\"2022-09-20T00:00:00\",\"2022-09-21T00:00:00\",\"2022-09-22T00:00:00\",\"2022-09-23T00:00:00\",\"2022-09-26T00:00:00\",\"2022-09-27T00:00:00\",\"2022-09-28T00:00:00\",\"2022-09-29T00:00:00\",\"2022-09-30T00:00:00\",\"2022-10-03T00:00:00\",\"2022-10-04T00:00:00\",\"2022-10-05T00:00:00\",\"2022-10-06T00:00:00\",\"2022-10-07T00:00:00\",\"2022-10-10T00:00:00\",\"2022-10-11T00:00:00\",\"2022-10-13T00:00:00\",\"2022-10-14T00:00:00\",\"2022-10-17T00:00:00\",\"2022-10-18T00:00:00\",\"2022-10-19T00:00:00\",\"2022-10-20T00:00:00\",\"2022-10-21T00:00:00\",\"2022-10-24T00:00:00\",\"2022-10-25T00:00:00\",\"2022-10-26T00:00:00\",\"2022-10-27T00:00:00\",\"2022-10-28T00:00:00\",\"2022-10-31T00:00:00\",\"2022-11-01T00:00:00\",\"2022-11-03T00:00:00\",\"2022-11-04T00:00:00\",\"2022-11-07T00:00:00\",\"2022-11-08T00:00:00\",\"2022-11-09T00:00:00\",\"2022-11-10T00:00:00\",\"2022-11-11T00:00:00\",\"2022-11-14T00:00:00\"],\"xaxis\":\"x\",\"y\":[null,0.9923404125457115,0.943829800220246,0.968510648037525,0.9923404125457115,1.0170212603629902,1.0306382686533826,1.0272340165807845,1.0306382686533826,1.041702108180269,1.034893604035073,1.0374467727985786,1.043404274798454,1.0893617183604136,1.0808510475970325,1.0885106350513212,1.0876595517422287,1.053617031016248,1.0051064186907825,1.0034042520725976,0.9480851356019361,0.9217021211664723,0.9200000357120591,0.8417021568785319,0.8382979048059338,0.8510638297872337,0.8221276465882643,0.799999967534491,0.8289361507334604,0.8417021568785318,0.843404242332945,0.8374468214968412,0.8127659736795624,0.8042553029161814,0.8025532174617682,0.7906382946257892,0.8059574695343663,0.8425531590238526,0.8391489069512545,0.8229787298973567,0.8246808153517698,0.8238298132064491,0.7957447133165721,0.8348936527333358,0.829787234042553,0.8451064089511301,0.8468084944055433,0.8442553256420376,0.8459574110964508,0.8519149130963262,0.8519149130963262,0.8527659964054186,0.8587234172415223,0.8706382589137298,0.8434042423329452,0.8663830046958109,0.8289361507334605,0.8621276693141204,0.8748935942954204,0.8859574338223069,0.8944681045856878,0.904680860803482,0.9123404482577705,0.9276595420025759,0.9174467857847818,0.8672340068411315,0.8774468442226973,0.8621276693141202,0.8434042423329451,0.8280850674243679,0.8714893422228219,0.8655319213867182,0.878297846368018,0.8561702484780164,0.8578723339324297,0.8485106610237279,0.8485106610237279,0.8442553256420373,0.8680850901502237,0.8842553483678932,0.8689361734593161,0.8604255026959351,0.8902127692039968,0.8910638525130892,0.8646808380776254,0.8434042423329445,0.8434042423329445,0.839148906951254,0.8885106025858117,0.8885106025858117,0.8868085171313985,0.9063829462578945,0.8919148546584098,0.8748935942954195,0.8689361734593157,0.8663830046958101,0.8672340068411308,0.9012766087308831,0.9165957836394603,0.9353191294568639,0.9361702127659565,0.9395744648385546,0.9387233815294621,0.9531914731289467,0.9557446418924525,0.9608510605832353,0.9370212960750488,0.9540425564380393,0.9702127334919372,0.9548936397471316,0.9821276563279161,0.9948935813092159,0.9838298229461009,0.9770212376371331,0.973616985564535,0.9778723209462254,0.9472340522928429,0.9574468085106371,0.9625532272014201,0.9531914731289467,0.9999999999999988,0.9812765730188235,1.0127659249812986,1.0400000227258548,1.0374467727985777,1.1217021536319802,1.1293617410862689],\"yaxis\":\"y\",\"type\":\"scatter\"},{\"hovertemplate\":\"variable=ITUB4.SA<br>Date=%{x}<br>value=%{y}<extra></extra>\",\"legendgroup\":\"ITUB4.SA\",\"line\":{\"color\":\"#ab63fa\",\"dash\":\"solid\"},\"marker\":{\"symbol\":\"circle\"},\"mode\":\"lines\",\"name\":\"ITUB4.SA\",\"orientation\":\"v\",\"showlegend\":true,\"x\":[\"2022-05-16T00:00:00\",\"2022-05-17T00:00:00\",\"2022-05-18T00:00:00\",\"2022-05-19T00:00:00\",\"2022-05-20T00:00:00\",\"2022-05-23T00:00:00\",\"2022-05-24T00:00:00\",\"2022-05-25T00:00:00\",\"2022-05-26T00:00:00\",\"2022-05-27T00:00:00\",\"2022-05-30T00:00:00\",\"2022-05-31T00:00:00\",\"2022-06-01T00:00:00\",\"2022-06-02T00:00:00\",\"2022-06-03T00:00:00\",\"2022-06-06T00:00:00\",\"2022-06-07T00:00:00\",\"2022-06-08T00:00:00\",\"2022-06-09T00:00:00\",\"2022-06-10T00:00:00\",\"2022-06-13T00:00:00\",\"2022-06-14T00:00:00\",\"2022-06-15T00:00:00\",\"2022-06-17T00:00:00\",\"2022-06-20T00:00:00\",\"2022-06-21T00:00:00\",\"2022-06-22T00:00:00\",\"2022-06-23T00:00:00\",\"2022-06-24T00:00:00\",\"2022-06-27T00:00:00\",\"2022-06-28T00:00:00\",\"2022-06-29T00:00:00\",\"2022-06-30T00:00:00\",\"2022-07-01T00:00:00\",\"2022-07-04T00:00:00\",\"2022-07-05T00:00:00\",\"2022-07-06T00:00:00\",\"2022-07-07T00:00:00\",\"2022-07-08T00:00:00\",\"2022-07-11T00:00:00\",\"2022-07-12T00:00:00\",\"2022-07-13T00:00:00\",\"2022-07-14T00:00:00\",\"2022-07-15T00:00:00\",\"2022-07-18T00:00:00\",\"2022-07-19T00:00:00\",\"2022-07-20T00:00:00\",\"2022-07-21T00:00:00\",\"2022-07-22T00:00:00\",\"2022-07-25T00:00:00\",\"2022-07-26T00:00:00\",\"2022-07-27T00:00:00\",\"2022-07-28T00:00:00\",\"2022-07-29T00:00:00\",\"2022-08-01T00:00:00\",\"2022-08-02T00:00:00\",\"2022-08-03T00:00:00\",\"2022-08-04T00:00:00\",\"2022-08-05T00:00:00\",\"2022-08-08T00:00:00\",\"2022-08-09T00:00:00\",\"2022-08-10T00:00:00\",\"2022-08-11T00:00:00\",\"2022-08-12T00:00:00\",\"2022-08-15T00:00:00\",\"2022-08-16T00:00:00\",\"2022-08-17T00:00:00\",\"2022-08-18T00:00:00\",\"2022-08-19T00:00:00\",\"2022-08-22T00:00:00\",\"2022-08-23T00:00:00\",\"2022-08-24T00:00:00\",\"2022-08-25T00:00:00\",\"2022-08-26T00:00:00\",\"2022-08-29T00:00:00\",\"2022-08-30T00:00:00\",\"2022-08-31T00:00:00\",\"2022-09-01T00:00:00\",\"2022-09-02T00:00:00\",\"2022-09-05T00:00:00\",\"2022-09-06T00:00:00\",\"2022-09-08T00:00:00\",\"2022-09-09T00:00:00\",\"2022-09-12T00:00:00\",\"2022-09-13T00:00:00\",\"2022-09-14T00:00:00\",\"2022-09-15T00:00:00\",\"2022-09-16T00:00:00\",\"2022-09-19T00:00:00\",\"2022-09-20T00:00:00\",\"2022-09-21T00:00:00\",\"2022-09-22T00:00:00\",\"2022-09-23T00:00:00\",\"2022-09-26T00:00:00\",\"2022-09-27T00:00:00\",\"2022-09-28T00:00:00\",\"2022-09-29T00:00:00\",\"2022-09-30T00:00:00\",\"2022-10-03T00:00:00\",\"2022-10-04T00:00:00\",\"2022-10-05T00:00:00\",\"2022-10-06T00:00:00\",\"2022-10-07T00:00:00\",\"2022-10-10T00:00:00\",\"2022-10-11T00:00:00\",\"2022-10-13T00:00:00\",\"2022-10-14T00:00:00\",\"2022-10-17T00:00:00\",\"2022-10-18T00:00:00\",\"2022-10-19T00:00:00\",\"2022-10-20T00:00:00\",\"2022-10-21T00:00:00\",\"2022-10-24T00:00:00\",\"2022-10-25T00:00:00\",\"2022-10-26T00:00:00\",\"2022-10-27T00:00:00\",\"2022-10-28T00:00:00\",\"2022-10-31T00:00:00\",\"2022-11-01T00:00:00\",\"2022-11-03T00:00:00\",\"2022-11-04T00:00:00\",\"2022-11-07T00:00:00\",\"2022-11-08T00:00:00\",\"2022-11-09T00:00:00\",\"2022-11-10T00:00:00\",\"2022-11-11T00:00:00\",\"2022-11-14T00:00:00\"],\"xaxis\":\"x\",\"y\":[null,1.0087859147488318,0.9944088940943188,0.9912140090791011,1.003594178991561,1.02955270543378,1.0451277603614577,1.0263578204185624,1.039137360479433,1.044728390213047,1.0351437351673942,1.0447283902130473,1.0295527054337803,1.0339456247221626,1.0243609696765095,1.0207667145128811,1.0207667145128811,1.0011980342731646,0.9840254987518445,0.9624600439421421,0.9508785381544361,0.9444887681240008,0.9484823934360397,0.9365015936719903,0.9772363585729985,0.9668529632305243,0.959664529075335,0.9376996279451548,0.9361022235235796,0.9416932532571938,0.9313098579147197,0.9217252028690667,0.9053514076445678,0.9125399179718244,0.9037539270509254,0.910143773253428,0.9017571524809397,0.9145366925418104,0.914936062690221,0.9001597480593646,0.8981628973173115,0.8945686421536833,0.8845846169596197,0.900559042035708,0.9125399179718248,0.9432907338508366,0.93130985791472,0.9388977383903873,0.9289137131963237,0.9424919935540156,0.9373002577967449,0.9404951428119626,0.9464856188660545,0.943290733850837,0.937300257796745,0.9472842829908085,0.9540734231696544,0.9772363585729993,0.9956070045395513,1.0079871744520115,1.0343449948705739,1.0535143049618798,1.0551117855555223,1.0678913256163929,1.0770766105136353,1.0894568565981626,1.0922523714649697,1.089057486449752,1.0638977003043542,1.0519169005403048,1.0547124154071117,1.0591054108675613,1.0722843210768425,1.065894551046407,1.0623002958827787,1.0575079302739185,1.0307507397069453,1.0459265006582796,1.0603034451407256,1.0774759806620458,1.067491955467982,1.059904151164382,1.0682906957648033,1.0814696059740845,1.070287470334789,1.0662939211948175,1.0690894360616245,1.0654951808979962,1.1054312816742506,1.1421724974352874,1.1301916214991707,1.1529552629261721,1.1301916214991707,1.1058306518226613,1.0994408817922259,1.0990415116438152,1.1154153068683141,1.1206069664535176,1.1880989980935663,1.1900957726635522,1.1900957726635522,1.1685303178538498,1.1709264625722462,1.1585462926597863,1.1505590420357086,1.1437699018568628,1.1441692720052734,1.1533545569025156,1.1817092280631312,1.1821085982115416,1.2004791680060263,1.2404152687822805,1.1841053727815272,1.1745207177358743,1.1493610077625436,1.1705270924238353,1.179712453493145,1.2140574483637179,1.2164535930821143,1.2076676783332825,1.212060673793732,1.1845047429299378,1.1809104877663095,1.1242012216171458,1.103035136955854,1.067491955467982,1.0642970704527643],\"yaxis\":\"y\",\"type\":\"scatter\"}],                        {\"template\":{\"data\":{\"bar\":[{\"error_x\":{\"color\":\"#2a3f5f\"},\"error_y\":{\"color\":\"#2a3f5f\"},\"marker\":{\"line\":{\"color\":\"#E5ECF6\",\"width\":0.5},\"pattern\":{\"fillmode\":\"overlay\",\"size\":10,\"solidity\":0.2}},\"type\":\"bar\"}],\"barpolar\":[{\"marker\":{\"line\":{\"color\":\"#E5ECF6\",\"width\":0.5},\"pattern\":{\"fillmode\":\"overlay\",\"size\":10,\"solidity\":0.2}},\"type\":\"barpolar\"}],\"carpet\":[{\"aaxis\":{\"endlinecolor\":\"#2a3f5f\",\"gridcolor\":\"white\",\"linecolor\":\"white\",\"minorgridcolor\":\"white\",\"startlinecolor\":\"#2a3f5f\"},\"baxis\":{\"endlinecolor\":\"#2a3f5f\",\"gridcolor\":\"white\",\"linecolor\":\"white\",\"minorgridcolor\":\"white\",\"startlinecolor\":\"#2a3f5f\"},\"type\":\"carpet\"}],\"choropleth\":[{\"colorbar\":{\"outlinewidth\":0,\"ticks\":\"\"},\"type\":\"choropleth\"}],\"contour\":[{\"colorbar\":{\"outlinewidth\":0,\"ticks\":\"\"},\"colorscale\":[[0.0,\"#0d0887\"],[0.1111111111111111,\"#46039f\"],[0.2222222222222222,\"#7201a8\"],[0.3333333333333333,\"#9c179e\"],[0.4444444444444444,\"#bd3786\"],[0.5555555555555556,\"#d8576b\"],[0.6666666666666666,\"#ed7953\"],[0.7777777777777778,\"#fb9f3a\"],[0.8888888888888888,\"#fdca26\"],[1.0,\"#f0f921\"]],\"type\":\"contour\"}],\"contourcarpet\":[{\"colorbar\":{\"outlinewidth\":0,\"ticks\":\"\"},\"type\":\"contourcarpet\"}],\"heatmap\":[{\"colorbar\":{\"outlinewidth\":0,\"ticks\":\"\"},\"colorscale\":[[0.0,\"#0d0887\"],[0.1111111111111111,\"#46039f\"],[0.2222222222222222,\"#7201a8\"],[0.3333333333333333,\"#9c179e\"],[0.4444444444444444,\"#bd3786\"],[0.5555555555555556,\"#d8576b\"],[0.6666666666666666,\"#ed7953\"],[0.7777777777777778,\"#fb9f3a\"],[0.8888888888888888,\"#fdca26\"],[1.0,\"#f0f921\"]],\"type\":\"heatmap\"}],\"heatmapgl\":[{\"colorbar\":{\"outlinewidth\":0,\"ticks\":\"\"},\"colorscale\":[[0.0,\"#0d0887\"],[0.1111111111111111,\"#46039f\"],[0.2222222222222222,\"#7201a8\"],[0.3333333333333333,\"#9c179e\"],[0.4444444444444444,\"#bd3786\"],[0.5555555555555556,\"#d8576b\"],[0.6666666666666666,\"#ed7953\"],[0.7777777777777778,\"#fb9f3a\"],[0.8888888888888888,\"#fdca26\"],[1.0,\"#f0f921\"]],\"type\":\"heatmapgl\"}],\"histogram\":[{\"marker\":{\"pattern\":{\"fillmode\":\"overlay\",\"size\":10,\"solidity\":0.2}},\"type\":\"histogram\"}],\"histogram2d\":[{\"colorbar\":{\"outlinewidth\":0,\"ticks\":\"\"},\"colorscale\":[[0.0,\"#0d0887\"],[0.1111111111111111,\"#46039f\"],[0.2222222222222222,\"#7201a8\"],[0.3333333333333333,\"#9c179e\"],[0.4444444444444444,\"#bd3786\"],[0.5555555555555556,\"#d8576b\"],[0.6666666666666666,\"#ed7953\"],[0.7777777777777778,\"#fb9f3a\"],[0.8888888888888888,\"#fdca26\"],[1.0,\"#f0f921\"]],\"type\":\"histogram2d\"}],\"histogram2dcontour\":[{\"colorbar\":{\"outlinewidth\":0,\"ticks\":\"\"},\"colorscale\":[[0.0,\"#0d0887\"],[0.1111111111111111,\"#46039f\"],[0.2222222222222222,\"#7201a8\"],[0.3333333333333333,\"#9c179e\"],[0.4444444444444444,\"#bd3786\"],[0.5555555555555556,\"#d8576b\"],[0.6666666666666666,\"#ed7953\"],[0.7777777777777778,\"#fb9f3a\"],[0.8888888888888888,\"#fdca26\"],[1.0,\"#f0f921\"]],\"type\":\"histogram2dcontour\"}],\"mesh3d\":[{\"colorbar\":{\"outlinewidth\":0,\"ticks\":\"\"},\"type\":\"mesh3d\"}],\"parcoords\":[{\"line\":{\"colorbar\":{\"outlinewidth\":0,\"ticks\":\"\"}},\"type\":\"parcoords\"}],\"pie\":[{\"automargin\":true,\"type\":\"pie\"}],\"scatter\":[{\"marker\":{\"colorbar\":{\"outlinewidth\":0,\"ticks\":\"\"}},\"type\":\"scatter\"}],\"scatter3d\":[{\"line\":{\"colorbar\":{\"outlinewidth\":0,\"ticks\":\"\"}},\"marker\":{\"colorbar\":{\"outlinewidth\":0,\"ticks\":\"\"}},\"type\":\"scatter3d\"}],\"scattercarpet\":[{\"marker\":{\"colorbar\":{\"outlinewidth\":0,\"ticks\":\"\"}},\"type\":\"scattercarpet\"}],\"scattergeo\":[{\"marker\":{\"colorbar\":{\"outlinewidth\":0,\"ticks\":\"\"}},\"type\":\"scattergeo\"}],\"scattergl\":[{\"marker\":{\"colorbar\":{\"outlinewidth\":0,\"ticks\":\"\"}},\"type\":\"scattergl\"}],\"scattermapbox\":[{\"marker\":{\"colorbar\":{\"outlinewidth\":0,\"ticks\":\"\"}},\"type\":\"scattermapbox\"}],\"scatterpolar\":[{\"marker\":{\"colorbar\":{\"outlinewidth\":0,\"ticks\":\"\"}},\"type\":\"scatterpolar\"}],\"scatterpolargl\":[{\"marker\":{\"colorbar\":{\"outlinewidth\":0,\"ticks\":\"\"}},\"type\":\"scatterpolargl\"}],\"scatterternary\":[{\"marker\":{\"colorbar\":{\"outlinewidth\":0,\"ticks\":\"\"}},\"type\":\"scatterternary\"}],\"surface\":[{\"colorbar\":{\"outlinewidth\":0,\"ticks\":\"\"},\"colorscale\":[[0.0,\"#0d0887\"],[0.1111111111111111,\"#46039f\"],[0.2222222222222222,\"#7201a8\"],[0.3333333333333333,\"#9c179e\"],[0.4444444444444444,\"#bd3786\"],[0.5555555555555556,\"#d8576b\"],[0.6666666666666666,\"#ed7953\"],[0.7777777777777778,\"#fb9f3a\"],[0.8888888888888888,\"#fdca26\"],[1.0,\"#f0f921\"]],\"type\":\"surface\"}],\"table\":[{\"cells\":{\"fill\":{\"color\":\"#EBF0F8\"},\"line\":{\"color\":\"white\"}},\"header\":{\"fill\":{\"color\":\"#C8D4E3\"},\"line\":{\"color\":\"white\"}},\"type\":\"table\"}]},\"layout\":{\"annotationdefaults\":{\"arrowcolor\":\"#2a3f5f\",\"arrowhead\":0,\"arrowwidth\":1},\"autotypenumbers\":\"strict\",\"coloraxis\":{\"colorbar\":{\"outlinewidth\":0,\"ticks\":\"\"}},\"colorscale\":{\"diverging\":[[0,\"#8e0152\"],[0.1,\"#c51b7d\"],[0.2,\"#de77ae\"],[0.3,\"#f1b6da\"],[0.4,\"#fde0ef\"],[0.5,\"#f7f7f7\"],[0.6,\"#e6f5d0\"],[0.7,\"#b8e186\"],[0.8,\"#7fbc41\"],[0.9,\"#4d9221\"],[1,\"#276419\"]],\"sequential\":[[0.0,\"#0d0887\"],[0.1111111111111111,\"#46039f\"],[0.2222222222222222,\"#7201a8\"],[0.3333333333333333,\"#9c179e\"],[0.4444444444444444,\"#bd3786\"],[0.5555555555555556,\"#d8576b\"],[0.6666666666666666,\"#ed7953\"],[0.7777777777777778,\"#fb9f3a\"],[0.8888888888888888,\"#fdca26\"],[1.0,\"#f0f921\"]],\"sequentialminus\":[[0.0,\"#0d0887\"],[0.1111111111111111,\"#46039f\"],[0.2222222222222222,\"#7201a8\"],[0.3333333333333333,\"#9c179e\"],[0.4444444444444444,\"#bd3786\"],[0.5555555555555556,\"#d8576b\"],[0.6666666666666666,\"#ed7953\"],[0.7777777777777778,\"#fb9f3a\"],[0.8888888888888888,\"#fdca26\"],[1.0,\"#f0f921\"]]},\"colorway\":[\"#636efa\",\"#EF553B\",\"#00cc96\",\"#ab63fa\",\"#FFA15A\",\"#19d3f3\",\"#FF6692\",\"#B6E880\",\"#FF97FF\",\"#FECB52\"],\"font\":{\"color\":\"#2a3f5f\"},\"geo\":{\"bgcolor\":\"white\",\"lakecolor\":\"white\",\"landcolor\":\"#E5ECF6\",\"showlakes\":true,\"showland\":true,\"subunitcolor\":\"white\"},\"hoverlabel\":{\"align\":\"left\"},\"hovermode\":\"closest\",\"mapbox\":{\"style\":\"light\"},\"paper_bgcolor\":\"white\",\"plot_bgcolor\":\"#E5ECF6\",\"polar\":{\"angularaxis\":{\"gridcolor\":\"white\",\"linecolor\":\"white\",\"ticks\":\"\"},\"bgcolor\":\"#E5ECF6\",\"radialaxis\":{\"gridcolor\":\"white\",\"linecolor\":\"white\",\"ticks\":\"\"}},\"scene\":{\"xaxis\":{\"backgroundcolor\":\"#E5ECF6\",\"gridcolor\":\"white\",\"gridwidth\":2,\"linecolor\":\"white\",\"showbackground\":true,\"ticks\":\"\",\"zerolinecolor\":\"white\"},\"yaxis\":{\"backgroundcolor\":\"#E5ECF6\",\"gridcolor\":\"white\",\"gridwidth\":2,\"linecolor\":\"white\",\"showbackground\":true,\"ticks\":\"\",\"zerolinecolor\":\"white\"},\"zaxis\":{\"backgroundcolor\":\"#E5ECF6\",\"gridcolor\":\"white\",\"gridwidth\":2,\"linecolor\":\"white\",\"showbackground\":true,\"ticks\":\"\",\"zerolinecolor\":\"white\"}},\"shapedefaults\":{\"line\":{\"color\":\"#2a3f5f\"}},\"ternary\":{\"aaxis\":{\"gridcolor\":\"white\",\"linecolor\":\"white\",\"ticks\":\"\"},\"baxis\":{\"gridcolor\":\"white\",\"linecolor\":\"white\",\"ticks\":\"\"},\"bgcolor\":\"#E5ECF6\",\"caxis\":{\"gridcolor\":\"white\",\"linecolor\":\"white\",\"ticks\":\"\"}},\"title\":{\"x\":0.05},\"xaxis\":{\"automargin\":true,\"gridcolor\":\"white\",\"linecolor\":\"white\",\"ticks\":\"\",\"title\":{\"standoff\":15},\"zerolinecolor\":\"white\",\"zerolinewidth\":2},\"yaxis\":{\"automargin\":true,\"gridcolor\":\"white\",\"linecolor\":\"white\",\"ticks\":\"\",\"title\":{\"standoff\":15},\"zerolinecolor\":\"white\",\"zerolinewidth\":2}}},\"xaxis\":{\"anchor\":\"y\",\"domain\":[0.0,1.0],\"title\":{\"text\":\"Date\"}},\"yaxis\":{\"anchor\":\"x\",\"domain\":[0.0,1.0],\"title\":{\"text\":\"value\"}},\"legend\":{\"title\":{\"text\":\"variable\"},\"tracegroupgap\":0},\"margin\":{\"t\":60}},                        {\"responsive\": true}                    ).then(function(){\n",
              "                            \n",
              "var gd = document.getElementById('a4f3cd51-6899-461f-8edc-b8932d5b260c');\n",
              "var x = new MutationObserver(function (mutations, observer) {{\n",
              "        var display = window.getComputedStyle(gd).display;\n",
              "        if (!display || display === 'none') {{\n",
              "            console.log([gd, 'removed!']);\n",
              "            Plotly.purge(gd);\n",
              "            observer.disconnect();\n",
              "        }}\n",
              "}});\n",
              "\n",
              "// Listen for the removal of the full notebook cells\n",
              "var notebookContainer = gd.closest('#notebook-container');\n",
              "if (notebookContainer) {{\n",
              "    x.observe(notebookContainer, {childList: true});\n",
              "}}\n",
              "\n",
              "// Listen for the clearing of the current output cell\n",
              "var outputEl = gd.closest('.output');\n",
              "if (outputEl) {{\n",
              "    x.observe(outputEl, {childList: true});\n",
              "}}\n",
              "\n",
              "                        })                };                            </script>        </div>\n",
              "</body>\n",
              "</html>"
            ]
          },
          "metadata": {}
        }
      ]
    },
    {
      "cell_type": "code",
      "source": [],
      "metadata": {
        "id": "Wufivl2CrfqT"
      },
      "execution_count": 29,
      "outputs": []
    }
  ]
}