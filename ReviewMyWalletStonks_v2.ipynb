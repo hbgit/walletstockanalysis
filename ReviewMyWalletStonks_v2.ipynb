{
  "nbformat": 4,
  "nbformat_minor": 0,
  "metadata": {
    "colab": {
      "provenance": [],
      "collapsed_sections": [],
      "authorship_tag": "ABX9TyNbga/n1O9Qo00YX9rXHHAG",
      "include_colab_link": true
    },
    "kernelspec": {
      "name": "python3",
      "display_name": "Python 3"
    },
    "language_info": {
      "name": "python"
    }
  },
  "cells": [
    {
      "cell_type": "markdown",
      "metadata": {
        "id": "view-in-github",
        "colab_type": "text"
      },
      "source": [
        "<a href=\"https://colab.research.google.com/github/hbgit/walletstockanalysis/blob/main/ReviewMyWalletStonks_v2.ipynb\" target=\"_parent\"><img src=\"https://colab.research.google.com/assets/colab-badge.svg\" alt=\"Open In Colab\"/></a>"
      ]
    },
    {
      "cell_type": "code",
      "source": [
        "!pip install yfinance"
      ],
      "metadata": {
        "colab": {
          "base_uri": "https://localhost:8080/"
        },
        "id": "-LPJcwpv2Svi",
        "outputId": "d0ee3fb0-74c9-4e2d-da64-6f84cece6a17"
      },
      "execution_count": 1,
      "outputs": [
        {
          "output_type": "stream",
          "name": "stdout",
          "text": [
            "Looking in indexes: https://pypi.org/simple, https://us-python.pkg.dev/colab-wheels/public/simple/\n",
            "Collecting yfinance\n",
            "  Downloading yfinance-0.1.75-py2.py3-none-any.whl (28 kB)\n",
            "Collecting requests>=2.26\n",
            "  Downloading requests-2.28.1-py3-none-any.whl (62 kB)\n",
            "\u001b[K     |████████████████████████████████| 62 kB 1.1 MB/s \n",
            "\u001b[?25hRequirement already satisfied: pandas>=0.24.0 in /usr/local/lib/python3.7/dist-packages (from yfinance) (1.3.5)\n",
            "Requirement already satisfied: multitasking>=0.0.7 in /usr/local/lib/python3.7/dist-packages (from yfinance) (0.0.11)\n",
            "Requirement already satisfied: appdirs>=1.4.4 in /usr/local/lib/python3.7/dist-packages (from yfinance) (1.4.4)\n",
            "Requirement already satisfied: numpy>=1.15 in /usr/local/lib/python3.7/dist-packages (from yfinance) (1.21.6)\n",
            "Requirement already satisfied: lxml>=4.5.1 in /usr/local/lib/python3.7/dist-packages (from yfinance) (4.9.1)\n",
            "Requirement already satisfied: python-dateutil>=2.7.3 in /usr/local/lib/python3.7/dist-packages (from pandas>=0.24.0->yfinance) (2.8.2)\n",
            "Requirement already satisfied: pytz>=2017.3 in /usr/local/lib/python3.7/dist-packages (from pandas>=0.24.0->yfinance) (2022.2.1)\n",
            "Requirement already satisfied: six>=1.5 in /usr/local/lib/python3.7/dist-packages (from python-dateutil>=2.7.3->pandas>=0.24.0->yfinance) (1.15.0)\n",
            "Requirement already satisfied: charset-normalizer<3,>=2 in /usr/local/lib/python3.7/dist-packages (from requests>=2.26->yfinance) (2.1.1)\n",
            "Requirement already satisfied: certifi>=2017.4.17 in /usr/local/lib/python3.7/dist-packages (from requests>=2.26->yfinance) (2022.6.15)\n",
            "Requirement already satisfied: idna<4,>=2.5 in /usr/local/lib/python3.7/dist-packages (from requests>=2.26->yfinance) (2.10)\n",
            "Requirement already satisfied: urllib3<1.27,>=1.21.1 in /usr/local/lib/python3.7/dist-packages (from requests>=2.26->yfinance) (1.24.3)\n",
            "Installing collected packages: requests, yfinance\n",
            "  Attempting uninstall: requests\n",
            "    Found existing installation: requests 2.23.0\n",
            "    Uninstalling requests-2.23.0:\n",
            "      Successfully uninstalled requests-2.23.0\n",
            "Successfully installed requests-2.28.1 yfinance-0.1.75\n"
          ]
        }
      ]
    },
    {
      "cell_type": "code",
      "source": [
        "import yfinance as yf\n",
        "import pandas as pd"
      ],
      "metadata": {
        "id": "Hu14zc-xvL5u"
      },
      "execution_count": 2,
      "outputs": []
    },
    {
      "cell_type": "code",
      "source": [
        "# print(PRIO3.info.keys())"
      ],
      "metadata": {
        "id": "gvauK4gZi4fx"
      },
      "execution_count": 3,
      "outputs": []
    },
    {
      "cell_type": "markdown",
      "source": [
        "**Stock Wallet**"
      ],
      "metadata": {
        "id": "fw21KVE2yWNr"
      }
    },
    {
      "cell_type": "code",
      "source": [
        "stock_list = ['ABBV','AMZN','GOOG','KO','PEP','PLD','STOR','PRU','MSFT', 'VZ','T','GOOGL','AMZN','WBD']"
      ],
      "metadata": {
        "id": "aSJiBnu8lFkU"
      },
      "execution_count": 4,
      "outputs": []
    },
    {
      "cell_type": "code",
      "source": [
        "metric = [\n",
        "    'marketCap',\n",
        "    'revenueGrowth',\n",
        "    'priceToSalesTrailing12Months',\n",
        "    'pegRatio',\n",
        "    'returnOnAssets',\n",
        "    'returnOnEquity',\n",
        "    'profitMargins',\n",
        "    'currentRatio',\n",
        "    'debtToEquity',\n",
        "    'payoutRatio',\n",
        "    'recommendationMean',\n",
        "    'recommendationKey',\n",
        "    'totalDebt',\n",
        "    'sector',\n",
        "    'morningStarRiskRating',\n",
        "    'ytdReturn',\n",
        "    'averageVolume'    \n",
        "]"
      ],
      "metadata": {
        "id": "x0JDdoRflFmv"
      },
      "execution_count": 5,
      "outputs": []
    },
    {
      "cell_type": "code",
      "source": [
        "df = pd.DataFrame(index=stock_list,columns=metric)"
      ],
      "metadata": {
        "id": "izOxcu6RlFpX"
      },
      "execution_count": 6,
      "outputs": []
    },
    {
      "cell_type": "code",
      "source": [
        "def get_fundamental_data(df):\n",
        "  for symbol in df.index:\n",
        "    get_sym_info = yf.Ticker(symbol)\n",
        "    print(\"Getting symbol: \" + symbol)\n",
        "    try:\n",
        "      for metric in df.columns:        \n",
        "        get_sym_info.info[metric]\n",
        "        df.loc[symbol,metric] = get_sym_info.info[metric]\n",
        "    except Exception as e:\n",
        "      print (symbol, 'not found')\n",
        "  return df\n",
        "      "
      ],
      "metadata": {
        "id": "0O2x5XEO4ICT"
      },
      "execution_count": 7,
      "outputs": []
    },
    {
      "cell_type": "code",
      "source": [
        "# Defining rules to check fundamentals\n",
        "# 'payoutRatio' : 1.0, # < 1.0\n",
        "# 'recommendationKey' : \"sell\",\n",
        "# gt -> great than >= \n",
        "rulesFundmentals_gt = {\n",
        "    'marketCap' : 200000000000,\n",
        "    'revenueGrowth' : 0.052,\n",
        "    'priceToSalesTrailing12Months' : 2.0000,\n",
        "    'pegRatio' : 2.0,\n",
        "    'returnOnAssets' : 0.08000,\n",
        "    'returnOnEquity' : 0.20000,\n",
        "    'profitMargins' : 0.11282,\n",
        "    'currentRatio' : 1.0,\n",
        "    'debtToEquity' : 11.00,\n",
        "    'recommendationMean' : 1.5,    \n",
        "    'averageVolume' : 1700000\n",
        "}"
      ],
      "metadata": {
        "id": "HPW5NbsoHllz"
      },
      "execution_count": 16,
      "outputs": []
    },
    {
      "cell_type": "code",
      "source": [
        "df = get_fundamental_data(df)"
      ],
      "metadata": {
        "colab": {
          "base_uri": "https://localhost:8080/"
        },
        "id": "l5VU2ENL5oHF",
        "outputId": "0598377a-96f4-4e63-b8ab-41cd83088498"
      },
      "execution_count": 8,
      "outputs": [
        {
          "output_type": "stream",
          "name": "stdout",
          "text": [
            "Getting symbol: ABBV\n",
            "Getting symbol: AMZN\n",
            "Getting symbol: GOOG\n",
            "Getting symbol: KO\n",
            "Getting symbol: PEP\n",
            "Getting symbol: PLD\n",
            "Getting symbol: STOR\n",
            "Getting symbol: PRU\n",
            "Getting symbol: MSFT\n",
            "Getting symbol: VZ\n",
            "Getting symbol: T\n",
            "Getting symbol: GOOGL\n",
            "Getting symbol: AMZN\n",
            "Getting symbol: WBD\n"
          ]
        }
      ]
    },
    {
      "cell_type": "code",
      "source": [
        "rules_broken_by_symbol = []"
      ],
      "metadata": {
        "id": "e5vIHtCgSkTb"
      },
      "execution_count": 17,
      "outputs": []
    },
    {
      "cell_type": "code",
      "source": [
        "def check_fundamentals_data(df):\n",
        "  for symbol in df.index:\n",
        "    count_broken_rules = 0\n",
        "    print(\"Checking symbol: \" + symbol)        \n",
        "    try:\n",
        "      for metric in df.columns: \n",
        "        print(\"\\t Compare metric: \" + metric)                                   \n",
        "        if metric in rulesFundmentals_gt:                    \n",
        "          if df.loc[symbol,metric] < rulesFundmentals_gt[metric]:\n",
        "            count_broken_rules += 1\n",
        "      if count_broken_rules >= 3: # number of rules that was broken\n",
        "        rules_broken_by_symbol.append(symbol)    \n",
        "    except Exception as e:\n",
        "      print (symbol, 'not found')\n",
        "\n",
        "  print(\"Stocks that broken the rules: \")\n",
        "  print(rules_broken_by_symbol)"
      ],
      "metadata": {
        "id": "UR7szI03lFsA"
      },
      "execution_count": 74,
      "outputs": []
    },
    {
      "cell_type": "code",
      "source": [
        "check_fundamentals_data(df)"
      ],
      "metadata": {
        "colab": {
          "base_uri": "https://localhost:8080/"
        },
        "id": "xQRpszEZROuH",
        "outputId": "adc7258d-b169-4250-ae38-40d230afcfd9"
      },
      "execution_count": 75,
      "outputs": [
        {
          "output_type": "stream",
          "name": "stdout",
          "text": [
            "Checking symbol: ABBV\n",
            "\t Compare metric: marketCap\n",
            "\t Compare metric: revenueGrowth\n",
            "\t Compare metric: priceToSalesTrailing12Months\n",
            "\t Compare metric: pegRatio\n",
            "\t Compare metric: returnOnAssets\n",
            "\t Compare metric: returnOnEquity\n",
            "\t Compare metric: profitMargins\n",
            "\t Compare metric: currentRatio\n",
            "\t Compare metric: debtToEquity\n",
            "\t Compare metric: payoutRatio\n",
            "\t Compare metric: recommendationMean\n",
            "\t Compare metric: recommendationKey\n",
            "\t Compare metric: totalDebt\n",
            "\t Compare metric: sector\n",
            "\t Compare metric: morningStarRiskRating\n",
            "\t Compare metric: ytdReturn\n",
            "\t Compare metric: averageVolume\n",
            "Checking symbol: AMZN\n",
            "\t Compare metric: marketCap\n",
            "AMZN not found\n",
            "Checking symbol: GOOG\n",
            "\t Compare metric: marketCap\n",
            "\t Compare metric: revenueGrowth\n",
            "\t Compare metric: priceToSalesTrailing12Months\n",
            "\t Compare metric: pegRatio\n",
            "\t Compare metric: returnOnAssets\n",
            "\t Compare metric: returnOnEquity\n",
            "\t Compare metric: profitMargins\n",
            "\t Compare metric: currentRatio\n",
            "\t Compare metric: debtToEquity\n",
            "\t Compare metric: payoutRatio\n",
            "\t Compare metric: recommendationMean\n",
            "\t Compare metric: recommendationKey\n",
            "\t Compare metric: totalDebt\n",
            "\t Compare metric: sector\n",
            "\t Compare metric: morningStarRiskRating\n",
            "\t Compare metric: ytdReturn\n",
            "\t Compare metric: averageVolume\n",
            "Checking symbol: KO\n",
            "\t Compare metric: marketCap\n",
            "\t Compare metric: revenueGrowth\n",
            "\t Compare metric: priceToSalesTrailing12Months\n",
            "\t Compare metric: pegRatio\n",
            "\t Compare metric: returnOnAssets\n",
            "\t Compare metric: returnOnEquity\n",
            "\t Compare metric: profitMargins\n",
            "\t Compare metric: currentRatio\n",
            "\t Compare metric: debtToEquity\n",
            "\t Compare metric: payoutRatio\n",
            "\t Compare metric: recommendationMean\n",
            "\t Compare metric: recommendationKey\n",
            "\t Compare metric: totalDebt\n",
            "\t Compare metric: sector\n",
            "\t Compare metric: morningStarRiskRating\n",
            "\t Compare metric: ytdReturn\n",
            "\t Compare metric: averageVolume\n",
            "Checking symbol: PEP\n",
            "\t Compare metric: marketCap\n",
            "\t Compare metric: revenueGrowth\n",
            "\t Compare metric: priceToSalesTrailing12Months\n",
            "\t Compare metric: pegRatio\n",
            "\t Compare metric: returnOnAssets\n",
            "\t Compare metric: returnOnEquity\n",
            "\t Compare metric: profitMargins\n",
            "\t Compare metric: currentRatio\n",
            "\t Compare metric: debtToEquity\n",
            "\t Compare metric: payoutRatio\n",
            "\t Compare metric: recommendationMean\n",
            "\t Compare metric: recommendationKey\n",
            "\t Compare metric: totalDebt\n",
            "\t Compare metric: sector\n",
            "\t Compare metric: morningStarRiskRating\n",
            "\t Compare metric: ytdReturn\n",
            "\t Compare metric: averageVolume\n",
            "Checking symbol: PLD\n",
            "\t Compare metric: marketCap\n",
            "\t Compare metric: revenueGrowth\n",
            "\t Compare metric: priceToSalesTrailing12Months\n",
            "\t Compare metric: pegRatio\n",
            "\t Compare metric: returnOnAssets\n",
            "\t Compare metric: returnOnEquity\n",
            "\t Compare metric: profitMargins\n",
            "\t Compare metric: currentRatio\n",
            "\t Compare metric: debtToEquity\n",
            "\t Compare metric: payoutRatio\n",
            "\t Compare metric: recommendationMean\n",
            "\t Compare metric: recommendationKey\n",
            "\t Compare metric: totalDebt\n",
            "\t Compare metric: sector\n",
            "\t Compare metric: morningStarRiskRating\n",
            "\t Compare metric: ytdReturn\n",
            "\t Compare metric: averageVolume\n",
            "Checking symbol: STOR\n",
            "\t Compare metric: marketCap\n",
            "\t Compare metric: revenueGrowth\n",
            "\t Compare metric: priceToSalesTrailing12Months\n",
            "\t Compare metric: pegRatio\n",
            "\t Compare metric: returnOnAssets\n",
            "\t Compare metric: returnOnEquity\n",
            "\t Compare metric: profitMargins\n",
            "\t Compare metric: currentRatio\n",
            "\t Compare metric: debtToEquity\n",
            "\t Compare metric: payoutRatio\n",
            "\t Compare metric: recommendationMean\n",
            "\t Compare metric: recommendationKey\n",
            "\t Compare metric: totalDebt\n",
            "\t Compare metric: sector\n",
            "\t Compare metric: morningStarRiskRating\n",
            "\t Compare metric: ytdReturn\n",
            "\t Compare metric: averageVolume\n",
            "Checking symbol: PRU\n",
            "\t Compare metric: marketCap\n",
            "\t Compare metric: revenueGrowth\n",
            "\t Compare metric: priceToSalesTrailing12Months\n",
            "\t Compare metric: pegRatio\n",
            "\t Compare metric: returnOnAssets\n",
            "\t Compare metric: returnOnEquity\n",
            "\t Compare metric: profitMargins\n",
            "\t Compare metric: currentRatio\n",
            "\t Compare metric: debtToEquity\n",
            "\t Compare metric: payoutRatio\n",
            "\t Compare metric: recommendationMean\n",
            "\t Compare metric: recommendationKey\n",
            "\t Compare metric: totalDebt\n",
            "\t Compare metric: sector\n",
            "\t Compare metric: morningStarRiskRating\n",
            "\t Compare metric: ytdReturn\n",
            "\t Compare metric: averageVolume\n",
            "Checking symbol: MSFT\n",
            "\t Compare metric: marketCap\n",
            "\t Compare metric: revenueGrowth\n",
            "\t Compare metric: priceToSalesTrailing12Months\n",
            "\t Compare metric: pegRatio\n",
            "\t Compare metric: returnOnAssets\n",
            "\t Compare metric: returnOnEquity\n",
            "\t Compare metric: profitMargins\n",
            "\t Compare metric: currentRatio\n",
            "\t Compare metric: debtToEquity\n",
            "\t Compare metric: payoutRatio\n",
            "\t Compare metric: recommendationMean\n",
            "\t Compare metric: recommendationKey\n",
            "\t Compare metric: totalDebt\n",
            "\t Compare metric: sector\n",
            "\t Compare metric: morningStarRiskRating\n",
            "\t Compare metric: ytdReturn\n",
            "\t Compare metric: averageVolume\n",
            "Checking symbol: VZ\n",
            "\t Compare metric: marketCap\n",
            "\t Compare metric: revenueGrowth\n",
            "\t Compare metric: priceToSalesTrailing12Months\n",
            "\t Compare metric: pegRatio\n",
            "\t Compare metric: returnOnAssets\n",
            "\t Compare metric: returnOnEquity\n",
            "\t Compare metric: profitMargins\n",
            "\t Compare metric: currentRatio\n",
            "\t Compare metric: debtToEquity\n",
            "\t Compare metric: payoutRatio\n",
            "\t Compare metric: recommendationMean\n",
            "\t Compare metric: recommendationKey\n",
            "\t Compare metric: totalDebt\n",
            "\t Compare metric: sector\n",
            "\t Compare metric: morningStarRiskRating\n",
            "\t Compare metric: ytdReturn\n",
            "\t Compare metric: averageVolume\n",
            "Checking symbol: T\n",
            "\t Compare metric: marketCap\n",
            "\t Compare metric: revenueGrowth\n",
            "\t Compare metric: priceToSalesTrailing12Months\n",
            "\t Compare metric: pegRatio\n",
            "\t Compare metric: returnOnAssets\n",
            "\t Compare metric: returnOnEquity\n",
            "\t Compare metric: profitMargins\n",
            "\t Compare metric: currentRatio\n",
            "\t Compare metric: debtToEquity\n",
            "\t Compare metric: payoutRatio\n",
            "\t Compare metric: recommendationMean\n",
            "\t Compare metric: recommendationKey\n",
            "\t Compare metric: totalDebt\n",
            "\t Compare metric: sector\n",
            "\t Compare metric: morningStarRiskRating\n",
            "\t Compare metric: ytdReturn\n",
            "\t Compare metric: averageVolume\n",
            "Checking symbol: GOOGL\n",
            "\t Compare metric: marketCap\n",
            "\t Compare metric: revenueGrowth\n",
            "\t Compare metric: priceToSalesTrailing12Months\n",
            "\t Compare metric: pegRatio\n",
            "\t Compare metric: returnOnAssets\n",
            "\t Compare metric: returnOnEquity\n",
            "\t Compare metric: profitMargins\n",
            "\t Compare metric: currentRatio\n",
            "\t Compare metric: debtToEquity\n",
            "\t Compare metric: payoutRatio\n",
            "\t Compare metric: recommendationMean\n",
            "\t Compare metric: recommendationKey\n",
            "\t Compare metric: totalDebt\n",
            "\t Compare metric: sector\n",
            "\t Compare metric: morningStarRiskRating\n",
            "\t Compare metric: ytdReturn\n",
            "\t Compare metric: averageVolume\n",
            "Checking symbol: AMZN\n",
            "\t Compare metric: marketCap\n",
            "AMZN not found\n",
            "Checking symbol: WBD\n",
            "\t Compare metric: marketCap\n",
            "\t Compare metric: revenueGrowth\n",
            "\t Compare metric: priceToSalesTrailing12Months\n",
            "\t Compare metric: pegRatio\n",
            "\t Compare metric: returnOnAssets\n",
            "\t Compare metric: returnOnEquity\n",
            "\t Compare metric: profitMargins\n",
            "\t Compare metric: currentRatio\n",
            "\t Compare metric: debtToEquity\n",
            "\t Compare metric: payoutRatio\n",
            "\t Compare metric: recommendationMean\n",
            "\t Compare metric: recommendationKey\n",
            "\t Compare metric: totalDebt\n",
            "\t Compare metric: sector\n",
            "\t Compare metric: morningStarRiskRating\n",
            "\t Compare metric: ytdReturn\n",
            "\t Compare metric: averageVolume\n",
            "Stocks that broken the rules: \n",
            "['ABBV', 'PLD', 'STOR', 'PRU', 'VZ', 'T', 'WBD']\n"
          ]
        }
      ]
    },
    {
      "cell_type": "code",
      "source": [
        "# ETFs analysis"
      ],
      "metadata": {
        "id": "I0NC5ucZNf22"
      },
      "execution_count": null,
      "outputs": []
    },
    {
      "cell_type": "code",
      "source": [
        "# https://kernc.github.io/backtesting.py/doc/examples/Parameter%20Heatmap.html\n",
        "# https://towardsdatascience.com/better-heatmaps-and-correlation-matrix-plots-in-python-41445d0f2bec\n",
        "# "
      ],
      "metadata": {
        "id": "9RnY7W-j1Gr8"
      },
      "execution_count": null,
      "outputs": []
    }
  ]
}