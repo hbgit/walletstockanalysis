{
  "nbformat": 4,
  "nbformat_minor": 0,
  "metadata": {
    "colab": {
      "provenance": [],
      "collapsed_sections": [],
      "authorship_tag": "ABX9TyPjlOQ3z6niyVIFhIF5r6G4",
      "include_colab_link": true
    },
    "kernelspec": {
      "name": "python3",
      "display_name": "Python 3"
    },
    "language_info": {
      "name": "python"
    }
  },
  "cells": [
    {
      "cell_type": "markdown",
      "metadata": {
        "id": "view-in-github",
        "colab_type": "text"
      },
      "source": [
        "<a href=\"https://colab.research.google.com/github/hbgit/walletstockanalysis/blob/main/ReviewMyWalletStonks_v2.ipynb\" target=\"_parent\"><img src=\"https://colab.research.google.com/assets/colab-badge.svg\" alt=\"Open In Colab\"/></a>"
      ]
    },
    {
      "cell_type": "code",
      "source": [
        "!pip install yfinance"
      ],
      "metadata": {
        "colab": {
          "base_uri": "https://localhost:8080/"
        },
        "id": "-LPJcwpv2Svi",
        "outputId": "125749b4-0f12-4bd7-a89c-ead6fa41c8e4"
      },
      "execution_count": 24,
      "outputs": [
        {
          "output_type": "stream",
          "name": "stdout",
          "text": [
            "Looking in indexes: https://pypi.org/simple, https://us-python.pkg.dev/colab-wheels/public/simple/\n",
            "Requirement already satisfied: yfinance in /usr/local/lib/python3.7/dist-packages (0.1.79)\n",
            "Requirement already satisfied: pandas>=0.24.0 in /usr/local/lib/python3.7/dist-packages (from yfinance) (1.3.5)\n",
            "Requirement already satisfied: appdirs>=1.4.4 in /usr/local/lib/python3.7/dist-packages (from yfinance) (1.4.4)\n",
            "Requirement already satisfied: requests>=2.26 in /usr/local/lib/python3.7/dist-packages (from yfinance) (2.28.1)\n",
            "Requirement already satisfied: multitasking>=0.0.7 in /usr/local/lib/python3.7/dist-packages (from yfinance) (0.0.11)\n",
            "Requirement already satisfied: numpy>=1.15 in /usr/local/lib/python3.7/dist-packages (from yfinance) (1.21.6)\n",
            "Requirement already satisfied: lxml>=4.5.1 in /usr/local/lib/python3.7/dist-packages (from yfinance) (4.9.1)\n",
            "Requirement already satisfied: python-dateutil>=2.7.3 in /usr/local/lib/python3.7/dist-packages (from pandas>=0.24.0->yfinance) (2.8.2)\n",
            "Requirement already satisfied: pytz>=2017.3 in /usr/local/lib/python3.7/dist-packages (from pandas>=0.24.0->yfinance) (2022.4)\n",
            "Requirement already satisfied: six>=1.5 in /usr/local/lib/python3.7/dist-packages (from python-dateutil>=2.7.3->pandas>=0.24.0->yfinance) (1.15.0)\n",
            "Requirement already satisfied: certifi>=2017.4.17 in /usr/local/lib/python3.7/dist-packages (from requests>=2.26->yfinance) (2022.9.24)\n",
            "Requirement already satisfied: charset-normalizer<3,>=2 in /usr/local/lib/python3.7/dist-packages (from requests>=2.26->yfinance) (2.1.1)\n",
            "Requirement already satisfied: idna<4,>=2.5 in /usr/local/lib/python3.7/dist-packages (from requests>=2.26->yfinance) (2.10)\n",
            "Requirement already satisfied: urllib3<1.27,>=1.21.1 in /usr/local/lib/python3.7/dist-packages (from requests>=2.26->yfinance) (1.24.3)\n"
          ]
        }
      ]
    },
    {
      "cell_type": "code",
      "source": [
        "import yfinance as yf\n",
        "import pandas as pd\n",
        "import numpy as np\n",
        "import json\n",
        "# Import the plotting library\n",
        "import matplotlib.pyplot as plt\n",
        "%matplotlib inline\n",
        "\n",
        "import plotly.express as px"
      ],
      "metadata": {
        "id": "Hu14zc-xvL5u"
      },
      "execution_count": 25,
      "outputs": []
    },
    {
      "cell_type": "code",
      "source": [
        "#PRIO3 = yf.Ticker(\"PRIO3.SA\")\n",
        "PRIO3 = yf.Ticker(\"VOO\")\n",
        "print(PRIO3.info)"
      ],
      "metadata": {
        "id": "gvauK4gZi4fx",
        "colab": {
          "base_uri": "https://localhost:8080/"
        },
        "outputId": "a85c91d8-9c0e-4699-fda2-51fb81f9776c"
      },
      "execution_count": 26,
      "outputs": [
        {
          "output_type": "stream",
          "name": "stdout",
          "text": [
            "{'exchange': 'PCX', 'shortName': 'Vanguard S&P 500 ETF', 'longName': 'Vanguard 500 Index Fund', 'exchangeTimezoneName': 'America/New_York', 'exchangeTimezoneShortName': 'EDT', 'isEsgPopulated': False, 'gmtOffSetMilliseconds': '-14400000', 'quoteType': 'ETF', 'symbol': 'VOO', 'messageBoardId': 'finmb_28117396', 'market': 'us_market', 'annualHoldingsTurnover': None, 'enterpriseToRevenue': None, 'beta3Year': 1, 'profitMargins': None, 'enterpriseToEbitda': None, '52WeekChange': None, 'morningStarRiskRating': None, 'forwardEps': None, 'revenueQuarterlyGrowth': None, 'fundInceptionDate': 1283817600, 'annualReportExpenseRatio': None, 'totalAssets': 753852547072, 'bookValue': None, 'fundFamily': 'Vanguard', 'lastFiscalYearEnd': None, 'netIncomeToCommon': None, 'trailingEps': None, 'lastDividendValue': None, 'SandP52WeekChange': None, 'priceToBook': None, 'nextFiscalYearEnd': None, 'yield': 0.0177, 'mostRecentQuarter': None, 'enterpriseValue': None, 'priceHint': 2, 'threeYearAverageReturn': 0.0908, 'lastSplitDate': None, 'lastSplitFactor': None, 'legalType': 'Exchange Traded Fund', 'lastDividendDate': None, 'morningStarOverallRating': None, 'earningsQuarterlyGrowth': None, 'priceToSalesTrailing12Months': None, 'pegRatio': None, 'ytdReturn': None, 'forwardPE': None, 'maxAge': 1, 'lastCapGain': None, 'category': 'Large Blend', 'fiveYearAverageReturn': 0.094799995, 'phone': 'NA', 'longBusinessSummary': \"The fund employs an indexing investment approach designed to track the performance of the Standard & Poor's 500 Index, a widely recognized benchmark of U.S. stock market performance that is dominated by the stocks of large U.S. companies. The advisor attempts to replicate the target index by investing all, or substantially all, of its assets in the stocks that make up the index, holding each stock in approximately the same proportion as its weighting in the index.\", 'companyOfficers': [], 'previousClose': 335.83, 'regularMarketOpen': 335.5, 'twoHundredDayAverage': 379.7346, 'trailingAnnualDividendYield': 0.01618974, 'payoutRatio': None, 'volume24Hr': None, 'regularMarketDayHigh': 343.12, 'navPrice': 338.56, 'averageDailyVolume10Day': 4522410, 'regularMarketPreviousClose': 335.83, 'fiftyDayAverage': 357.5718, 'trailingAnnualDividendRate': 5.437, 'open': 335.5, 'toCurrency': None, 'averageVolume10days': 4522410, 'expireDate': None, 'algorithm': None, 'dividendRate': None, 'exDividendDate': None, 'beta': None, 'circulatingSupply': None, 'startDate': None, 'regularMarketDayLow': 334.17, 'currency': 'USD', 'trailingPE': 12.959335, 'regularMarketVolume': 3394550, 'lastMarket': None, 'maxSupply': None, 'openInterest': None, 'marketCap': None, 'volumeAllCurrencies': None, 'strikePrice': None, 'averageVolume': 4422984, 'dayLow': 334.17, 'ask': 342.23, 'askSize': 800, 'volume': 3394550, 'fiftyTwoWeekHigh': 441.26, 'fromCurrency': None, 'fiveYearAvgDividendYield': None, 'fiftyTwoWeekLow': 319.87, 'bid': 342.19, 'tradeable': False, 'dividendYield': None, 'bidSize': 900, 'dayHigh': 343.12, 'coinMarketCapLink': None, 'preferredPosition': None, 'bondPosition': 0, 'convertiblePosition': None, 'sectorWeightings': [{'realestate': 0.028299998}, {'consumer_cyclical': 0.1112}, {'basic_materials': 0.0223}, {'consumer_defensive': 0.0713}, {'technology': 0.245}, {'communication_services': 0.0836}, {'financial_services': 0.1286}, {'utilities': 0.024300002}, {'industrials': 0.084}, {'energy': 0.0464}, {'healthcare': 0.14050001}], 'holdings': [{'symbol': 'AAPL', 'holdingName': 'Apple Inc', 'holdingPercent': 0.0592}, {'symbol': 'MSFT', 'holdingName': 'Microsoft Corp', 'holdingPercent': 0.056199998}, {'symbol': 'AMZN', 'holdingName': 'Amazon.com Inc', 'holdingPercent': 0.040599998}, {'symbol': 'FB', 'holdingName': 'Facebook Inc Class A', 'holdingPercent': 0.0229}, {'symbol': 'GOOGL', 'holdingName': 'Alphabet Inc Class A', 'holdingPercent': 0.0202}, {'symbol': 'GOOG', 'holdingName': 'Alphabet Inc Class C', 'holdingPercent': 0.0197}, {'symbol': 'BRK.B', 'holdingName': 'Berkshire Hathaway Inc Class B', 'holdingPercent': 0.014400001}, {'symbol': 'TSLA', 'holdingName': 'Tesla Inc', 'holdingPercent': 0.014400001}, {'symbol': 'NVDA', 'holdingName': 'NVIDIA Corp', 'holdingPercent': 0.0137}, {'symbol': 'JPM', 'holdingName': 'JPMorgan Chase & Co', 'holdingPercent': 0.012999999}], 'bondHoldings': {'maturity': None, 'duration': None, 'creditQuality': None, 'maturityCat': None, 'durationCat': None, 'creditQualityCat': None}, 'bondRatings': [{'bb': 0}, {'aa': 0}, {'aaa': 0}, {'a': 0}, {'other': 0}, {'b': 0}, {'bbb': 0}, {'below_b': 0}, {'us_government': 0}], 'equityHoldings': {'priceToCashflow': 17.57, 'priceToSales': 2.96, 'priceToBookCat': None, 'priceToEarningsCat': None, 'medianMarketCapCat': None, 'threeYearEarningsGrowthCat': None, 'threeYearEarningsGrowth': None, 'medianMarketCap': None, 'priceToEarnings': 18.45, 'priceToBook': 4.42, 'priceToSalesCat': None, 'priceToCashflowCat': None}, 'otherPosition': None, 'cashPosition': None, 'stockPosition': 0.9922, 'regularMarketPrice': 342.904, 'preMarketPrice': 335.22, 'logo_url': ''}\n"
          ]
        }
      ]
    },
    {
      "cell_type": "markdown",
      "source": [
        "**Stock Wallet**"
      ],
      "metadata": {
        "id": "fw21KVE2yWNr"
      }
    },
    {
      "cell_type": "code",
      "source": [
        "ticket_company_shares = ['ABBV','PEP','PLD','KO','STOR','PRU','MSFT','VZ','T','GOOGL','AMZN']"
      ],
      "metadata": {
        "id": "aSJiBnu8lFkU"
      },
      "execution_count": 27,
      "outputs": []
    },
    {
      "cell_type": "code",
      "source": [
        "#earningsGrowth; yield; totalRevenue\n",
        "metric_company_shares = [\n",
        "    'marketCap',\n",
        "    'revenueGrowth',\n",
        "    'pegRatio',\n",
        "    'returnOnAssets',\n",
        "    'returnOnEquity',\n",
        "    'profitMargins',\n",
        "    'currentRatio',\n",
        "    'debtToEquity',\n",
        "    'payoutRatio',\n",
        "    'recommendationMean',\n",
        "    'recommendationKey',\n",
        "    'totalDebt',\n",
        "    'sector',\n",
        "    'dividendYield',\n",
        "    'averageVolume',\n",
        "    'totalRevenue'\n",
        "]"
      ],
      "metadata": {
        "id": "x0JDdoRflFmv"
      },
      "execution_count": 28,
      "outputs": []
    },
    {
      "cell_type": "code",
      "source": [
        "df = pd.DataFrame(index=ticket_company_shares,columns=metric_company_shares)"
      ],
      "metadata": {
        "id": "izOxcu6RlFpX"
      },
      "execution_count": 29,
      "outputs": []
    },
    {
      "cell_type": "code",
      "source": [
        "def get_fundamental_data(df):\n",
        "  for symbol in df.index:\n",
        "    get_sym_info = yf.Ticker(symbol)\n",
        "    print(\"Getting symbol: \" + symbol)    \n",
        "    for metric in df.columns:        \n",
        "      get_sym_info.info[metric]\n",
        "      df.loc[symbol,metric] = get_sym_info.info[metric]    \n",
        "  return df\n",
        "      "
      ],
      "metadata": {
        "id": "0O2x5XEO4ICT"
      },
      "execution_count": 30,
      "outputs": []
    },
    {
      "cell_type": "code",
      "source": [
        "# Defining rules to check fundamentals\n",
        "# gt -> great than >= \n",
        "rulesFundmentals_gt_company_shares = {\n",
        "    'marketCap' : 200000000000,\n",
        "    'revenueGrowth' : 0.052,\n",
        "    'pegRatio' : 2.0,\n",
        "    'returnOnAssets' : 0.08000,\n",
        "    'returnOnEquity' : 0.20000,\n",
        "    'profitMargins' : 0.11282,\n",
        "    'currentRatio' : 1.0,\n",
        "    'debtToEquity' : 11.00,   \n",
        "    'averageVolume' : 1700000\n",
        "}"
      ],
      "metadata": {
        "id": "HPW5NbsoHllz"
      },
      "execution_count": 31,
      "outputs": []
    },
    {
      "cell_type": "code",
      "source": [
        "df = get_fundamental_data(df)"
      ],
      "metadata": {
        "colab": {
          "base_uri": "https://localhost:8080/"
        },
        "id": "l5VU2ENL5oHF",
        "outputId": "2b0a34ef-88ec-4624-df1f-f3ee47edb4dc"
      },
      "execution_count": 32,
      "outputs": [
        {
          "metadata": {
            "tags": null
          },
          "name": "stdout",
          "output_type": "stream",
          "text": [
            "Getting symbol: ABBV\n",
            "Getting symbol: PEP\n",
            "Getting symbol: PLD\n",
            "Getting symbol: KO\n",
            "Getting symbol: STOR\n",
            "Getting symbol: PRU\n",
            "Getting symbol: MSFT\n",
            "Getting symbol: VZ\n",
            "Getting symbol: T\n",
            "Getting symbol: GOOGL\n",
            "Getting symbol: AMZN\n"
          ]
        }
      ]
    },
    {
      "cell_type": "code",
      "source": [
        "# Print Bar Chart\n",
        "def print_bar_chart_from_json(json_file):\n",
        "  print(json_file)\n",
        "  #s = pd.Series(json_file, name='DateValue')\n",
        "  df = pd.DataFrame(json_file.items(), columns=['Ticket', 'Value'])\n",
        "  fig = px.bar(df, x='Ticket', y='Value',\n",
        "             color='Value',\n",
        "             labels={'pop':'population of Canada'}, height=400)\n",
        "  fig.show()\n"
      ],
      "metadata": {
        "id": "iBwAwMaoDZ2h"
      },
      "execution_count": 33,
      "outputs": []
    },
    {
      "cell_type": "code",
      "source": [
        "def check_peformace_last_months(list_symbol):\n",
        "    # Collect data from the last 6 months    \n",
        "    data = yf.download(list_symbol,period = \"6mo\")['Adj Close']\n",
        "    flag_series = False\n",
        "   \n",
        "    if type(data) is pd.Series:\n",
        "      flag_series = True\n",
        "      single_symbol = list_symbol[0]\n",
        "      data = pd.DataFrame({'Date':data.index, single_symbol:data.values})\n",
        "      #set column as index\n",
        "      data = data.set_index('Date')\n",
        "\n",
        "    # https://capitalresearch.com.br/blog/calcular-rentabilidade/\n",
        "    # Return  \n",
        "    dict_return = {}  \n",
        "    for symbol in data.columns:\n",
        "      if not pd.isna(data[symbol].iloc[0]):\n",
        "        dict_return[symbol] = ((data[symbol].iloc[-1]/data[symbol].iloc[0])*100)-100\n",
        "      else:\n",
        "        dict_return[symbol] = ((data[symbol].iloc[-1]/data[symbol].iloc[1])*100)-100\n",
        "\n",
        "    worst_return = {}\n",
        "    flag_has_bad_return = False\n",
        "    for e in dict_return.keys():\n",
        "      if dict_return[e] <= -20.00:\n",
        "        flag_has_bad_return = True\n",
        "        worst_return[e] = dict_return[e]\n",
        "    \n",
        "    #print(json.dumps(worst_return, sort_keys=True, indent=4))\n",
        "    if flag_has_bad_return:\n",
        "      print_bar_chart_from_json(worst_return)\n",
        "\n",
        "    # ----------------- Plot all the close prices  ----------------- \n",
        "    # Pandas dataframe. pct_change() function calculates the percentage change between the current and a prior element.\n",
        "    # Return cumulative product over a DataFrame or Series axis.\n",
        "    # The next step is to calculate the simple daily returns of the stocks. The formula to calculate this rate is to divide each day by the previous day minus 1.   \n",
        "    df = (data.pct_change()+1).cumprod()\n",
        "    if not flag_series:\n",
        "      df = df.reset_index()\n",
        "      fig = px.line(df, x=\"Date\", y=df.columns)\n",
        "      fig.show()\n",
        "    else:      \n",
        "      df = df.reset_index()\n",
        "      fig = px.line(df, x=\"Date\", y=single_symbol)\n",
        "      fig.show()\n",
        "    \n",
        "    "
      ],
      "metadata": {
        "id": "gQWzCp81HqOi"
      },
      "execution_count": 34,
      "outputs": []
    },
    {
      "cell_type": "code",
      "source": [
        "def check_fundamentals_data_shares(df, dict_rules_fundamentals):  \n",
        "  \n",
        "  rules_broken_by_symbol = []\n",
        "  metric_broken_by_symbol = {}\n",
        "\n",
        "  for symbol in df.index:\n",
        "    count_broken_rules = 0\n",
        "    tmp_metrics = []         \n",
        "    \n",
        "    for metric in df.columns:                                               \n",
        "      if metric in dict_rules_fundamentals:                        \n",
        "        if df.loc[symbol,metric] is not None:                        \n",
        "          if df.loc[symbol,metric] < dict_rules_fundamentals[metric]:\n",
        "            count_broken_rules += 1 \n",
        "            tmp_metrics.append(df.loc[symbol,metric])\n",
        "            tmp_metrics.append(dict_rules_fundamentals[metric])              \n",
        "            metric_broken_by_symbol[symbol] = tmp_metrics\n",
        "          if metric == \"payoutRatio\":\n",
        "            if df.loc[symbol,metric] > 1.0:\n",
        "              count_broken_rules += 1\n",
        "              tmp_metrics.append(df.loc[symbol,metric])\n",
        "              tmp_metrics.append(dict_rules_fundamentals[metric])              \n",
        "              metric_broken_by_symbol[symbol] = tmp_metrics\n",
        "          if metric == \"recommendationKey\":\n",
        "            if df.loc[symbol,metric] ==  \"sell\":\n",
        "              count_broken_rules += 1\n",
        "              tmp_metrics.append(df.loc[symbol,metric])\n",
        "              tmp_metrics.append(dict_rules_fundamentals[metric])              \n",
        "              metric_broken_by_symbol[symbol] = tmp_metrics\n",
        "            elif df.loc[symbol,metric] ==  \"hold\":\n",
        "              if df.loc[symbol,\"recommendationMean\"] > 3.5:\n",
        "                count_broken_rules += 1\n",
        "                tmp_metrics.append(df.loc[symbol,\"recommendationMean\"])\n",
        "                tmp_metrics.append(3.6)   \n",
        "\n",
        "      if count_broken_rules >= 3: # number of rules that was broken        \n",
        "        rules_broken_by_symbol.append(symbol)\n",
        "      else:\n",
        "        if symbol in metric_broken_by_symbol.keys():\n",
        "          metric_broken_by_symbol.pop(symbol) \n",
        "    \n",
        "    #try:      \n",
        "    #except Exception as e:\n",
        "    #  print (symbol, 'not found')\n",
        "\n",
        "  # Useful data\n",
        "  print(\"Stocks that broken the rules: \")  \n",
        "  #print(json.dumps(metric_broken_by_symbol, sort_keys=True, indent=4))\n",
        "  check_peformace_last_months(rules_broken_by_symbol)\n"
      ],
      "metadata": {
        "id": "UR7szI03lFsA"
      },
      "execution_count": 35,
      "outputs": []
    },
    {
      "cell_type": "code",
      "source": [
        "check_fundamentals_data_shares(df, rulesFundmentals_gt_company_shares)"
      ],
      "metadata": {
        "colab": {
          "base_uri": "https://localhost:8080/",
          "height": 994
        },
        "id": "xQRpszEZROuH",
        "outputId": "e78e4a1a-a8fa-468b-8cce-582cca4e1683"
      },
      "execution_count": 36,
      "outputs": [
        {
          "metadata": {
            "tags": null
          },
          "name": "stdout",
          "output_type": "stream",
          "text": [
            "Stocks that broken the rules: \n",
            "[*********************100%***********************]  7 of 7 completed\n",
            "{'PLD': -39.96076566634841, 'VZ': -35.78439948958919}\n"
          ]
        },
        {
          "data": {
            "text/html": [
              "<html>\n",
              "<head><meta charset=\"utf-8\" /></head>\n",
              "<body>\n",
              "    <div>            <script src=\"https://cdnjs.cloudflare.com/ajax/libs/mathjax/2.7.5/MathJax.js?config=TeX-AMS-MML_SVG\"></script><script type=\"text/javascript\">if (window.MathJax) {MathJax.Hub.Config({SVG: {font: \"STIX-Web\"}});}</script>                <script type=\"text/javascript\">window.PlotlyConfig = {MathJaxConfig: 'local'};</script>\n",
              "        <script src=\"https://cdn.plot.ly/plotly-2.8.3.min.js\"></script>                <div id=\"8869046b-1ee8-48a1-adc6-d41e0e2beb4d\" class=\"plotly-graph-div\" style=\"height:400px; width:100%;\"></div>            <script type=\"text/javascript\">                                    window.PLOTLYENV=window.PLOTLYENV || {};                                    if (document.getElementById(\"8869046b-1ee8-48a1-adc6-d41e0e2beb4d\")) {                    Plotly.newPlot(                        \"8869046b-1ee8-48a1-adc6-d41e0e2beb4d\",                        [{\"alignmentgroup\":\"True\",\"hovertemplate\":\"Ticket=%{x}<br>Value=%{marker.color}<extra></extra>\",\"legendgroup\":\"\",\"marker\":{\"color\":[-39.96076566634841,-35.78439948958919],\"coloraxis\":\"coloraxis\",\"pattern\":{\"shape\":\"\"}},\"name\":\"\",\"offsetgroup\":\"\",\"orientation\":\"v\",\"showlegend\":false,\"textposition\":\"auto\",\"x\":[\"PLD\",\"VZ\"],\"xaxis\":\"x\",\"y\":[-39.96076566634841,-35.78439948958919],\"yaxis\":\"y\",\"type\":\"bar\"}],                        {\"template\":{\"data\":{\"bar\":[{\"error_x\":{\"color\":\"#2a3f5f\"},\"error_y\":{\"color\":\"#2a3f5f\"},\"marker\":{\"line\":{\"color\":\"#E5ECF6\",\"width\":0.5},\"pattern\":{\"fillmode\":\"overlay\",\"size\":10,\"solidity\":0.2}},\"type\":\"bar\"}],\"barpolar\":[{\"marker\":{\"line\":{\"color\":\"#E5ECF6\",\"width\":0.5},\"pattern\":{\"fillmode\":\"overlay\",\"size\":10,\"solidity\":0.2}},\"type\":\"barpolar\"}],\"carpet\":[{\"aaxis\":{\"endlinecolor\":\"#2a3f5f\",\"gridcolor\":\"white\",\"linecolor\":\"white\",\"minorgridcolor\":\"white\",\"startlinecolor\":\"#2a3f5f\"},\"baxis\":{\"endlinecolor\":\"#2a3f5f\",\"gridcolor\":\"white\",\"linecolor\":\"white\",\"minorgridcolor\":\"white\",\"startlinecolor\":\"#2a3f5f\"},\"type\":\"carpet\"}],\"choropleth\":[{\"colorbar\":{\"outlinewidth\":0,\"ticks\":\"\"},\"type\":\"choropleth\"}],\"contour\":[{\"colorbar\":{\"outlinewidth\":0,\"ticks\":\"\"},\"colorscale\":[[0.0,\"#0d0887\"],[0.1111111111111111,\"#46039f\"],[0.2222222222222222,\"#7201a8\"],[0.3333333333333333,\"#9c179e\"],[0.4444444444444444,\"#bd3786\"],[0.5555555555555556,\"#d8576b\"],[0.6666666666666666,\"#ed7953\"],[0.7777777777777778,\"#fb9f3a\"],[0.8888888888888888,\"#fdca26\"],[1.0,\"#f0f921\"]],\"type\":\"contour\"}],\"contourcarpet\":[{\"colorbar\":{\"outlinewidth\":0,\"ticks\":\"\"},\"type\":\"contourcarpet\"}],\"heatmap\":[{\"colorbar\":{\"outlinewidth\":0,\"ticks\":\"\"},\"colorscale\":[[0.0,\"#0d0887\"],[0.1111111111111111,\"#46039f\"],[0.2222222222222222,\"#7201a8\"],[0.3333333333333333,\"#9c179e\"],[0.4444444444444444,\"#bd3786\"],[0.5555555555555556,\"#d8576b\"],[0.6666666666666666,\"#ed7953\"],[0.7777777777777778,\"#fb9f3a\"],[0.8888888888888888,\"#fdca26\"],[1.0,\"#f0f921\"]],\"type\":\"heatmap\"}],\"heatmapgl\":[{\"colorbar\":{\"outlinewidth\":0,\"ticks\":\"\"},\"colorscale\":[[0.0,\"#0d0887\"],[0.1111111111111111,\"#46039f\"],[0.2222222222222222,\"#7201a8\"],[0.3333333333333333,\"#9c179e\"],[0.4444444444444444,\"#bd3786\"],[0.5555555555555556,\"#d8576b\"],[0.6666666666666666,\"#ed7953\"],[0.7777777777777778,\"#fb9f3a\"],[0.8888888888888888,\"#fdca26\"],[1.0,\"#f0f921\"]],\"type\":\"heatmapgl\"}],\"histogram\":[{\"marker\":{\"pattern\":{\"fillmode\":\"overlay\",\"size\":10,\"solidity\":0.2}},\"type\":\"histogram\"}],\"histogram2d\":[{\"colorbar\":{\"outlinewidth\":0,\"ticks\":\"\"},\"colorscale\":[[0.0,\"#0d0887\"],[0.1111111111111111,\"#46039f\"],[0.2222222222222222,\"#7201a8\"],[0.3333333333333333,\"#9c179e\"],[0.4444444444444444,\"#bd3786\"],[0.5555555555555556,\"#d8576b\"],[0.6666666666666666,\"#ed7953\"],[0.7777777777777778,\"#fb9f3a\"],[0.8888888888888888,\"#fdca26\"],[1.0,\"#f0f921\"]],\"type\":\"histogram2d\"}],\"histogram2dcontour\":[{\"colorbar\":{\"outlinewidth\":0,\"ticks\":\"\"},\"colorscale\":[[0.0,\"#0d0887\"],[0.1111111111111111,\"#46039f\"],[0.2222222222222222,\"#7201a8\"],[0.3333333333333333,\"#9c179e\"],[0.4444444444444444,\"#bd3786\"],[0.5555555555555556,\"#d8576b\"],[0.6666666666666666,\"#ed7953\"],[0.7777777777777778,\"#fb9f3a\"],[0.8888888888888888,\"#fdca26\"],[1.0,\"#f0f921\"]],\"type\":\"histogram2dcontour\"}],\"mesh3d\":[{\"colorbar\":{\"outlinewidth\":0,\"ticks\":\"\"},\"type\":\"mesh3d\"}],\"parcoords\":[{\"line\":{\"colorbar\":{\"outlinewidth\":0,\"ticks\":\"\"}},\"type\":\"parcoords\"}],\"pie\":[{\"automargin\":true,\"type\":\"pie\"}],\"scatter\":[{\"marker\":{\"colorbar\":{\"outlinewidth\":0,\"ticks\":\"\"}},\"type\":\"scatter\"}],\"scatter3d\":[{\"line\":{\"colorbar\":{\"outlinewidth\":0,\"ticks\":\"\"}},\"marker\":{\"colorbar\":{\"outlinewidth\":0,\"ticks\":\"\"}},\"type\":\"scatter3d\"}],\"scattercarpet\":[{\"marker\":{\"colorbar\":{\"outlinewidth\":0,\"ticks\":\"\"}},\"type\":\"scattercarpet\"}],\"scattergeo\":[{\"marker\":{\"colorbar\":{\"outlinewidth\":0,\"ticks\":\"\"}},\"type\":\"scattergeo\"}],\"scattergl\":[{\"marker\":{\"colorbar\":{\"outlinewidth\":0,\"ticks\":\"\"}},\"type\":\"scattergl\"}],\"scattermapbox\":[{\"marker\":{\"colorbar\":{\"outlinewidth\":0,\"ticks\":\"\"}},\"type\":\"scattermapbox\"}],\"scatterpolar\":[{\"marker\":{\"colorbar\":{\"outlinewidth\":0,\"ticks\":\"\"}},\"type\":\"scatterpolar\"}],\"scatterpolargl\":[{\"marker\":{\"colorbar\":{\"outlinewidth\":0,\"ticks\":\"\"}},\"type\":\"scatterpolargl\"}],\"scatterternary\":[{\"marker\":{\"colorbar\":{\"outlinewidth\":0,\"ticks\":\"\"}},\"type\":\"scatterternary\"}],\"surface\":[{\"colorbar\":{\"outlinewidth\":0,\"ticks\":\"\"},\"colorscale\":[[0.0,\"#0d0887\"],[0.1111111111111111,\"#46039f\"],[0.2222222222222222,\"#7201a8\"],[0.3333333333333333,\"#9c179e\"],[0.4444444444444444,\"#bd3786\"],[0.5555555555555556,\"#d8576b\"],[0.6666666666666666,\"#ed7953\"],[0.7777777777777778,\"#fb9f3a\"],[0.8888888888888888,\"#fdca26\"],[1.0,\"#f0f921\"]],\"type\":\"surface\"}],\"table\":[{\"cells\":{\"fill\":{\"color\":\"#EBF0F8\"},\"line\":{\"color\":\"white\"}},\"header\":{\"fill\":{\"color\":\"#C8D4E3\"},\"line\":{\"color\":\"white\"}},\"type\":\"table\"}]},\"layout\":{\"annotationdefaults\":{\"arrowcolor\":\"#2a3f5f\",\"arrowhead\":0,\"arrowwidth\":1},\"autotypenumbers\":\"strict\",\"coloraxis\":{\"colorbar\":{\"outlinewidth\":0,\"ticks\":\"\"}},\"colorscale\":{\"diverging\":[[0,\"#8e0152\"],[0.1,\"#c51b7d\"],[0.2,\"#de77ae\"],[0.3,\"#f1b6da\"],[0.4,\"#fde0ef\"],[0.5,\"#f7f7f7\"],[0.6,\"#e6f5d0\"],[0.7,\"#b8e186\"],[0.8,\"#7fbc41\"],[0.9,\"#4d9221\"],[1,\"#276419\"]],\"sequential\":[[0.0,\"#0d0887\"],[0.1111111111111111,\"#46039f\"],[0.2222222222222222,\"#7201a8\"],[0.3333333333333333,\"#9c179e\"],[0.4444444444444444,\"#bd3786\"],[0.5555555555555556,\"#d8576b\"],[0.6666666666666666,\"#ed7953\"],[0.7777777777777778,\"#fb9f3a\"],[0.8888888888888888,\"#fdca26\"],[1.0,\"#f0f921\"]],\"sequentialminus\":[[0.0,\"#0d0887\"],[0.1111111111111111,\"#46039f\"],[0.2222222222222222,\"#7201a8\"],[0.3333333333333333,\"#9c179e\"],[0.4444444444444444,\"#bd3786\"],[0.5555555555555556,\"#d8576b\"],[0.6666666666666666,\"#ed7953\"],[0.7777777777777778,\"#fb9f3a\"],[0.8888888888888888,\"#fdca26\"],[1.0,\"#f0f921\"]]},\"colorway\":[\"#636efa\",\"#EF553B\",\"#00cc96\",\"#ab63fa\",\"#FFA15A\",\"#19d3f3\",\"#FF6692\",\"#B6E880\",\"#FF97FF\",\"#FECB52\"],\"font\":{\"color\":\"#2a3f5f\"},\"geo\":{\"bgcolor\":\"white\",\"lakecolor\":\"white\",\"landcolor\":\"#E5ECF6\",\"showlakes\":true,\"showland\":true,\"subunitcolor\":\"white\"},\"hoverlabel\":{\"align\":\"left\"},\"hovermode\":\"closest\",\"mapbox\":{\"style\":\"light\"},\"paper_bgcolor\":\"white\",\"plot_bgcolor\":\"#E5ECF6\",\"polar\":{\"angularaxis\":{\"gridcolor\":\"white\",\"linecolor\":\"white\",\"ticks\":\"\"},\"bgcolor\":\"#E5ECF6\",\"radialaxis\":{\"gridcolor\":\"white\",\"linecolor\":\"white\",\"ticks\":\"\"}},\"scene\":{\"xaxis\":{\"backgroundcolor\":\"#E5ECF6\",\"gridcolor\":\"white\",\"gridwidth\":2,\"linecolor\":\"white\",\"showbackground\":true,\"ticks\":\"\",\"zerolinecolor\":\"white\"},\"yaxis\":{\"backgroundcolor\":\"#E5ECF6\",\"gridcolor\":\"white\",\"gridwidth\":2,\"linecolor\":\"white\",\"showbackground\":true,\"ticks\":\"\",\"zerolinecolor\":\"white\"},\"zaxis\":{\"backgroundcolor\":\"#E5ECF6\",\"gridcolor\":\"white\",\"gridwidth\":2,\"linecolor\":\"white\",\"showbackground\":true,\"ticks\":\"\",\"zerolinecolor\":\"white\"}},\"shapedefaults\":{\"line\":{\"color\":\"#2a3f5f\"}},\"ternary\":{\"aaxis\":{\"gridcolor\":\"white\",\"linecolor\":\"white\",\"ticks\":\"\"},\"baxis\":{\"gridcolor\":\"white\",\"linecolor\":\"white\",\"ticks\":\"\"},\"bgcolor\":\"#E5ECF6\",\"caxis\":{\"gridcolor\":\"white\",\"linecolor\":\"white\",\"ticks\":\"\"}},\"title\":{\"x\":0.05},\"xaxis\":{\"automargin\":true,\"gridcolor\":\"white\",\"linecolor\":\"white\",\"ticks\":\"\",\"title\":{\"standoff\":15},\"zerolinecolor\":\"white\",\"zerolinewidth\":2},\"yaxis\":{\"automargin\":true,\"gridcolor\":\"white\",\"linecolor\":\"white\",\"ticks\":\"\",\"title\":{\"standoff\":15},\"zerolinecolor\":\"white\",\"zerolinewidth\":2}}},\"xaxis\":{\"anchor\":\"y\",\"domain\":[0.0,1.0],\"title\":{\"text\":\"Ticket\"}},\"yaxis\":{\"anchor\":\"x\",\"domain\":[0.0,1.0],\"title\":{\"text\":\"Value\"}},\"coloraxis\":{\"colorbar\":{\"title\":{\"text\":\"Value\"}},\"colorscale\":[[0.0,\"#0d0887\"],[0.1111111111111111,\"#46039f\"],[0.2222222222222222,\"#7201a8\"],[0.3333333333333333,\"#9c179e\"],[0.4444444444444444,\"#bd3786\"],[0.5555555555555556,\"#d8576b\"],[0.6666666666666666,\"#ed7953\"],[0.7777777777777778,\"#fb9f3a\"],[0.8888888888888888,\"#fdca26\"],[1.0,\"#f0f921\"]]},\"legend\":{\"tracegroupgap\":0},\"margin\":{\"t\":60},\"barmode\":\"relative\",\"height\":400},                        {\"responsive\": true}                    ).then(function(){\n",
              "                            \n",
              "var gd = document.getElementById('8869046b-1ee8-48a1-adc6-d41e0e2beb4d');\n",
              "var x = new MutationObserver(function (mutations, observer) {{\n",
              "        var display = window.getComputedStyle(gd).display;\n",
              "        if (!display || display === 'none') {{\n",
              "            console.log([gd, 'removed!']);\n",
              "            Plotly.purge(gd);\n",
              "            observer.disconnect();\n",
              "        }}\n",
              "}});\n",
              "\n",
              "// Listen for the removal of the full notebook cells\n",
              "var notebookContainer = gd.closest('#notebook-container');\n",
              "if (notebookContainer) {{\n",
              "    x.observe(notebookContainer, {childList: true});\n",
              "}}\n",
              "\n",
              "// Listen for the clearing of the current output cell\n",
              "var outputEl = gd.closest('.output');\n",
              "if (outputEl) {{\n",
              "    x.observe(outputEl, {childList: true});\n",
              "}}\n",
              "\n",
              "                        })                };                            </script>        </div>\n",
              "</body>\n",
              "</html>"
            ]
          },
          "metadata": {},
          "output_type": "display_data"
        },
        {
          "data": {
            "text/html": [
              "<html>\n",
              "<head><meta charset=\"utf-8\" /></head>\n",
              "<body>\n",
              "    <div>            <script src=\"https://cdnjs.cloudflare.com/ajax/libs/mathjax/2.7.5/MathJax.js?config=TeX-AMS-MML_SVG\"></script><script type=\"text/javascript\">if (window.MathJax) {MathJax.Hub.Config({SVG: {font: \"STIX-Web\"}});}</script>                <script type=\"text/javascript\">window.PlotlyConfig = {MathJaxConfig: 'local'};</script>\n",
              "        <script src=\"https://cdn.plot.ly/plotly-2.8.3.min.js\"></script>                <div id=\"69490d77-ffbd-4432-b84e-5ab0cb4a847c\" class=\"plotly-graph-div\" style=\"height:525px; width:100%;\"></div>            <script type=\"text/javascript\">                                    window.PLOTLYENV=window.PLOTLYENV || {};                                    if (document.getElementById(\"69490d77-ffbd-4432-b84e-5ab0cb4a847c\")) {                    Plotly.newPlot(                        \"69490d77-ffbd-4432-b84e-5ab0cb4a847c\",                        [{\"hovertemplate\":\"variable=ABBV<br>Date=%{x}<br>value=%{y}<extra></extra>\",\"legendgroup\":\"ABBV\",\"line\":{\"color\":\"#636efa\",\"dash\":\"solid\"},\"marker\":{\"symbol\":\"circle\"},\"mode\":\"lines\",\"name\":\"ABBV\",\"orientation\":\"v\",\"showlegend\":true,\"x\":[\"2022-04-21T00:00:00\",\"2022-04-22T00:00:00\",\"2022-04-25T00:00:00\",\"2022-04-26T00:00:00\",\"2022-04-27T00:00:00\",\"2022-04-28T00:00:00\",\"2022-04-29T00:00:00\",\"2022-05-02T00:00:00\",\"2022-05-03T00:00:00\",\"2022-05-04T00:00:00\",\"2022-05-05T00:00:00\",\"2022-05-06T00:00:00\",\"2022-05-09T00:00:00\",\"2022-05-10T00:00:00\",\"2022-05-11T00:00:00\",\"2022-05-12T00:00:00\",\"2022-05-13T00:00:00\",\"2022-05-16T00:00:00\",\"2022-05-17T00:00:00\",\"2022-05-18T00:00:00\",\"2022-05-19T00:00:00\",\"2022-05-20T00:00:00\",\"2022-05-23T00:00:00\",\"2022-05-24T00:00:00\",\"2022-05-25T00:00:00\",\"2022-05-26T00:00:00\",\"2022-05-27T00:00:00\",\"2022-05-31T00:00:00\",\"2022-06-01T00:00:00\",\"2022-06-02T00:00:00\",\"2022-06-03T00:00:00\",\"2022-06-06T00:00:00\",\"2022-06-07T00:00:00\",\"2022-06-08T00:00:00\",\"2022-06-09T00:00:00\",\"2022-06-10T00:00:00\",\"2022-06-13T00:00:00\",\"2022-06-14T00:00:00\",\"2022-06-15T00:00:00\",\"2022-06-16T00:00:00\",\"2022-06-17T00:00:00\",\"2022-06-21T00:00:00\",\"2022-06-22T00:00:00\",\"2022-06-23T00:00:00\",\"2022-06-24T00:00:00\",\"2022-06-27T00:00:00\",\"2022-06-28T00:00:00\",\"2022-06-29T00:00:00\",\"2022-06-30T00:00:00\",\"2022-07-01T00:00:00\",\"2022-07-05T00:00:00\",\"2022-07-06T00:00:00\",\"2022-07-07T00:00:00\",\"2022-07-08T00:00:00\",\"2022-07-11T00:00:00\",\"2022-07-12T00:00:00\",\"2022-07-13T00:00:00\",\"2022-07-14T00:00:00\",\"2022-07-15T00:00:00\",\"2022-07-18T00:00:00\",\"2022-07-19T00:00:00\",\"2022-07-20T00:00:00\",\"2022-07-21T00:00:00\",\"2022-07-22T00:00:00\",\"2022-07-25T00:00:00\",\"2022-07-26T00:00:00\",\"2022-07-27T00:00:00\",\"2022-07-28T00:00:00\",\"2022-07-29T00:00:00\",\"2022-08-01T00:00:00\",\"2022-08-02T00:00:00\",\"2022-08-03T00:00:00\",\"2022-08-04T00:00:00\",\"2022-08-05T00:00:00\",\"2022-08-08T00:00:00\",\"2022-08-09T00:00:00\",\"2022-08-10T00:00:00\",\"2022-08-11T00:00:00\",\"2022-08-12T00:00:00\",\"2022-08-15T00:00:00\",\"2022-08-16T00:00:00\",\"2022-08-17T00:00:00\",\"2022-08-18T00:00:00\",\"2022-08-19T00:00:00\",\"2022-08-22T00:00:00\",\"2022-08-23T00:00:00\",\"2022-08-24T00:00:00\",\"2022-08-25T00:00:00\",\"2022-08-26T00:00:00\",\"2022-08-29T00:00:00\",\"2022-08-30T00:00:00\",\"2022-08-31T00:00:00\",\"2022-09-01T00:00:00\",\"2022-09-02T00:00:00\",\"2022-09-06T00:00:00\",\"2022-09-07T00:00:00\",\"2022-09-08T00:00:00\",\"2022-09-09T00:00:00\",\"2022-09-12T00:00:00\",\"2022-09-13T00:00:00\",\"2022-09-14T00:00:00\",\"2022-09-15T00:00:00\",\"2022-09-16T00:00:00\",\"2022-09-19T00:00:00\",\"2022-09-20T00:00:00\",\"2022-09-21T00:00:00\",\"2022-09-22T00:00:00\",\"2022-09-23T00:00:00\",\"2022-09-26T00:00:00\",\"2022-09-27T00:00:00\",\"2022-09-28T00:00:00\",\"2022-09-29T00:00:00\",\"2022-09-30T00:00:00\",\"2022-10-03T00:00:00\",\"2022-10-04T00:00:00\",\"2022-10-05T00:00:00\",\"2022-10-06T00:00:00\",\"2022-10-07T00:00:00\",\"2022-10-10T00:00:00\",\"2022-10-11T00:00:00\",\"2022-10-12T00:00:00\",\"2022-10-13T00:00:00\",\"2022-10-14T00:00:00\",\"2022-10-17T00:00:00\",\"2022-10-18T00:00:00\",\"2022-10-19T00:00:00\",\"2022-10-20T00:00:00\",\"2022-10-21T00:00:00\"],\"xaxis\":\"x\",\"y\":[null,0.9777315248286924,0.9859954506632019,0.9852383829572846,0.9943224253657821,0.9860584995312726,0.9265707855417298,0.9328159925042115,0.9437295109227111,0.956283069973559,0.96000497460382,0.9641054612159463,0.9523088736132019,0.9594372460177424,0.9586172257015682,0.9733156013605853,0.968332045564214,0.9807595068789206,0.9764067285366976,0.9615820626259115,0.9571031865475473,0.9526242142113692,0.9338253519402258,0.9406383837465989,0.9586172257015683,0.9498486201490518,0.9462528132549324,0.9296618164600288,0.9211455988954227,0.9257506689677423,0.9284001652939184,0.9243628238076766,0.940827626608625,0.9415215491886577,0.9174235980073481,0.9033559998024793,0.8795104366090801,0.8681553835984581,0.8711203167806153,0.8778071545930333,0.8723189190786551,0.9050592818185259,0.9308604187580685,0.942783200354768,0.9610143340398339,0.9660610349620896,0.9619606446077772,0.972369387050456,0.9661872289560449,0.9702245704422867,0.971044590758461,0.9622129363378739,0.9588695174316649,0.9642316552099018,0.9666287635481675,0.9617714017457516,0.9598157317417945,0.949028503575064,0.9690890170123179,0.9435402680606858,0.9446126763647703,0.9316805353320569,0.9320590210561086,0.9366010422603573,0.9476406584149982,0.9517410487693108,0.9535073796534281,0.9446757252328409,0.9053115735486227,0.8845571375313359,0.8856295458354204,0.8907392956257469,0.8763562605648971,0.8708048799246345,0.8853141089794395,0.884746380393362,0.8890991587355849,0.8962906762660098,0.8995710463041481,0.897615376300191,0.899255609448167,0.892253334779768,0.8913070242118247,0.8948397822378734,0.8853141089794396,0.8769871342768594,0.8699848596084604,0.8789427080230027,0.8601438457518592,0.8561065042656174,0.8550971448296034,0.8482210641551596,0.8733913273827401,0.859702214901923,0.8679661407364325,0.8750315605307161,0.8864496624094088,0.8921271407858128,0.8973000357020237,0.8738960071007469,0.8803305531830682,0.8990032214602565,0.9087811864487868,0.8999495320281996,0.8943351025198663,0.8851248661174135,0.9021573975044396,0.9024728343604207,0.8908024407516315,0.8940196656638854,0.9121877504808805,0.9003280177522517,0.8466439761330682,0.8725713070665659,0.8957229476799323,0.9041761163764677,0.8849986721234586,0.8753469011288835,0.8725081619406815,0.8926948693718905,0.8830430983773152,0.9015896689183621,0.9017158629123174,0.9109891481828409,0.9121877504808807,0.9029144652103573,0.9016527177864331,0.92751699985186],\"yaxis\":\"y\",\"type\":\"scatter\"},{\"hovertemplate\":\"variable=AMZN<br>Date=%{x}<br>value=%{y}<extra></extra>\",\"legendgroup\":\"AMZN\",\"line\":{\"color\":\"#EF553B\",\"dash\":\"solid\"},\"marker\":{\"symbol\":\"circle\"},\"mode\":\"lines\",\"name\":\"AMZN\",\"orientation\":\"v\",\"showlegend\":true,\"x\":[\"2022-04-21T00:00:00\",\"2022-04-22T00:00:00\",\"2022-04-25T00:00:00\",\"2022-04-26T00:00:00\",\"2022-04-27T00:00:00\",\"2022-04-28T00:00:00\",\"2022-04-29T00:00:00\",\"2022-05-02T00:00:00\",\"2022-05-03T00:00:00\",\"2022-05-04T00:00:00\",\"2022-05-05T00:00:00\",\"2022-05-06T00:00:00\",\"2022-05-09T00:00:00\",\"2022-05-10T00:00:00\",\"2022-05-11T00:00:00\",\"2022-05-12T00:00:00\",\"2022-05-13T00:00:00\",\"2022-05-16T00:00:00\",\"2022-05-17T00:00:00\",\"2022-05-18T00:00:00\",\"2022-05-19T00:00:00\",\"2022-05-20T00:00:00\",\"2022-05-23T00:00:00\",\"2022-05-24T00:00:00\",\"2022-05-25T00:00:00\",\"2022-05-26T00:00:00\",\"2022-05-27T00:00:00\",\"2022-05-31T00:00:00\",\"2022-06-01T00:00:00\",\"2022-06-02T00:00:00\",\"2022-06-03T00:00:00\",\"2022-06-06T00:00:00\",\"2022-06-07T00:00:00\",\"2022-06-08T00:00:00\",\"2022-06-09T00:00:00\",\"2022-06-10T00:00:00\",\"2022-06-13T00:00:00\",\"2022-06-14T00:00:00\",\"2022-06-15T00:00:00\",\"2022-06-16T00:00:00\",\"2022-06-17T00:00:00\",\"2022-06-21T00:00:00\",\"2022-06-22T00:00:00\",\"2022-06-23T00:00:00\",\"2022-06-24T00:00:00\",\"2022-06-27T00:00:00\",\"2022-06-28T00:00:00\",\"2022-06-29T00:00:00\",\"2022-06-30T00:00:00\",\"2022-07-01T00:00:00\",\"2022-07-05T00:00:00\",\"2022-07-06T00:00:00\",\"2022-07-07T00:00:00\",\"2022-07-08T00:00:00\",\"2022-07-11T00:00:00\",\"2022-07-12T00:00:00\",\"2022-07-13T00:00:00\",\"2022-07-14T00:00:00\",\"2022-07-15T00:00:00\",\"2022-07-18T00:00:00\",\"2022-07-19T00:00:00\",\"2022-07-20T00:00:00\",\"2022-07-21T00:00:00\",\"2022-07-22T00:00:00\",\"2022-07-25T00:00:00\",\"2022-07-26T00:00:00\",\"2022-07-27T00:00:00\",\"2022-07-28T00:00:00\",\"2022-07-29T00:00:00\",\"2022-08-01T00:00:00\",\"2022-08-02T00:00:00\",\"2022-08-03T00:00:00\",\"2022-08-04T00:00:00\",\"2022-08-05T00:00:00\",\"2022-08-08T00:00:00\",\"2022-08-09T00:00:00\",\"2022-08-10T00:00:00\",\"2022-08-11T00:00:00\",\"2022-08-12T00:00:00\",\"2022-08-15T00:00:00\",\"2022-08-16T00:00:00\",\"2022-08-17T00:00:00\",\"2022-08-18T00:00:00\",\"2022-08-19T00:00:00\",\"2022-08-22T00:00:00\",\"2022-08-23T00:00:00\",\"2022-08-24T00:00:00\",\"2022-08-25T00:00:00\",\"2022-08-26T00:00:00\",\"2022-08-29T00:00:00\",\"2022-08-30T00:00:00\",\"2022-08-31T00:00:00\",\"2022-09-01T00:00:00\",\"2022-09-02T00:00:00\",\"2022-09-06T00:00:00\",\"2022-09-07T00:00:00\",\"2022-09-08T00:00:00\",\"2022-09-09T00:00:00\",\"2022-09-12T00:00:00\",\"2022-09-13T00:00:00\",\"2022-09-14T00:00:00\",\"2022-09-15T00:00:00\",\"2022-09-16T00:00:00\",\"2022-09-19T00:00:00\",\"2022-09-20T00:00:00\",\"2022-09-21T00:00:00\",\"2022-09-22T00:00:00\",\"2022-09-23T00:00:00\",\"2022-09-26T00:00:00\",\"2022-09-27T00:00:00\",\"2022-09-28T00:00:00\",\"2022-09-29T00:00:00\",\"2022-09-30T00:00:00\",\"2022-10-03T00:00:00\",\"2022-10-04T00:00:00\",\"2022-10-05T00:00:00\",\"2022-10-06T00:00:00\",\"2022-10-07T00:00:00\",\"2022-10-10T00:00:00\",\"2022-10-11T00:00:00\",\"2022-10-12T00:00:00\",\"2022-10-13T00:00:00\",\"2022-10-14T00:00:00\",\"2022-10-17T00:00:00\",\"2022-10-18T00:00:00\",\"2022-10-19T00:00:00\",\"2022-10-20T00:00:00\",\"2022-10-21T00:00:00\"],\"xaxis\":\"x\",\"y\":[null,0.9733910624302956,0.985016453286526,0.9399511890806274,0.9316974332132181,0.9750532142738446,0.8380637196620503,0.8395371122164456,0.8378749089258294,0.8491698552701397,0.7849638126474793,0.7739419473352835,0.7335936074755468,0.7340656343160991,0.7105518551966733,0.7210612048265168,0.762360389380214,0.7472251252658912,0.7779609407693003,0.7222885260590198,0.7236809923768822,0.7255151832127807,0.7252858836347599,0.7019743943831326,0.7200126621521521,0.7490255668257786,0.7764639340111106,0.8106051337793518,0.8205480512005326,0.8463545688648317,0.8250390714751016,0.8414926666836099,0.8294222072499824,0.8171494579485564,0.7832308181925473,0.7393995633378734,0.699074786234864,0.6899039349495053,0.7260478661454325,0.6990073905769758,0.7162701452566782,0.7328585832280299,0.7346792434852838,0.7582132927491431,0.785321215422555,0.7634730351001733,0.7242272058881787,0.7344769536174852,0.7162026981517231,0.7387926422874108,0.7653611424623824,0.7709580688911215,0.7844446088464058,0.7791174193904205,0.7535604200015087,0.7364999551896048,0.7444570158211052,0.7460079391056054,0.7656983265400914,0.7671144070617482,0.7971219378834289,0.8278712325184157,0.8404137187925954,0.8255110983156543,0.8168797209758031,0.7741948096700323,0.8157333774269001,0.8245670446345498,0.9100042629039795,0.9129713181572034,0.9046771248950611,0.9408210560909883,0.9613880501016235,0.9494524334308394,0.9400792922776822,0.9294249133657115,0.9621972095728177,0.9483734855398245,0.9679964258693553,0.9655013460096165,0.9762906191314976,0.958218704980601,0.9595673383973026,0.9321221801991146,0.8983384346530159,0.901035701486419,0.9022495435873443,0.9257160942991813,0.8816825495767089,0.8752089651247534,0.8680611154115142,0.8548443124289837,0.8619247664843347,0.8598343692543271,0.8503937809962148,0.8731185678947458,0.8754113578866861,0.8986756187307247,0.9201191678704423,0.8551814965066927,0.8668473762047232,0.851540124545118,0.8329961321066022,0.8406160601074607,0.8239601750311538,0.7993472293233466,0.7910529846141372,0.7672492498245912,0.7764875482149051,0.7714975428366286,0.7957733044667269,0.7741274140121437,0.761989507473561,0.7814101064882262,0.8165425368980938,0.8155984832169892,0.8112153988891756,0.7725089921756214,0.7665074860112853,0.7566623180175758,0.7613151907652104,0.7588201623525386,0.7208555708993576,0.7673166969295465,0.7846468987142041,0.7759480742693977,0.777161864923256,0.80241542951047],\"yaxis\":\"y\",\"type\":\"scatter\"},{\"hovertemplate\":\"variable=PLD<br>Date=%{x}<br>value=%{y}<extra></extra>\",\"legendgroup\":\"PLD\",\"line\":{\"color\":\"#00cc96\",\"dash\":\"solid\"},\"marker\":{\"symbol\":\"circle\"},\"mode\":\"lines\",\"name\":\"PLD\",\"orientation\":\"v\",\"showlegend\":true,\"x\":[\"2022-04-21T00:00:00\",\"2022-04-22T00:00:00\",\"2022-04-25T00:00:00\",\"2022-04-26T00:00:00\",\"2022-04-27T00:00:00\",\"2022-04-28T00:00:00\",\"2022-04-29T00:00:00\",\"2022-05-02T00:00:00\",\"2022-05-03T00:00:00\",\"2022-05-04T00:00:00\",\"2022-05-05T00:00:00\",\"2022-05-06T00:00:00\",\"2022-05-09T00:00:00\",\"2022-05-10T00:00:00\",\"2022-05-11T00:00:00\",\"2022-05-12T00:00:00\",\"2022-05-13T00:00:00\",\"2022-05-16T00:00:00\",\"2022-05-17T00:00:00\",\"2022-05-18T00:00:00\",\"2022-05-19T00:00:00\",\"2022-05-20T00:00:00\",\"2022-05-23T00:00:00\",\"2022-05-24T00:00:00\",\"2022-05-25T00:00:00\",\"2022-05-26T00:00:00\",\"2022-05-27T00:00:00\",\"2022-05-31T00:00:00\",\"2022-06-01T00:00:00\",\"2022-06-02T00:00:00\",\"2022-06-03T00:00:00\",\"2022-06-06T00:00:00\",\"2022-06-07T00:00:00\",\"2022-06-08T00:00:00\",\"2022-06-09T00:00:00\",\"2022-06-10T00:00:00\",\"2022-06-13T00:00:00\",\"2022-06-14T00:00:00\",\"2022-06-15T00:00:00\",\"2022-06-16T00:00:00\",\"2022-06-17T00:00:00\",\"2022-06-21T00:00:00\",\"2022-06-22T00:00:00\",\"2022-06-23T00:00:00\",\"2022-06-24T00:00:00\",\"2022-06-27T00:00:00\",\"2022-06-28T00:00:00\",\"2022-06-29T00:00:00\",\"2022-06-30T00:00:00\",\"2022-07-01T00:00:00\",\"2022-07-05T00:00:00\",\"2022-07-06T00:00:00\",\"2022-07-07T00:00:00\",\"2022-07-08T00:00:00\",\"2022-07-11T00:00:00\",\"2022-07-12T00:00:00\",\"2022-07-13T00:00:00\",\"2022-07-14T00:00:00\",\"2022-07-15T00:00:00\",\"2022-07-18T00:00:00\",\"2022-07-19T00:00:00\",\"2022-07-20T00:00:00\",\"2022-07-21T00:00:00\",\"2022-07-22T00:00:00\",\"2022-07-25T00:00:00\",\"2022-07-26T00:00:00\",\"2022-07-27T00:00:00\",\"2022-07-28T00:00:00\",\"2022-07-29T00:00:00\",\"2022-08-01T00:00:00\",\"2022-08-02T00:00:00\",\"2022-08-03T00:00:00\",\"2022-08-04T00:00:00\",\"2022-08-05T00:00:00\",\"2022-08-08T00:00:00\",\"2022-08-09T00:00:00\",\"2022-08-10T00:00:00\",\"2022-08-11T00:00:00\",\"2022-08-12T00:00:00\",\"2022-08-15T00:00:00\",\"2022-08-16T00:00:00\",\"2022-08-17T00:00:00\",\"2022-08-18T00:00:00\",\"2022-08-19T00:00:00\",\"2022-08-22T00:00:00\",\"2022-08-23T00:00:00\",\"2022-08-24T00:00:00\",\"2022-08-25T00:00:00\",\"2022-08-26T00:00:00\",\"2022-08-29T00:00:00\",\"2022-08-30T00:00:00\",\"2022-08-31T00:00:00\",\"2022-09-01T00:00:00\",\"2022-09-02T00:00:00\",\"2022-09-06T00:00:00\",\"2022-09-07T00:00:00\",\"2022-09-08T00:00:00\",\"2022-09-09T00:00:00\",\"2022-09-12T00:00:00\",\"2022-09-13T00:00:00\",\"2022-09-14T00:00:00\",\"2022-09-15T00:00:00\",\"2022-09-16T00:00:00\",\"2022-09-19T00:00:00\",\"2022-09-20T00:00:00\",\"2022-09-21T00:00:00\",\"2022-09-22T00:00:00\",\"2022-09-23T00:00:00\",\"2022-09-26T00:00:00\",\"2022-09-27T00:00:00\",\"2022-09-28T00:00:00\",\"2022-09-29T00:00:00\",\"2022-09-30T00:00:00\",\"2022-10-03T00:00:00\",\"2022-10-04T00:00:00\",\"2022-10-05T00:00:00\",\"2022-10-06T00:00:00\",\"2022-10-07T00:00:00\",\"2022-10-10T00:00:00\",\"2022-10-11T00:00:00\",\"2022-10-12T00:00:00\",\"2022-10-13T00:00:00\",\"2022-10-14T00:00:00\",\"2022-10-17T00:00:00\",\"2022-10-18T00:00:00\",\"2022-10-19T00:00:00\",\"2022-10-20T00:00:00\",\"2022-10-21T00:00:00\"],\"xaxis\":\"x\",\"y\":[null,0.9879962345332542,0.9821407479004646,0.9698442795801876,0.9817894329981187,1.0130577101737828,0.938575913056888,0.8966506966703173,0.8921419469457313,0.8916734972933918,0.8489284270045006,0.8249209854186444,0.7750907369911182,0.7343366000615783,0.7245579034327182,0.7256704601885698,0.7515517450576014,0.7333997007568994,0.7372057760029762,0.699906310069532,0.7010188668253836,0.7010188668253836,0.7054690491749727,0.7031268455870933,0.7028340533859266,0.7164773479620427,0.7451692413974753,0.7464574556044998,0.7369715511768062,0.7585196990986071,0.7470429953330152,0.7487410918173824,0.7593394636532922,0.7305890475166804,0.7153647912061909,0.6864972403195854,0.6349104173803306,0.6479681722279312,0.6739079351243243,0.6545848560404093,0.6462115083685674,0.6579224816341467,0.676074481261031,0.6923527269523753,0.7178240848702466,0.7038880427667817,0.6965686844757947,0.6927626092297179,0.6888980112824619,0.7028340533859267,0.7110317436065957,0.7112074010577686,0.7177069947940705,0.7119100755362777,0.7130811549933086,0.7079869102140249,0.7071085782843429,0.6917086198488629,0.7085724499425403,0.6979739887589951,0.7325799362022142,0.7294179680596496,0.7359175617959515,0.7430612626357657,0.7466331130556727,0.7471015180341944,0.7459304385771636,0.7752663944422908,0.7762032937469697,0.7669516141454459,0.7575242770927492,0.7654292197860693,0.7656048772372421,0.7693523851083222,0.7683569631024642,0.7781941377586857,0.7870359797566847,0.7859819457020122,0.8036070176491955,0.8102822688366702,0.8028457757956895,0.8044853049050598,0.8000351672292884,0.7851036584461478,0.7667174339930939,0.7521958521611136,0.7677713787001312,0.7774915079539945,0.7515517450576015,0.7453448988486484,0.7357419043447788,0.7290666531573041,0.7278370063252765,0.7137252620968211,0.7249092630088818,0.741480256227575,0.7489753166435527,0.7590467607997617,0.7623843417196814,0.7324042787510419,0.7089823322198834,0.6805246636106204,0.6655931548274798,0.6604989100481962,0.6495491339623053,0.6356130918588404,0.6355545244838435,0.6359058393861893,0.6099075091147994,0.5988991656539115,0.608560727532778,0.5925167066676034,0.594917432956662,0.6110785885718304,0.6206230157007031,0.6174025248569595,0.596791186892202,0.5876566420406718,0.5791076369176571,0.5892376037750453,0.5880665243180144,0.6003044699371123,0.5827965774137402,0.6161728780249317,0.619803251146018,0.5973182039195383,0.5999531550347665,0.6003923433365164],\"yaxis\":\"y\",\"type\":\"scatter\"},{\"hovertemplate\":\"variable=PRU<br>Date=%{x}<br>value=%{y}<extra></extra>\",\"legendgroup\":\"PRU\",\"line\":{\"color\":\"#ab63fa\",\"dash\":\"solid\"},\"marker\":{\"symbol\":\"circle\"},\"mode\":\"lines\",\"name\":\"PRU\",\"orientation\":\"v\",\"showlegend\":true,\"x\":[\"2022-04-21T00:00:00\",\"2022-04-22T00:00:00\",\"2022-04-25T00:00:00\",\"2022-04-26T00:00:00\",\"2022-04-27T00:00:00\",\"2022-04-28T00:00:00\",\"2022-04-29T00:00:00\",\"2022-05-02T00:00:00\",\"2022-05-03T00:00:00\",\"2022-05-04T00:00:00\",\"2022-05-05T00:00:00\",\"2022-05-06T00:00:00\",\"2022-05-09T00:00:00\",\"2022-05-10T00:00:00\",\"2022-05-11T00:00:00\",\"2022-05-12T00:00:00\",\"2022-05-13T00:00:00\",\"2022-05-16T00:00:00\",\"2022-05-17T00:00:00\",\"2022-05-18T00:00:00\",\"2022-05-19T00:00:00\",\"2022-05-20T00:00:00\",\"2022-05-23T00:00:00\",\"2022-05-24T00:00:00\",\"2022-05-25T00:00:00\",\"2022-05-26T00:00:00\",\"2022-05-27T00:00:00\",\"2022-05-31T00:00:00\",\"2022-06-01T00:00:00\",\"2022-06-02T00:00:00\",\"2022-06-03T00:00:00\",\"2022-06-06T00:00:00\",\"2022-06-07T00:00:00\",\"2022-06-08T00:00:00\",\"2022-06-09T00:00:00\",\"2022-06-10T00:00:00\",\"2022-06-13T00:00:00\",\"2022-06-14T00:00:00\",\"2022-06-15T00:00:00\",\"2022-06-16T00:00:00\",\"2022-06-17T00:00:00\",\"2022-06-21T00:00:00\",\"2022-06-22T00:00:00\",\"2022-06-23T00:00:00\",\"2022-06-24T00:00:00\",\"2022-06-27T00:00:00\",\"2022-06-28T00:00:00\",\"2022-06-29T00:00:00\",\"2022-06-30T00:00:00\",\"2022-07-01T00:00:00\",\"2022-07-05T00:00:00\",\"2022-07-06T00:00:00\",\"2022-07-07T00:00:00\",\"2022-07-08T00:00:00\",\"2022-07-11T00:00:00\",\"2022-07-12T00:00:00\",\"2022-07-13T00:00:00\",\"2022-07-14T00:00:00\",\"2022-07-15T00:00:00\",\"2022-07-18T00:00:00\",\"2022-07-19T00:00:00\",\"2022-07-20T00:00:00\",\"2022-07-21T00:00:00\",\"2022-07-22T00:00:00\",\"2022-07-25T00:00:00\",\"2022-07-26T00:00:00\",\"2022-07-27T00:00:00\",\"2022-07-28T00:00:00\",\"2022-07-29T00:00:00\",\"2022-08-01T00:00:00\",\"2022-08-02T00:00:00\",\"2022-08-03T00:00:00\",\"2022-08-04T00:00:00\",\"2022-08-05T00:00:00\",\"2022-08-08T00:00:00\",\"2022-08-09T00:00:00\",\"2022-08-10T00:00:00\",\"2022-08-11T00:00:00\",\"2022-08-12T00:00:00\",\"2022-08-15T00:00:00\",\"2022-08-16T00:00:00\",\"2022-08-17T00:00:00\",\"2022-08-18T00:00:00\",\"2022-08-19T00:00:00\",\"2022-08-22T00:00:00\",\"2022-08-23T00:00:00\",\"2022-08-24T00:00:00\",\"2022-08-25T00:00:00\",\"2022-08-26T00:00:00\",\"2022-08-29T00:00:00\",\"2022-08-30T00:00:00\",\"2022-08-31T00:00:00\",\"2022-09-01T00:00:00\",\"2022-09-02T00:00:00\",\"2022-09-06T00:00:00\",\"2022-09-07T00:00:00\",\"2022-09-08T00:00:00\",\"2022-09-09T00:00:00\",\"2022-09-12T00:00:00\",\"2022-09-13T00:00:00\",\"2022-09-14T00:00:00\",\"2022-09-15T00:00:00\",\"2022-09-16T00:00:00\",\"2022-09-19T00:00:00\",\"2022-09-20T00:00:00\",\"2022-09-21T00:00:00\",\"2022-09-22T00:00:00\",\"2022-09-23T00:00:00\",\"2022-09-26T00:00:00\",\"2022-09-27T00:00:00\",\"2022-09-28T00:00:00\",\"2022-09-29T00:00:00\",\"2022-09-30T00:00:00\",\"2022-10-03T00:00:00\",\"2022-10-04T00:00:00\",\"2022-10-05T00:00:00\",\"2022-10-06T00:00:00\",\"2022-10-07T00:00:00\",\"2022-10-10T00:00:00\",\"2022-10-11T00:00:00\",\"2022-10-12T00:00:00\",\"2022-10-13T00:00:00\",\"2022-10-14T00:00:00\",\"2022-10-17T00:00:00\",\"2022-10-18T00:00:00\",\"2022-10-19T00:00:00\",\"2022-10-20T00:00:00\",\"2022-10-21T00:00:00\"],\"xaxis\":\"x\",\"y\":[null,0.9663774507026923,0.9510261745645687,0.9209911465669952,0.9243283860450697,0.9354246802573343,0.905306203768358,0.9044719098119766,0.9154847555328386,0.9308359680184134,0.8988820066338686,0.8900383761216375,0.8769397636835475,0.8697647210840793,0.8597530663024043,0.8356416081434525,0.844234956834024,0.8429000355817747,0.8673452240537889,0.8475721326595499,0.8308026140828718,0.823460674500598,0.8459869932381897,0.8417320113123309,0.8523277418812765,0.8723510514446263,0.88661768815216,0.8864508548219032,0.8786918000877131,0.8822793213874472,0.8673452240537889,0.8787752485791159,0.8861171245088408,0.8767728667007417,0.8557483661982048,0.8208743441400506,0.7863340523949587,0.7854163099471745,0.7913398797857961,0.7619723124143472,0.7628900548621314,0.783413991721349,0.7773235248999217,0.7716502368829595,0.8126981742539436,0.8088603074800013,0.8149507743014284,0.8036876467589069,0.7982646405636044,0.8127815590927976,0.7953445798899949,0.7910895979641361,0.8059402468063916,0.8035207497761012,0.8017687133719356,0.8011012527458109,0.7784081643305111,0.7545469879932188,0.7703153792832586,0.7730686066266113,0.7940096586377453,0.7994326648330479,0.8015184315502759,0.7968463344725009,0.8081929105064252,0.8013515982200192,0.814617043988366,0.8184548471097597,0.8342232383997995,0.8313866262175927,0.8175371046619754,0.8076922832105572,0.800517240611089,0.8051894013414128,0.8117804318061592,0.8224595472139589,0.8480727599554168,0.8592524390065356,0.8801101061788157,0.8745202666532563,0.8775237758182686,0.8724344999360283,0.8795260940440938,0.862673126976013,0.8268813624700746,0.828716847365643,0.8301351534567463,0.8458200962553833,0.821958919918091,0.8174537198231214,0.8095277681061257,0.7988486526983262,0.7923410707249826,0.791673610098858,0.7857500402602363,0.7990989345199858,0.8088603074800013,0.8216252532575775,0.832304368665377,0.7991823830113886,0.7849157463038549,0.7720674156874245,0.7668946913137815,0.7878358069774645,0.7760720521390752,0.7664775761618653,0.7590522517407375,0.7398631724812204,0.728683429777553,0.7273485721778524,0.7368596633162082,0.7200066962481273,0.7156682658308657,0.7441181544070792,0.7862506039035556,0.7821625189605024,0.7754880400043532,0.7598865456971189,0.7604705578318408,0.757884163818745,0.7524612212759911,0.7934256465030237,0.7898381252032896,0.8000166769677701,0.8121140984666732,0.8044384922238857,0.7942599404594053,0.8158685167492128],\"yaxis\":\"y\",\"type\":\"scatter\"},{\"hovertemplate\":\"variable=STOR<br>Date=%{x}<br>value=%{y}<extra></extra>\",\"legendgroup\":\"STOR\",\"line\":{\"color\":\"#FFA15A\",\"dash\":\"solid\"},\"marker\":{\"symbol\":\"circle\"},\"mode\":\"lines\",\"name\":\"STOR\",\"orientation\":\"v\",\"showlegend\":true,\"x\":[\"2022-04-21T00:00:00\",\"2022-04-22T00:00:00\",\"2022-04-25T00:00:00\",\"2022-04-26T00:00:00\",\"2022-04-27T00:00:00\",\"2022-04-28T00:00:00\",\"2022-04-29T00:00:00\",\"2022-05-02T00:00:00\",\"2022-05-03T00:00:00\",\"2022-05-04T00:00:00\",\"2022-05-05T00:00:00\",\"2022-05-06T00:00:00\",\"2022-05-09T00:00:00\",\"2022-05-10T00:00:00\",\"2022-05-11T00:00:00\",\"2022-05-12T00:00:00\",\"2022-05-13T00:00:00\",\"2022-05-16T00:00:00\",\"2022-05-17T00:00:00\",\"2022-05-18T00:00:00\",\"2022-05-19T00:00:00\",\"2022-05-20T00:00:00\",\"2022-05-23T00:00:00\",\"2022-05-24T00:00:00\",\"2022-05-25T00:00:00\",\"2022-05-26T00:00:00\",\"2022-05-27T00:00:00\",\"2022-05-31T00:00:00\",\"2022-06-01T00:00:00\",\"2022-06-02T00:00:00\",\"2022-06-03T00:00:00\",\"2022-06-06T00:00:00\",\"2022-06-07T00:00:00\",\"2022-06-08T00:00:00\",\"2022-06-09T00:00:00\",\"2022-06-10T00:00:00\",\"2022-06-13T00:00:00\",\"2022-06-14T00:00:00\",\"2022-06-15T00:00:00\",\"2022-06-16T00:00:00\",\"2022-06-17T00:00:00\",\"2022-06-21T00:00:00\",\"2022-06-22T00:00:00\",\"2022-06-23T00:00:00\",\"2022-06-24T00:00:00\",\"2022-06-27T00:00:00\",\"2022-06-28T00:00:00\",\"2022-06-29T00:00:00\",\"2022-06-30T00:00:00\",\"2022-07-01T00:00:00\",\"2022-07-05T00:00:00\",\"2022-07-06T00:00:00\",\"2022-07-07T00:00:00\",\"2022-07-08T00:00:00\",\"2022-07-11T00:00:00\",\"2022-07-12T00:00:00\",\"2022-07-13T00:00:00\",\"2022-07-14T00:00:00\",\"2022-07-15T00:00:00\",\"2022-07-18T00:00:00\",\"2022-07-19T00:00:00\",\"2022-07-20T00:00:00\",\"2022-07-21T00:00:00\",\"2022-07-22T00:00:00\",\"2022-07-25T00:00:00\",\"2022-07-26T00:00:00\",\"2022-07-27T00:00:00\",\"2022-07-28T00:00:00\",\"2022-07-29T00:00:00\",\"2022-08-01T00:00:00\",\"2022-08-02T00:00:00\",\"2022-08-03T00:00:00\",\"2022-08-04T00:00:00\",\"2022-08-05T00:00:00\",\"2022-08-08T00:00:00\",\"2022-08-09T00:00:00\",\"2022-08-10T00:00:00\",\"2022-08-11T00:00:00\",\"2022-08-12T00:00:00\",\"2022-08-15T00:00:00\",\"2022-08-16T00:00:00\",\"2022-08-17T00:00:00\",\"2022-08-18T00:00:00\",\"2022-08-19T00:00:00\",\"2022-08-22T00:00:00\",\"2022-08-23T00:00:00\",\"2022-08-24T00:00:00\",\"2022-08-25T00:00:00\",\"2022-08-26T00:00:00\",\"2022-08-29T00:00:00\",\"2022-08-30T00:00:00\",\"2022-08-31T00:00:00\",\"2022-09-01T00:00:00\",\"2022-09-02T00:00:00\",\"2022-09-06T00:00:00\",\"2022-09-07T00:00:00\",\"2022-09-08T00:00:00\",\"2022-09-09T00:00:00\",\"2022-09-12T00:00:00\",\"2022-09-13T00:00:00\",\"2022-09-14T00:00:00\",\"2022-09-15T00:00:00\",\"2022-09-16T00:00:00\",\"2022-09-19T00:00:00\",\"2022-09-20T00:00:00\",\"2022-09-21T00:00:00\",\"2022-09-22T00:00:00\",\"2022-09-23T00:00:00\",\"2022-09-26T00:00:00\",\"2022-09-27T00:00:00\",\"2022-09-28T00:00:00\",\"2022-09-29T00:00:00\",\"2022-09-30T00:00:00\",\"2022-10-03T00:00:00\",\"2022-10-04T00:00:00\",\"2022-10-05T00:00:00\",\"2022-10-06T00:00:00\",\"2022-10-07T00:00:00\",\"2022-10-10T00:00:00\",\"2022-10-11T00:00:00\",\"2022-10-12T00:00:00\",\"2022-10-13T00:00:00\",\"2022-10-14T00:00:00\",\"2022-10-17T00:00:00\",\"2022-10-18T00:00:00\",\"2022-10-19T00:00:00\",\"2022-10-20T00:00:00\",\"2022-10-21T00:00:00\"],\"xaxis\":\"x\",\"y\":[null,0.9805344716930516,0.9808644033676818,0.9745958903338073,0.9650280605536319,0.9874629110042187,0.9379742925142889,0.9072913389820472,0.9208182230017187,0.9323655799016421,0.9155394420637021,0.8957439820821236,0.8756186533539476,0.8644012281286542,0.8637413647793939,0.8729791999569066,0.9033322218145182,0.9023424897186605,0.9072913389820471,0.8772682487990655,0.8591224471906376,0.8614319059850157,0.8611019743103856,0.8759485221005451,0.8881557423497288,0.8822170980624521,0.9003629625989126,0.9102606611256855,0.9076212706566772,0.9165292370875923,0.8987133042257619,0.9066314756327868,0.9191686275566006,0.9102606611256854,0.8792477759188136,0.8706697411625285,0.8208511909979685,0.8178819317823627,0.847575090290714,0.8281095619837656,0.8419663776780674,0.8508743441089825,0.857142857142857,0.8713296045117888,0.8911250644933673,0.8980534408765019,0.8950841187328634,0.880237570942704,0.8604421109611256,0.8871659473258386,0.878258043822956,0.8808974342919644,0.8841966251822004,0.8861762152299811,0.887495879000469,0.8749587900046878,0.8686902140427809,0.8640712964540245,0.8861762152299811,0.879247775918814,0.8993731675750225,0.9006928313455105,0.9036621534891489,0.9092708661017956,0.9218080180256095,0.9224678184468371,0.9260970039397357,0.9515011765339609,0.9574398208212378,0.957769752495868,0.9465523272705747,0.9396238879594075,0.9218080180256097,0.9204882913270893,0.9277466623128864,0.9343451070213908,0.9455625322466842,0.9501814498354406,0.9640382655297423,0.9643681972043724,0.9640382655297424,0.9376443608396595,0.9363246341411392,0.9310458532031226,0.9129000515946947,0.9102606611256864,0.9105905928003166,0.9181788325327114,0.9023424897186616,0.9023424897186616,0.8954140504074944,0.8901352694694779,0.8858462835553516,0.8812273030385627,0.8832068930863434,0.9036621534891495,0.9010227630201412,0.9148795787144429,0.9353349020452817,0.8944243183116368,0.8838667564356036,1.059716248691334,1.0524579406335695,1.05410759900672,1.047839023044813,1.0458594959250649,1.0465192963462926,1.0419003787575363,1.039260988288528,1.0435499742026544,1.0524579406335697,1.0323326119053937,1.0336522756758817,1.034642070699772,1.0349720023744022,1.0386011249392684,1.0369515294941505,1.033322344001252,1.0336522756758821,1.0343121390251424,1.0329924123266219,1.0326624806519917,1.033322344001252,1.033322344001252,1.0362916661448904,1.0379412615900083,1.0405807149870492,1.0433850398293563],\"yaxis\":\"y\",\"type\":\"scatter\"},{\"hovertemplate\":\"variable=T<br>Date=%{x}<br>value=%{y}<extra></extra>\",\"legendgroup\":\"T\",\"line\":{\"color\":\"#19d3f3\",\"dash\":\"solid\"},\"marker\":{\"symbol\":\"circle\"},\"mode\":\"lines\",\"name\":\"T\",\"orientation\":\"v\",\"showlegend\":true,\"x\":[\"2022-04-21T00:00:00\",\"2022-04-22T00:00:00\",\"2022-04-25T00:00:00\",\"2022-04-26T00:00:00\",\"2022-04-27T00:00:00\",\"2022-04-28T00:00:00\",\"2022-04-29T00:00:00\",\"2022-05-02T00:00:00\",\"2022-05-03T00:00:00\",\"2022-05-04T00:00:00\",\"2022-05-05T00:00:00\",\"2022-05-06T00:00:00\",\"2022-05-09T00:00:00\",\"2022-05-10T00:00:00\",\"2022-05-11T00:00:00\",\"2022-05-12T00:00:00\",\"2022-05-13T00:00:00\",\"2022-05-16T00:00:00\",\"2022-05-17T00:00:00\",\"2022-05-18T00:00:00\",\"2022-05-19T00:00:00\",\"2022-05-20T00:00:00\",\"2022-05-23T00:00:00\",\"2022-05-24T00:00:00\",\"2022-05-25T00:00:00\",\"2022-05-26T00:00:00\",\"2022-05-27T00:00:00\",\"2022-05-31T00:00:00\",\"2022-06-01T00:00:00\",\"2022-06-02T00:00:00\",\"2022-06-03T00:00:00\",\"2022-06-06T00:00:00\",\"2022-06-07T00:00:00\",\"2022-06-08T00:00:00\",\"2022-06-09T00:00:00\",\"2022-06-10T00:00:00\",\"2022-06-13T00:00:00\",\"2022-06-14T00:00:00\",\"2022-06-15T00:00:00\",\"2022-06-16T00:00:00\",\"2022-06-17T00:00:00\",\"2022-06-21T00:00:00\",\"2022-06-22T00:00:00\",\"2022-06-23T00:00:00\",\"2022-06-24T00:00:00\",\"2022-06-27T00:00:00\",\"2022-06-28T00:00:00\",\"2022-06-29T00:00:00\",\"2022-06-30T00:00:00\",\"2022-07-01T00:00:00\",\"2022-07-05T00:00:00\",\"2022-07-06T00:00:00\",\"2022-07-07T00:00:00\",\"2022-07-08T00:00:00\",\"2022-07-11T00:00:00\",\"2022-07-12T00:00:00\",\"2022-07-13T00:00:00\",\"2022-07-14T00:00:00\",\"2022-07-15T00:00:00\",\"2022-07-18T00:00:00\",\"2022-07-19T00:00:00\",\"2022-07-20T00:00:00\",\"2022-07-21T00:00:00\",\"2022-07-22T00:00:00\",\"2022-07-25T00:00:00\",\"2022-07-26T00:00:00\",\"2022-07-27T00:00:00\",\"2022-07-28T00:00:00\",\"2022-07-29T00:00:00\",\"2022-08-01T00:00:00\",\"2022-08-02T00:00:00\",\"2022-08-03T00:00:00\",\"2022-08-04T00:00:00\",\"2022-08-05T00:00:00\",\"2022-08-08T00:00:00\",\"2022-08-09T00:00:00\",\"2022-08-10T00:00:00\",\"2022-08-11T00:00:00\",\"2022-08-12T00:00:00\",\"2022-08-15T00:00:00\",\"2022-08-16T00:00:00\",\"2022-08-17T00:00:00\",\"2022-08-18T00:00:00\",\"2022-08-19T00:00:00\",\"2022-08-22T00:00:00\",\"2022-08-23T00:00:00\",\"2022-08-24T00:00:00\",\"2022-08-25T00:00:00\",\"2022-08-26T00:00:00\",\"2022-08-29T00:00:00\",\"2022-08-30T00:00:00\",\"2022-08-31T00:00:00\",\"2022-09-01T00:00:00\",\"2022-09-02T00:00:00\",\"2022-09-06T00:00:00\",\"2022-09-07T00:00:00\",\"2022-09-08T00:00:00\",\"2022-09-09T00:00:00\",\"2022-09-12T00:00:00\",\"2022-09-13T00:00:00\",\"2022-09-14T00:00:00\",\"2022-09-15T00:00:00\",\"2022-09-16T00:00:00\",\"2022-09-19T00:00:00\",\"2022-09-20T00:00:00\",\"2022-09-21T00:00:00\",\"2022-09-22T00:00:00\",\"2022-09-23T00:00:00\",\"2022-09-26T00:00:00\",\"2022-09-27T00:00:00\",\"2022-09-28T00:00:00\",\"2022-09-29T00:00:00\",\"2022-09-30T00:00:00\",\"2022-10-03T00:00:00\",\"2022-10-04T00:00:00\",\"2022-10-05T00:00:00\",\"2022-10-06T00:00:00\",\"2022-10-07T00:00:00\",\"2022-10-10T00:00:00\",\"2022-10-11T00:00:00\",\"2022-10-12T00:00:00\",\"2022-10-13T00:00:00\",\"2022-10-14T00:00:00\",\"2022-10-17T00:00:00\",\"2022-10-18T00:00:00\",\"2022-10-19T00:00:00\",\"2022-10-20T00:00:00\",\"2022-10-21T00:00:00\"],\"xaxis\":\"x\",\"y\":[null,0.9658585346363503,0.965363698346474,0.954972720251545,0.9435922642410215,0.9609104637338239,0.9332013834781715,0.9460663483583241,0.956457131789095,0.9871351324519264,0.9871351324519264,0.9910935307747,0.9673428488418211,0.9579416406587238,0.961405202691621,0.9757545791093235,0.9816922252595235,1.003463659364976,1.0178129384505996,1.0009895752476734,0.9999999999999998,1.009401305515176,1.0262246687181023,1.047006430243802,1.0539336516416757,1.0549233242214284,1.0534389126838783,1.0534389126838783,1.049975253318902,1.0484908417813519,1.0341414653636494,1.0361207131910757,1.0460167576640493,1.0415635230513995,1.033151890115976,1.0237505846007997,0.9777338269367501,0.9623948752713739,0.9619000389814976,0.9381493570486187,0.9589312159063974,0.9876298714097234,1.0054428098603232,1.0197921862780257,1.0385947973083782,1.0282039165455283,1.0197921862780257,1.036615549480952,1.0371102884387493,1.0544283905994727,1.0475011692015992,1.0435428682109045,1.0465115939539253,1.042901547142062,1.0358820549332515,1.0328737150340583,1.0253527679539964,1.019335990823531,1.0313694477523827,1.0293639202636136,1.042901547142062,1.026856937903593,0.9486393218679383,0.9225667831893868,0.9290849178590246,0.9175528184693453,0.9220653283181351,0.9315919002190454,0.941619829659128,0.9391127499670283,0.9205612557006178,0.9210626132397903,0.916048648519749,0.9200598008293662,0.9025109243092216,0.907524889029263,0.9030123791804732,0.9045165491300697,0.9160486485197489,0.9220653283181353,0.9310904453477938,0.9235695955998109,0.9240709531389835,0.9240709531389835,0.9090290589788595,0.9055192642084149,0.9030123791804733,0.9070235314900905,0.896995602050008,0.8914802797907941,0.8934858072795632,0.8794468228619424,0.8774411980410942,0.8618980436738768,0.8418421847937115,0.8458533371033289,0.8408393723832877,0.8538756417225635,0.8714244209106291,0.843847712282481,0.8408393723832878,0.8403380148441153,0.8393352024336912,0.8403380148441153,0.8303100854040326,0.8147668337047362,0.8142654274995242,0.8027333767758845,0.7856859551269916,0.7886942950261848,0.793708259746226,0.7786664142521417,0.7691398910172711,0.7972180058506312,0.8067445290855019,0.7987222244662674,0.7817802134589826,0.7623887920164336,0.7603475923206937,0.7557549295048086,0.7465695065409592,0.7715742149802832,0.7649403038026187,0.7812699500345776,0.7960686599952019,0.7930068361185723,0.8542428756568095,0.8728688289636911],\"yaxis\":\"y\",\"type\":\"scatter\"},{\"hovertemplate\":\"variable=VZ<br>Date=%{x}<br>value=%{y}<extra></extra>\",\"legendgroup\":\"VZ\",\"line\":{\"color\":\"#FF6692\",\"dash\":\"solid\"},\"marker\":{\"symbol\":\"circle\"},\"mode\":\"lines\",\"name\":\"VZ\",\"orientation\":\"v\",\"showlegend\":true,\"x\":[\"2022-04-21T00:00:00\",\"2022-04-22T00:00:00\",\"2022-04-25T00:00:00\",\"2022-04-26T00:00:00\",\"2022-04-27T00:00:00\",\"2022-04-28T00:00:00\",\"2022-04-29T00:00:00\",\"2022-05-02T00:00:00\",\"2022-05-03T00:00:00\",\"2022-05-04T00:00:00\",\"2022-05-05T00:00:00\",\"2022-05-06T00:00:00\",\"2022-05-09T00:00:00\",\"2022-05-10T00:00:00\",\"2022-05-11T00:00:00\",\"2022-05-12T00:00:00\",\"2022-05-13T00:00:00\",\"2022-05-16T00:00:00\",\"2022-05-17T00:00:00\",\"2022-05-18T00:00:00\",\"2022-05-19T00:00:00\",\"2022-05-20T00:00:00\",\"2022-05-23T00:00:00\",\"2022-05-24T00:00:00\",\"2022-05-25T00:00:00\",\"2022-05-26T00:00:00\",\"2022-05-27T00:00:00\",\"2022-05-31T00:00:00\",\"2022-06-01T00:00:00\",\"2022-06-02T00:00:00\",\"2022-06-03T00:00:00\",\"2022-06-06T00:00:00\",\"2022-06-07T00:00:00\",\"2022-06-08T00:00:00\",\"2022-06-09T00:00:00\",\"2022-06-10T00:00:00\",\"2022-06-13T00:00:00\",\"2022-06-14T00:00:00\",\"2022-06-15T00:00:00\",\"2022-06-16T00:00:00\",\"2022-06-17T00:00:00\",\"2022-06-21T00:00:00\",\"2022-06-22T00:00:00\",\"2022-06-23T00:00:00\",\"2022-06-24T00:00:00\",\"2022-06-27T00:00:00\",\"2022-06-28T00:00:00\",\"2022-06-29T00:00:00\",\"2022-06-30T00:00:00\",\"2022-07-01T00:00:00\",\"2022-07-05T00:00:00\",\"2022-07-06T00:00:00\",\"2022-07-07T00:00:00\",\"2022-07-08T00:00:00\",\"2022-07-11T00:00:00\",\"2022-07-12T00:00:00\",\"2022-07-13T00:00:00\",\"2022-07-14T00:00:00\",\"2022-07-15T00:00:00\",\"2022-07-18T00:00:00\",\"2022-07-19T00:00:00\",\"2022-07-20T00:00:00\",\"2022-07-21T00:00:00\",\"2022-07-22T00:00:00\",\"2022-07-25T00:00:00\",\"2022-07-26T00:00:00\",\"2022-07-27T00:00:00\",\"2022-07-28T00:00:00\",\"2022-07-29T00:00:00\",\"2022-08-01T00:00:00\",\"2022-08-02T00:00:00\",\"2022-08-03T00:00:00\",\"2022-08-04T00:00:00\",\"2022-08-05T00:00:00\",\"2022-08-08T00:00:00\",\"2022-08-09T00:00:00\",\"2022-08-10T00:00:00\",\"2022-08-11T00:00:00\",\"2022-08-12T00:00:00\",\"2022-08-15T00:00:00\",\"2022-08-16T00:00:00\",\"2022-08-17T00:00:00\",\"2022-08-18T00:00:00\",\"2022-08-19T00:00:00\",\"2022-08-22T00:00:00\",\"2022-08-23T00:00:00\",\"2022-08-24T00:00:00\",\"2022-08-25T00:00:00\",\"2022-08-26T00:00:00\",\"2022-08-29T00:00:00\",\"2022-08-30T00:00:00\",\"2022-08-31T00:00:00\",\"2022-09-01T00:00:00\",\"2022-09-02T00:00:00\",\"2022-09-06T00:00:00\",\"2022-09-07T00:00:00\",\"2022-09-08T00:00:00\",\"2022-09-09T00:00:00\",\"2022-09-12T00:00:00\",\"2022-09-13T00:00:00\",\"2022-09-14T00:00:00\",\"2022-09-15T00:00:00\",\"2022-09-16T00:00:00\",\"2022-09-19T00:00:00\",\"2022-09-20T00:00:00\",\"2022-09-21T00:00:00\",\"2022-09-22T00:00:00\",\"2022-09-23T00:00:00\",\"2022-09-26T00:00:00\",\"2022-09-27T00:00:00\",\"2022-09-28T00:00:00\",\"2022-09-29T00:00:00\",\"2022-09-30T00:00:00\",\"2022-10-03T00:00:00\",\"2022-10-04T00:00:00\",\"2022-10-05T00:00:00\",\"2022-10-06T00:00:00\",\"2022-10-07T00:00:00\",\"2022-10-10T00:00:00\",\"2022-10-11T00:00:00\",\"2022-10-12T00:00:00\",\"2022-10-13T00:00:00\",\"2022-10-14T00:00:00\",\"2022-10-17T00:00:00\",\"2022-10-18T00:00:00\",\"2022-10-19T00:00:00\",\"2022-10-20T00:00:00\",\"2022-10-21T00:00:00\"],\"xaxis\":\"x\",\"y\":[null,0.9436466357260799,0.9140156392190834,0.8982003518453294,0.8809307501015391,0.8798400836695377,0.8416651636023917,0.8403926732013729,0.8574804509761457,0.879294681108011,0.8696600911158602,0.8774768574909912,0.8838393094960859,0.8749318766889533,0.8703872483008783,0.8736593862879344,0.8758407884974632,0.8914743212477255,0.8896564282851799,0.88874751647667,0.8925649876797268,0.9003817540548579,0.9029267348568957,0.9212870723782133,0.9314670649318907,0.9269224365438156,0.9343756243264376,0.9323759767404005,0.9343756243264376,0.9323759767404005,0.9236502985567595,0.9314670649318907,0.9389202527145126,0.937102359751967,0.9260134553897797,0.923832053180251,0.9014724898323849,0.8936557234572537,0.8934739688337622,0.8878386046681598,0.8912924972787075,0.9207417391622125,0.9232867199642504,0.9469187737131355,0.926377033982289,0.926377033982289,0.917287777206139,0.92601345538978,0.9225595627792323,0.9387384287454954,0.9347391335734211,0.9363752025669492,0.9218324055942142,0.9178331797676658,0.9180149343911573,0.9231048959952332,0.918196689014649,0.9178331797676658,0.9274677697598166,0.9140156392190831,0.9171060225826476,0.8920196544637261,0.866387953128804,0.8080349412688468,0.8136702360889232,0.8165787954834702,0.8163970408599787,0.8280312784381666,0.8396655160163545,0.8409380064173734,0.8242138072351097,0.8240320526116182,0.8076713626763377,0.8171241980449968,0.8096710102623748,0.8122159910644126,0.8151245504589596,0.8140338146814323,0.820759914624562,0.8282131024071839,0.8325759068262414,0.8242138072351096,0.8033084889117541,0.80748953870732,0.802944910319245,0.7902200063090556,0.7916742513335662,0.7951282132896398,0.7862207111369813,0.7876750255070177,0.7731321591887569,0.7600436765860584,0.7600436765860584,0.7507725958408908,0.7471368792613257,0.7467733700143425,0.7511361744334,0.7678604429611895,0.7773132089843228,0.758952940808531,0.7504090172483817,0.7458643888603067,0.7498636840323811,0.7496819294088896,0.7378658678616841,0.7176877067233468,0.725868051690987,0.718414863908365,0.7076895381386868,0.7069623809536686,0.7160516377298186,0.7024177525655935,0.6902381817714048,0.7118705879342527,0.7236866494814583,0.7162334616988363,0.6878749555928587,0.6698781966640501,0.6656971468684842,0.6533357521052781,0.6486093690937115,0.6616979210419359,0.6613343424494268,0.6758771394221618,0.6738774918361247,0.6647882350599745,0.6726050014351057,0.6421560051041082],\"yaxis\":\"y\",\"type\":\"scatter\"}],                        {\"template\":{\"data\":{\"bar\":[{\"error_x\":{\"color\":\"#2a3f5f\"},\"error_y\":{\"color\":\"#2a3f5f\"},\"marker\":{\"line\":{\"color\":\"#E5ECF6\",\"width\":0.5},\"pattern\":{\"fillmode\":\"overlay\",\"size\":10,\"solidity\":0.2}},\"type\":\"bar\"}],\"barpolar\":[{\"marker\":{\"line\":{\"color\":\"#E5ECF6\",\"width\":0.5},\"pattern\":{\"fillmode\":\"overlay\",\"size\":10,\"solidity\":0.2}},\"type\":\"barpolar\"}],\"carpet\":[{\"aaxis\":{\"endlinecolor\":\"#2a3f5f\",\"gridcolor\":\"white\",\"linecolor\":\"white\",\"minorgridcolor\":\"white\",\"startlinecolor\":\"#2a3f5f\"},\"baxis\":{\"endlinecolor\":\"#2a3f5f\",\"gridcolor\":\"white\",\"linecolor\":\"white\",\"minorgridcolor\":\"white\",\"startlinecolor\":\"#2a3f5f\"},\"type\":\"carpet\"}],\"choropleth\":[{\"colorbar\":{\"outlinewidth\":0,\"ticks\":\"\"},\"type\":\"choropleth\"}],\"contour\":[{\"colorbar\":{\"outlinewidth\":0,\"ticks\":\"\"},\"colorscale\":[[0.0,\"#0d0887\"],[0.1111111111111111,\"#46039f\"],[0.2222222222222222,\"#7201a8\"],[0.3333333333333333,\"#9c179e\"],[0.4444444444444444,\"#bd3786\"],[0.5555555555555556,\"#d8576b\"],[0.6666666666666666,\"#ed7953\"],[0.7777777777777778,\"#fb9f3a\"],[0.8888888888888888,\"#fdca26\"],[1.0,\"#f0f921\"]],\"type\":\"contour\"}],\"contourcarpet\":[{\"colorbar\":{\"outlinewidth\":0,\"ticks\":\"\"},\"type\":\"contourcarpet\"}],\"heatmap\":[{\"colorbar\":{\"outlinewidth\":0,\"ticks\":\"\"},\"colorscale\":[[0.0,\"#0d0887\"],[0.1111111111111111,\"#46039f\"],[0.2222222222222222,\"#7201a8\"],[0.3333333333333333,\"#9c179e\"],[0.4444444444444444,\"#bd3786\"],[0.5555555555555556,\"#d8576b\"],[0.6666666666666666,\"#ed7953\"],[0.7777777777777778,\"#fb9f3a\"],[0.8888888888888888,\"#fdca26\"],[1.0,\"#f0f921\"]],\"type\":\"heatmap\"}],\"heatmapgl\":[{\"colorbar\":{\"outlinewidth\":0,\"ticks\":\"\"},\"colorscale\":[[0.0,\"#0d0887\"],[0.1111111111111111,\"#46039f\"],[0.2222222222222222,\"#7201a8\"],[0.3333333333333333,\"#9c179e\"],[0.4444444444444444,\"#bd3786\"],[0.5555555555555556,\"#d8576b\"],[0.6666666666666666,\"#ed7953\"],[0.7777777777777778,\"#fb9f3a\"],[0.8888888888888888,\"#fdca26\"],[1.0,\"#f0f921\"]],\"type\":\"heatmapgl\"}],\"histogram\":[{\"marker\":{\"pattern\":{\"fillmode\":\"overlay\",\"size\":10,\"solidity\":0.2}},\"type\":\"histogram\"}],\"histogram2d\":[{\"colorbar\":{\"outlinewidth\":0,\"ticks\":\"\"},\"colorscale\":[[0.0,\"#0d0887\"],[0.1111111111111111,\"#46039f\"],[0.2222222222222222,\"#7201a8\"],[0.3333333333333333,\"#9c179e\"],[0.4444444444444444,\"#bd3786\"],[0.5555555555555556,\"#d8576b\"],[0.6666666666666666,\"#ed7953\"],[0.7777777777777778,\"#fb9f3a\"],[0.8888888888888888,\"#fdca26\"],[1.0,\"#f0f921\"]],\"type\":\"histogram2d\"}],\"histogram2dcontour\":[{\"colorbar\":{\"outlinewidth\":0,\"ticks\":\"\"},\"colorscale\":[[0.0,\"#0d0887\"],[0.1111111111111111,\"#46039f\"],[0.2222222222222222,\"#7201a8\"],[0.3333333333333333,\"#9c179e\"],[0.4444444444444444,\"#bd3786\"],[0.5555555555555556,\"#d8576b\"],[0.6666666666666666,\"#ed7953\"],[0.7777777777777778,\"#fb9f3a\"],[0.8888888888888888,\"#fdca26\"],[1.0,\"#f0f921\"]],\"type\":\"histogram2dcontour\"}],\"mesh3d\":[{\"colorbar\":{\"outlinewidth\":0,\"ticks\":\"\"},\"type\":\"mesh3d\"}],\"parcoords\":[{\"line\":{\"colorbar\":{\"outlinewidth\":0,\"ticks\":\"\"}},\"type\":\"parcoords\"}],\"pie\":[{\"automargin\":true,\"type\":\"pie\"}],\"scatter\":[{\"marker\":{\"colorbar\":{\"outlinewidth\":0,\"ticks\":\"\"}},\"type\":\"scatter\"}],\"scatter3d\":[{\"line\":{\"colorbar\":{\"outlinewidth\":0,\"ticks\":\"\"}},\"marker\":{\"colorbar\":{\"outlinewidth\":0,\"ticks\":\"\"}},\"type\":\"scatter3d\"}],\"scattercarpet\":[{\"marker\":{\"colorbar\":{\"outlinewidth\":0,\"ticks\":\"\"}},\"type\":\"scattercarpet\"}],\"scattergeo\":[{\"marker\":{\"colorbar\":{\"outlinewidth\":0,\"ticks\":\"\"}},\"type\":\"scattergeo\"}],\"scattergl\":[{\"marker\":{\"colorbar\":{\"outlinewidth\":0,\"ticks\":\"\"}},\"type\":\"scattergl\"}],\"scattermapbox\":[{\"marker\":{\"colorbar\":{\"outlinewidth\":0,\"ticks\":\"\"}},\"type\":\"scattermapbox\"}],\"scatterpolar\":[{\"marker\":{\"colorbar\":{\"outlinewidth\":0,\"ticks\":\"\"}},\"type\":\"scatterpolar\"}],\"scatterpolargl\":[{\"marker\":{\"colorbar\":{\"outlinewidth\":0,\"ticks\":\"\"}},\"type\":\"scatterpolargl\"}],\"scatterternary\":[{\"marker\":{\"colorbar\":{\"outlinewidth\":0,\"ticks\":\"\"}},\"type\":\"scatterternary\"}],\"surface\":[{\"colorbar\":{\"outlinewidth\":0,\"ticks\":\"\"},\"colorscale\":[[0.0,\"#0d0887\"],[0.1111111111111111,\"#46039f\"],[0.2222222222222222,\"#7201a8\"],[0.3333333333333333,\"#9c179e\"],[0.4444444444444444,\"#bd3786\"],[0.5555555555555556,\"#d8576b\"],[0.6666666666666666,\"#ed7953\"],[0.7777777777777778,\"#fb9f3a\"],[0.8888888888888888,\"#fdca26\"],[1.0,\"#f0f921\"]],\"type\":\"surface\"}],\"table\":[{\"cells\":{\"fill\":{\"color\":\"#EBF0F8\"},\"line\":{\"color\":\"white\"}},\"header\":{\"fill\":{\"color\":\"#C8D4E3\"},\"line\":{\"color\":\"white\"}},\"type\":\"table\"}]},\"layout\":{\"annotationdefaults\":{\"arrowcolor\":\"#2a3f5f\",\"arrowhead\":0,\"arrowwidth\":1},\"autotypenumbers\":\"strict\",\"coloraxis\":{\"colorbar\":{\"outlinewidth\":0,\"ticks\":\"\"}},\"colorscale\":{\"diverging\":[[0,\"#8e0152\"],[0.1,\"#c51b7d\"],[0.2,\"#de77ae\"],[0.3,\"#f1b6da\"],[0.4,\"#fde0ef\"],[0.5,\"#f7f7f7\"],[0.6,\"#e6f5d0\"],[0.7,\"#b8e186\"],[0.8,\"#7fbc41\"],[0.9,\"#4d9221\"],[1,\"#276419\"]],\"sequential\":[[0.0,\"#0d0887\"],[0.1111111111111111,\"#46039f\"],[0.2222222222222222,\"#7201a8\"],[0.3333333333333333,\"#9c179e\"],[0.4444444444444444,\"#bd3786\"],[0.5555555555555556,\"#d8576b\"],[0.6666666666666666,\"#ed7953\"],[0.7777777777777778,\"#fb9f3a\"],[0.8888888888888888,\"#fdca26\"],[1.0,\"#f0f921\"]],\"sequentialminus\":[[0.0,\"#0d0887\"],[0.1111111111111111,\"#46039f\"],[0.2222222222222222,\"#7201a8\"],[0.3333333333333333,\"#9c179e\"],[0.4444444444444444,\"#bd3786\"],[0.5555555555555556,\"#d8576b\"],[0.6666666666666666,\"#ed7953\"],[0.7777777777777778,\"#fb9f3a\"],[0.8888888888888888,\"#fdca26\"],[1.0,\"#f0f921\"]]},\"colorway\":[\"#636efa\",\"#EF553B\",\"#00cc96\",\"#ab63fa\",\"#FFA15A\",\"#19d3f3\",\"#FF6692\",\"#B6E880\",\"#FF97FF\",\"#FECB52\"],\"font\":{\"color\":\"#2a3f5f\"},\"geo\":{\"bgcolor\":\"white\",\"lakecolor\":\"white\",\"landcolor\":\"#E5ECF6\",\"showlakes\":true,\"showland\":true,\"subunitcolor\":\"white\"},\"hoverlabel\":{\"align\":\"left\"},\"hovermode\":\"closest\",\"mapbox\":{\"style\":\"light\"},\"paper_bgcolor\":\"white\",\"plot_bgcolor\":\"#E5ECF6\",\"polar\":{\"angularaxis\":{\"gridcolor\":\"white\",\"linecolor\":\"white\",\"ticks\":\"\"},\"bgcolor\":\"#E5ECF6\",\"radialaxis\":{\"gridcolor\":\"white\",\"linecolor\":\"white\",\"ticks\":\"\"}},\"scene\":{\"xaxis\":{\"backgroundcolor\":\"#E5ECF6\",\"gridcolor\":\"white\",\"gridwidth\":2,\"linecolor\":\"white\",\"showbackground\":true,\"ticks\":\"\",\"zerolinecolor\":\"white\"},\"yaxis\":{\"backgroundcolor\":\"#E5ECF6\",\"gridcolor\":\"white\",\"gridwidth\":2,\"linecolor\":\"white\",\"showbackground\":true,\"ticks\":\"\",\"zerolinecolor\":\"white\"},\"zaxis\":{\"backgroundcolor\":\"#E5ECF6\",\"gridcolor\":\"white\",\"gridwidth\":2,\"linecolor\":\"white\",\"showbackground\":true,\"ticks\":\"\",\"zerolinecolor\":\"white\"}},\"shapedefaults\":{\"line\":{\"color\":\"#2a3f5f\"}},\"ternary\":{\"aaxis\":{\"gridcolor\":\"white\",\"linecolor\":\"white\",\"ticks\":\"\"},\"baxis\":{\"gridcolor\":\"white\",\"linecolor\":\"white\",\"ticks\":\"\"},\"bgcolor\":\"#E5ECF6\",\"caxis\":{\"gridcolor\":\"white\",\"linecolor\":\"white\",\"ticks\":\"\"}},\"title\":{\"x\":0.05},\"xaxis\":{\"automargin\":true,\"gridcolor\":\"white\",\"linecolor\":\"white\",\"ticks\":\"\",\"title\":{\"standoff\":15},\"zerolinecolor\":\"white\",\"zerolinewidth\":2},\"yaxis\":{\"automargin\":true,\"gridcolor\":\"white\",\"linecolor\":\"white\",\"ticks\":\"\",\"title\":{\"standoff\":15},\"zerolinecolor\":\"white\",\"zerolinewidth\":2}}},\"xaxis\":{\"anchor\":\"y\",\"domain\":[0.0,1.0],\"title\":{\"text\":\"Date\"}},\"yaxis\":{\"anchor\":\"x\",\"domain\":[0.0,1.0],\"title\":{\"text\":\"value\"}},\"legend\":{\"title\":{\"text\":\"variable\"},\"tracegroupgap\":0},\"margin\":{\"t\":60}},                        {\"responsive\": true}                    ).then(function(){\n",
              "                            \n",
              "var gd = document.getElementById('69490d77-ffbd-4432-b84e-5ab0cb4a847c');\n",
              "var x = new MutationObserver(function (mutations, observer) {{\n",
              "        var display = window.getComputedStyle(gd).display;\n",
              "        if (!display || display === 'none') {{\n",
              "            console.log([gd, 'removed!']);\n",
              "            Plotly.purge(gd);\n",
              "            observer.disconnect();\n",
              "        }}\n",
              "}});\n",
              "\n",
              "// Listen for the removal of the full notebook cells\n",
              "var notebookContainer = gd.closest('#notebook-container');\n",
              "if (notebookContainer) {{\n",
              "    x.observe(notebookContainer, {childList: true});\n",
              "}}\n",
              "\n",
              "// Listen for the clearing of the current output cell\n",
              "var outputEl = gd.closest('.output');\n",
              "if (outputEl) {{\n",
              "    x.observe(outputEl, {childList: true});\n",
              "}}\n",
              "\n",
              "                        })                };                            </script>        </div>\n",
              "</body>\n",
              "</html>"
            ]
          },
          "metadata": {},
          "output_type": "display_data"
        }
      ]
    },
    {
      "cell_type": "code",
      "source": [
        "# ETFs analysis"
      ],
      "metadata": {
        "id": "I0NC5ucZNf22"
      },
      "execution_count": 37,
      "outputs": []
    },
    {
      "cell_type": "code",
      "source": [
        "def check_fundamentals_data_etfs(df, dict_rules_fundamentals):  \n",
        "  \n",
        "  rules_broken_by_symbol = []\n",
        "  metric_broken_by_symbol = {}\n",
        "\n",
        "  for symbol in df.index:\n",
        "    count_broken_rules = 0\n",
        "    tmp_metrics = []         \n",
        "    \n",
        "    for metric in df.columns:                                               \n",
        "      if metric in dict_rules_fundamentals:                        \n",
        "        if df.loc[symbol,metric] is not None:                        \n",
        "          if df.loc[symbol,metric] < dict_rules_fundamentals[metric]:\n",
        "            count_broken_rules += 1 \n",
        "            tmp_metrics.append(df.loc[symbol,metric])\n",
        "            tmp_metrics.append(dict_rules_fundamentals[metric])              \n",
        "            metric_broken_by_symbol[symbol] = tmp_metrics\n",
        "          if metric == \"beta3Year\":\n",
        "            if df.loc[symbol,metric] > 1.2:\n",
        "              count_broken_rules += 1\n",
        "              tmp_metrics.append(df.loc[symbol,metric])\n",
        "              tmp_metrics.append(dict_rules_fundamentals[metric])\n",
        "              metric_broken_by_symbol[symbol] = tmp_metrics\n",
        "      if count_broken_rules >= 3: # number of rules that was broken        \n",
        "        rules_broken_by_symbol.append(symbol)\n",
        "      else:\n",
        "        if symbol in metric_broken_by_symbol.keys():\n",
        "          metric_broken_by_symbol.pop(symbol) \n",
        "    \n",
        "    #try:      \n",
        "    #except Exception as e:\n",
        "    #  print (symbol, 'not found')\n",
        "\n",
        "  # Useful data\n",
        "  print(\"Stocks that broken the rules: \") \n",
        "  #print(metric_broken_by_symbol)\n",
        "  #print(json.dumps(metric_broken_by_symbol, sort_keys=True, indent=4))\n",
        "  check_peformace_last_months(rules_broken_by_symbol)"
      ],
      "metadata": {
        "id": "2mr0lzUcHX4r"
      },
      "execution_count": 38,
      "outputs": []
    },
    {
      "cell_type": "code",
      "source": [
        "# https://www.investopedia.com/terms/b/beta.asp\n",
        "# Note pegratio and others were removed\n",
        "# they have none values\n",
        "metric_ETFs = [\n",
        "    'quoteType',\n",
        "    'beta3Year',\n",
        "    'trailingAnnualDividendYield',\n",
        "    'yield', \n",
        "    'marketCap', \n",
        "    'totalAssets',\n",
        "    'averageVolume',\n",
        "    'category'\n",
        "]"
      ],
      "metadata": {
        "id": "aDNw7v_qd9dr"
      },
      "execution_count": 39,
      "outputs": []
    },
    {
      "cell_type": "code",
      "source": [
        "# Defining rules to check fundamentals\n",
        "# gt -> great than >= \n",
        "rulesFundmentals_gt_etfs = {\n",
        "    'beta3Year' : 1.1,\n",
        "    'trailingAnnualDividendYield' : 0.011,\n",
        "    'yield' : 0.011,\n",
        "    'totalAssets' : 4730926080,\n",
        "    'averageVolume' : 621942\n",
        "}"
      ],
      "metadata": {
        "id": "b9fESRHV6oBA"
      },
      "execution_count": 40,
      "outputs": []
    },
    {
      "cell_type": "code",
      "source": [
        "ticket_etfs_shares = ['VOO', 'VNQ', 'CIBR']"
      ],
      "metadata": {
        "id": "nxG1GUv11c-2"
      },
      "execution_count": 41,
      "outputs": []
    },
    {
      "cell_type": "code",
      "source": [
        "df_etfs = pd.DataFrame(index=ticket_etfs_shares,columns=metric_ETFs)"
      ],
      "metadata": {
        "id": "Dpb_wERn1VFN"
      },
      "execution_count": 42,
      "outputs": []
    },
    {
      "cell_type": "code",
      "source": [
        "df_etfs = get_fundamental_data(df_etfs)"
      ],
      "metadata": {
        "colab": {
          "base_uri": "https://localhost:8080/"
        },
        "id": "4g3mAR_U1vM9",
        "outputId": "d791011f-4521-48f0-c3cb-de25c8617f3d"
      },
      "execution_count": 43,
      "outputs": [
        {
          "output_type": "stream",
          "name": "stdout",
          "text": [
            "Getting symbol: VOO\n",
            "Getting symbol: VNQ\n",
            "Getting symbol: CIBR\n"
          ]
        }
      ]
    },
    {
      "cell_type": "code",
      "source": [
        "df_etfs"
      ],
      "metadata": {
        "id": "e5vIHtCgSkTb"
      },
      "execution_count": null,
      "outputs": []
    },
    {
      "cell_type": "code",
      "source": [
        "check_fundamentals_data_etfs(df_etfs, rulesFundmentals_gt_etfs)"
      ],
      "metadata": {
        "id": "DT1wBhZI7zqg"
      },
      "execution_count": null,
      "outputs": []
    },
    {
      "cell_type": "code",
      "source": [
        "# https://kernc.github.io/backtesting.py/doc/examples/Parameter%20Heatmap.html\n",
        "# https://towardsdatascience.com/better-heatmaps-and-correlation-matrix-plots-in-python-41445d0f2bec\n",
        "# "
      ],
      "metadata": {
        "id": "9RnY7W-j1Gr8"
      },
      "execution_count": null,
      "outputs": []
    }
  ]
}